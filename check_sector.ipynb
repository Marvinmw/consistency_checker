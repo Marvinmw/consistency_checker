{
 "cells": [
  {
   "cell_type": "code",
   "execution_count": 1,
   "metadata": {},
   "outputs": [],
   "source": [
    "v0 = \"The total supply of $SECT tokens is fixed at 100 million, and no more tokens will be created in the future.\"\n",
    "\n",
    "v1 = \"Performance fee (defaults to 10%)\"\n",
    "\n",
    "v2 = \"Management fee (defaults to 0%)\"\n",
    "\n",
    "v3 = \"To limit losses, our strategy automatically rebalances the portfolio if the price shifts around 8% in either direction, limiting our losses to about .08% for each interval.\"\n",
    "\n",
    "sector =[v0, v1, v2, v3]"
   ]
  },
  {
   "cell_type": "code",
   "execution_count": 3,
   "metadata": {},
   "outputs": [
    {
     "name": "stdout",
     "output_type": "stream",
     "text": [
      "['repo_check/ico/sector-contracts/src/SectorRegistry.sol', 'repo_check/ico/sector-contracts/src/SectorFactory.sol', 'repo_check/ico/sector-contracts/src/SectorBeacon.sol', 'repo_check/ico/sector-contracts/src/SectorBeaconProxy.sol', 'repo_check/ico/sector-contracts/src/SectorTimelock.sol', 'repo_check/ico/sector-contracts/src/strategies/imx/IMXCore.sol', 'repo_check/ico/sector-contracts/src/strategies/imx/IMX.sol', 'repo_check/ico/sector-contracts/src/strategies/imx/IMXFarm.sol', 'repo_check/ico/sector-contracts/src/strategies/adapters/CompoundFarm.sol', 'repo_check/ico/sector-contracts/src/strategies/adapters/CompMultiFarm.sol', 'repo_check/ico/sector-contracts/src/strategies/adapters/MiniChef2Farm.sol', 'repo_check/ico/sector-contracts/src/strategies/adapters/StarChefFarm.sol', 'repo_check/ico/sector-contracts/src/strategies/adapters/MiniChefFarm.sol', 'repo_check/ico/sector-contracts/src/strategies/adapters/MasterChefFarm.sol', 'repo_check/ico/sector-contracts/src/strategies/adapters/Compound.sol', 'repo_check/ico/sector-contracts/src/strategies/modules/camelot/sectGrail.sol', 'repo_check/ico/sector-contracts/src/strategies/modules/camelot/CamelotFarm.sol', 'repo_check/ico/sector-contracts/src/strategies/modules/camelot/CamelotSectGrailFarm.sol', 'repo_check/ico/sector-contracts/src/strategies/modules/camelot/interfaces/ISectGrail.sol', 'repo_check/ico/sector-contracts/src/strategies/modules/camelot/interfaces/INFTHandler.sol', 'repo_check/ico/sector-contracts/src/strategies/modules/camelot/interfaces/INitroFarm.sol', 'repo_check/ico/sector-contracts/src/strategies/modules/camelot/interfaces/ICamelotRouter.sol', 'repo_check/ico/sector-contracts/src/strategies/modules/camelot/interfaces/IXGrailToken.sol', 'repo_check/ico/sector-contracts/src/strategies/modules/camelot/interfaces/INFTPool.sol', 'repo_check/ico/sector-contracts/src/strategies/modules/camelot/interfaces/IYieldBooster.sol', 'repo_check/ico/sector-contracts/src/strategies/modules/camelot/interfaces/ICamelotMaster.sol', 'repo_check/ico/sector-contracts/src/strategies/modules/aave/AaveFarm.sol', 'repo_check/ico/sector-contracts/src/strategies/modules/aave/AaveModule.sol', 'repo_check/ico/sector-contracts/src/strategies/modules/aave/interfaces/IPool.sol', 'repo_check/ico/sector-contracts/src/strategies/modules/aave/interfaces/IAToken.sol', 'repo_check/ico/sector-contracts/src/strategies/modules/aave/interfaces/IPoolAddressesProvider.sol', 'repo_check/ico/sector-contracts/src/strategies/modules/aave/interfaces/IAaveOracle.sol', 'repo_check/ico/sector-contracts/src/strategies/modules/aave/libraries/ReserveConfiguration.sol', 'repo_check/ico/sector-contracts/src/strategies/modules/aave/libraries/DataTypes.sol', 'repo_check/ico/sector-contracts/src/strategies/modules/solidly/VeloV2Farm.sol', 'repo_check/ico/sector-contracts/src/strategies/modules/solidly/SolidlyFarm.sol', 'repo_check/ico/sector-contracts/src/strategies/modules/solidly/interfaces/IVeloV2Router.sol', 'repo_check/ico/sector-contracts/src/strategies/modules/solidly/interfaces/IVeloV2Gauge.sol', 'repo_check/ico/sector-contracts/src/strategies/modules/solidly/interfaces/ISolidlyGauge.sol', 'repo_check/ico/sector-contracts/src/strategies/modules/solidly/interfaces/ISolidlyRouter.sol', 'repo_check/ico/sector-contracts/src/strategies/mixins/IFarmable.sol', 'repo_check/ico/sector-contracts/src/strategies/mixins/IIMXFarm.sol', 'repo_check/ico/sector-contracts/src/strategies/mixins/ILending.sol', 'repo_check/ico/sector-contracts/src/strategies/mixins/IUniFarm.sol', 'repo_check/ico/sector-contracts/src/strategies/mixins/IUniLp.sol', 'repo_check/ico/sector-contracts/src/strategies/mixins/IFarmable copy.sol', 'repo_check/ico/sector-contracts/src/strategies/mixins/ILp.sol', 'repo_check/ico/sector-contracts/src/strategies/mixins/IBase.sol', 'repo_check/ico/sector-contracts/src/strategies/mixins/ICompound.sol', 'repo_check/ico/sector-contracts/src/strategies/hlp/CamelotAave.sol', 'repo_check/ico/sector-contracts/src/strategies/hlp/SolidlyAave.sol', 'repo_check/ico/sector-contracts/src/strategies/hlp/MiniChefAave.sol', 'repo_check/ico/sector-contracts/src/strategies/hlp/VeloV2Aave.sol', 'repo_check/ico/sector-contracts/src/strategies/hlp/HLPCore.sol', 'repo_check/ico/sector-contracts/src/strategies/hlp/MasterChefCompMulti.sol', 'repo_check/ico/sector-contracts/src/strategies/gearbox/levConvex3Crv.sol', 'repo_check/ico/sector-contracts/src/strategies/gearbox/ILevConvex.sol', 'repo_check/ico/sector-contracts/src/strategies/gearbox/levConvex.sol', 'repo_check/ico/sector-contracts/src/strategies/gearbox/levConvexBase.sol', 'repo_check/ico/sector-contracts/src/strategies/lending/StargateStrategy.sol', 'repo_check/ico/sector-contracts/src/strategies/lending/IMXLendStrategy.sol', 'repo_check/ico/sector-contracts/src/strategies/lending/SynapseStrategy.sol', 'repo_check/ico/sector-contracts/src/strategies/lending/StargateETHStrategy.sol', 'repo_check/ico/sector-contracts/src/xChain/XChainIntegrator.sol', 'repo_check/ico/sector-contracts/src/xChain/LayerZeroPostman.sol', 'repo_check/ico/sector-contracts/src/xChain/MultichainPostman.sol', 'repo_check/ico/sector-contracts/src/vaults/ERC5115/SCYBase.sol', 'repo_check/ico/sector-contracts/src/vaults/ERC5115/SCYVault.sol', 'repo_check/ico/sector-contracts/src/vaults/ERC5115/SCYVaultU.sol', 'repo_check/ico/sector-contracts/src/vaults/ERC5115/SCYWEpochVault.sol', 'repo_check/ico/sector-contracts/src/vaults/ERC5115/SCYWEpochVaultU.sol', 'repo_check/ico/sector-contracts/src/vaults/ERC5115/SCYBaseU.sol', 'repo_check/ico/sector-contracts/src/vaults/ERC4626/SectorBase.sol', 'repo_check/ico/sector-contracts/src/vaults/ERC4626/ERC4626U.sol', 'repo_check/ico/sector-contracts/src/vaults/ERC4626/SectorBaseWEpoch.sol', 'repo_check/ico/sector-contracts/src/vaults/ERC4626/SectorBaseWEpochU.sol', 'repo_check/ico/sector-contracts/src/vaults/ERC4626/ERC4626.sol', 'repo_check/ico/sector-contracts/src/vaults/ERC4626/SectorBaseU.sol', 'repo_check/ico/sector-contracts/src/vaults/sectorVaults/SectorVault.sol', 'repo_check/ico/sector-contracts/src/vaults/sectorVaults/AggregatorVault.sol', 'repo_check/ico/sector-contracts/src/vaults/sectorVaults/AggregatorWEpochVault.sol', 'repo_check/ico/sector-contracts/src/vaults/sectorVaults/AggregatorWEpochVaultU.sol', 'repo_check/ico/sector-contracts/src/vaults/sectorVaults/SectorXVault.sol', 'repo_check/ico/sector-contracts/src/vaults/sectorVaults/AggregatorVaultU.sol', 'repo_check/ico/sector-contracts/src/common/StratAuthLight.sol', 'repo_check/ico/sector-contracts/src/common/FeesU.sol', 'repo_check/ico/sector-contracts/src/common/StratAuth.sol', 'repo_check/ico/sector-contracts/src/common/Fees.sol', 'repo_check/ico/sector-contracts/src/common/Accounting.sol', 'repo_check/ico/sector-contracts/src/common/AuthU.sol', 'repo_check/ico/sector-contracts/src/common/Auth.sol', 'repo_check/ico/sector-contracts/src/common/BatchedWithdraw.sol', 'repo_check/ico/sector-contracts/src/common/OwnableTransfer.sol', 'repo_check/ico/sector-contracts/src/common/BatchedWithdrawEpoch.sol']\n"
     ]
    }
   ],
   "source": [
    "from utils.constant_checker import checkRevenueModel, dict_to_markdown\n",
    "import glob\n",
    "\n",
    "tokenomic_file_list=[f for f in glob.glob(\"repo_check/ico/sector-contracts/src/**/**.sol\", recursive=True)]\n",
    "print(tokenomic_file_list)\n",
    "conversion = 10 ** 18\n",
    "\n",
    "var_names_chatgpt = {\n",
    "    \"v0\": ([\"SECT_TOTAL_SUPPLY\", \"MAX_SECT_TOKENS\", \"SECT_FIXED_SUPPLY\"], \"100000000\", conversion, v0),\n",
    "    \"v1\": ([\"defaultPerformanceFee\", \"performanceFeePercentage\", \"basePerformanceFee\"], \"0.1\", conversion, v1),\n",
    "    \"v2\": ([\"managementFee\", \"defaultManagementFee\", \"adminFeePercentage\"], \"0\", conversion, v2),\n",
    "    \"v3\": ([\"rebalanceThreshold\",\"maxPriceShiftPercent\",\"lossLimitPerInterval\"], \"0.08\", conversion, v3)\n",
    "}\n",
    "\n"
   ]
  },
  {
   "cell_type": "code",
   "execution_count": 4,
   "metadata": {},
   "outputs": [
    {
     "name": "stdout",
     "output_type": "stream",
     "text": [
      "MAX_STRATS\n",
      "[{'start': (20, 1), 'code': '100', 'code_type': 'uint8', 'raw_code': b'uint8 constant MAX_STRATS = 100;', 'pos': ((20, 1), (20, 33))}]\n",
      "_nTokens\n",
      "[{'start': (41, 1), 'code': 'ISynapseSwap ( synapsePool ) . calculateRemoveLiquidity ( 1 ) . length', 'code_type': '_nTokens', 'raw_code': b'_nTokens = ISynapseSwap ( synapsePool ) . calculateRemoveLiquidity ( 1 ) . length', 'pos': ((41, 1), (41, 82))}]\n",
      "100000000\n",
      "Skip No-expression Var ISynapseSwap ( synapsePool ) . calculateRemoveLiquidity ( 1 ) . length\n",
      "MAX_VALID_DECIMALS\n",
      "[{'start': (43, 1), 'code': '255', 'code_type': 'uint256', 'raw_code': b'uint256 internal constant MAX_VALID_DECIMALS = 255;', 'pos': ((43, 1), (43, 52))}]\n",
      "MAX_VALID_LIQUIDATION_THRESHOLD\n",
      "[{'start': (41, 1), 'code': '65535', 'code_type': 'uint256', 'raw_code': b'uint256 internal constant MAX_VALID_LIQUIDATION_THRESHOLD = 65535;', 'pos': ((41, 1), (41, 67))}]\n",
      "MAX_RESERVES_COUNT\n",
      "[{'start': (52, 1), 'code': '128', 'code_type': 'uint16', 'raw_code': b'uint16 public constant MAX_RESERVES_COUNT = 128;', 'pos': ((52, 1), (52, 49))}]\n",
      "[{'info': (['SECT_TOTAL_SUPPLY', 'MAX_SECT_TOKENS', 'SECT_FIXED_SUPPLY'], '100000000', 1000000000000000000, 'The total supply of $SECT tokens is fixed at 100 million, and no more tokens will be created in the future.'), 'Is the fee found': 'No', 'matched_var_name': 'MAX_STRATS', 'matched_var_exp': 'MAX_STRATS = 100', 'isEq': False}, {'info': (['SECT_TOTAL_SUPPLY', 'MAX_SECT_TOKENS', 'SECT_FIXED_SUPPLY'], '100000000', 1000000000000000000, 'The total supply of $SECT tokens is fixed at 100 million, and no more tokens will be created in the future.'), 'Is the fee found': 'No', 'matched_var_name': 'MAX_VALID_DECIMALS', 'matched_var_exp': 'MAX_VALID_DECIMALS = 255', 'isEq': False}, {'info': (['SECT_TOTAL_SUPPLY', 'MAX_SECT_TOKENS', 'SECT_FIXED_SUPPLY'], '100000000', 1000000000000000000, 'The total supply of $SECT tokens is fixed at 100 million, and no more tokens will be created in the future.'), 'Is the fee found': 'No', 'matched_var_name': 'MAX_VALID_LIQUIDATION_THRESHOLD', 'matched_var_exp': 'MAX_VALID_LIQUIDATION_THRESHOLD = 65535', 'isEq': False}, {'info': (['SECT_TOTAL_SUPPLY', 'MAX_SECT_TOKENS', 'SECT_FIXED_SUPPLY'], '100000000', 1000000000000000000, 'The total supply of $SECT tokens is fixed at 100 million, and no more tokens will be created in the future.'), 'Is the fee found': 'No', 'matched_var_name': 'MAX_RESERVES_COUNT', 'matched_var_exp': 'MAX_RESERVES_COUNT = 128', 'isEq': False}]\n",
      "info=(['SECT_TOTAL_SUPPLY', 'MAX_SECT_TOKENS', 'SECT_FIXED_SUPPLY'], '100000000', 1000000000000000000, 'The total supply of $SECT tokens is fixed at 100 million, and no more tokens will be created in the future.'), Is the fee found='No', matched_var_name='MAX_STRATS', matched_var_exp='MAX_STRATS = 100', isEq=False\n",
      "performanceFee\n",
      "[{'start': (9, 1), 'code': '', 'code_type': 'uint256', 'raw_code': b'uint256 public performanceFee ;', 'pos': ((9, 1), (9, 32))}]\n",
      "0.1\n",
      "managementFee\n",
      "[{'start': (10, 1), 'code': '', 'code_type': 'uint256', 'raw_code': b'uint256 public managementFee ;', 'pos': ((10, 1), (10, 31))}]\n",
      "0.1\n",
      "maxDefaultPriceMismatch\n",
      "[{'start': (49, 1), 'code': '100', 'code_type': 'uint256', 'raw_code': b'uint256 public maxDefaultPriceMismatch = 100;', 'pos': ((49, 1), (49, 46))}]\n",
      "maxBridgeFeeAllowed\n",
      "[{'start': (18, 1), 'code': '', 'code_type': 'uint256', 'raw_code': b'uint256 public maxBridgeFeeAllowed ;', 'pos': ((18, 1), (18, 37))}]\n",
      "0.1\n",
      "depositQueue\n",
      "[{'start': (23, 1), 'code': '', 'code_type': 'Message', 'raw_code': b'Message [ ] internal depositQueue ;', 'pos': ((23, 1), (23, 36))}]\n",
      "0.1\n",
      "[{'info': (['defaultPerformanceFee', 'performanceFeePercentage', 'basePerformanceFee'], '0.1', 1000000000000000000, 'Performance fee (defaults to 10%)'), 'Is the fee found': 'No', 'matched_var_name': 'performanceFee', 'matched_var_exp': 'performanceFee = ', 'isEq': False}, {'info': (['defaultPerformanceFee', 'performanceFeePercentage', 'basePerformanceFee'], '0.1', 1000000000000000000, 'Performance fee (defaults to 10%)'), 'Is the fee found': 'No', 'matched_var_name': 'managementFee', 'matched_var_exp': 'managementFee = ', 'isEq': False}, {'info': (['defaultPerformanceFee', 'performanceFeePercentage', 'basePerformanceFee'], '0.1', 1000000000000000000, 'Performance fee (defaults to 10%)'), 'Is the fee found': 'No', 'matched_var_name': 'maxDefaultPriceMismatch', 'matched_var_exp': 'maxDefaultPriceMismatch = 100', 'isEq': False}, {'info': (['defaultPerformanceFee', 'performanceFeePercentage', 'basePerformanceFee'], '0.1', 1000000000000000000, 'Performance fee (defaults to 10%)'), 'Is the fee found': 'No', 'matched_var_name': 'maxBridgeFeeAllowed', 'matched_var_exp': 'maxBridgeFeeAllowed = ', 'isEq': False}, {'info': (['defaultPerformanceFee', 'performanceFeePercentage', 'basePerformanceFee'], '0.1', 1000000000000000000, 'Performance fee (defaults to 10%)'), 'Is the fee found': 'No', 'matched_var_name': 'depositQueue', 'matched_var_exp': 'depositQueue = ', 'isEq': False}]\n",
      "info=(['defaultPerformanceFee', 'performanceFeePercentage', 'basePerformanceFee'], '0.1', 1000000000000000000, 'Performance fee (defaults to 10%)'), Is the fee found='No', matched_var_name='performanceFee', matched_var_exp='performanceFee = ', isEq=False\n",
      "managementFee\n",
      "[{'start': (10, 1), 'code': '', 'code_type': 'uint256', 'raw_code': b'uint256 public managementFee ;', 'pos': ((10, 1), (10, 31))}]\n",
      "0\n",
      "performanceFee\n",
      "[{'start': (9, 1), 'code': '', 'code_type': 'uint256', 'raw_code': b'uint256 public performanceFee ;', 'pos': ((9, 1), (9, 32))}]\n",
      "0\n",
      "creditManager\n",
      "[{'start': (74, 1), 'code': 'ICreditManagerV2 ( creditManager ( ) )', 'code_type': 'creditManager', 'raw_code': b'creditManager = ICreditManagerV2 ( creditFacade . creditManager ( ) )', 'pos': ((74, 1), (74, 70))}]\n",
      "0\n",
      "maxDefaultPriceMismatch\n",
      "[{'start': (49, 1), 'code': '100', 'code_type': 'uint256', 'raw_code': b'uint256 public maxDefaultPriceMismatch = 100;', 'pos': ((49, 1), (49, 46))}]\n",
      "MANAGER\n",
      "[{'start': (8, 1), 'code': 'keccak256 ( \"MANAGER\" \" \" )', 'code_type': 'bytes32', 'raw_code': b'bytes32 public constant MANAGER = keccak256 ( \"MANAGER\" \" \" ) ;', 'pos': ((8, 1), (8, 64))}]\n",
      "0\n",
      "[{'info': (['managementFee', 'defaultManagementFee', 'adminFeePercentage'], '0', 1000000000000000000, 'Management fee (defaults to 0%)'), 'Is the fee found': 'No', 'matched_var_name': 'managementFee', 'matched_var_exp': 'managementFee = ', 'isEq': False}, {'info': (['managementFee', 'defaultManagementFee', 'adminFeePercentage'], '0', 1000000000000000000, 'Management fee (defaults to 0%)'), 'Is the fee found': 'No', 'matched_var_name': 'performanceFee', 'matched_var_exp': 'performanceFee = ', 'isEq': False}, {'info': (['managementFee', 'defaultManagementFee', 'adminFeePercentage'], '0', 1000000000000000000, 'Management fee (defaults to 0%)'), 'Is the fee found': 'No', 'matched_var_name': 'creditManager', 'matched_var_exp': 'creditManager = ICreditManagerV2 ( creditManager ( ) )', 'isEq': Eq(ICreditManagerV2(creditManager()), 0)}, {'info': (['managementFee', 'defaultManagementFee', 'adminFeePercentage'], '0', 1000000000000000000, 'Management fee (defaults to 0%)'), 'Is the fee found': 'No', 'matched_var_name': 'maxDefaultPriceMismatch', 'matched_var_exp': 'maxDefaultPriceMismatch = 100', 'isEq': False}, {'info': (['managementFee', 'defaultManagementFee', 'adminFeePercentage'], '0', 1000000000000000000, 'Management fee (defaults to 0%)'), 'Is the fee found': 'No', 'matched_var_name': 'MANAGER', 'matched_var_exp': 'MANAGER = keccak256 ( \"MANAGER\" \" \" )', 'isEq': Eq(keccak256(MANAGER), 0)}]\n",
      "info=(['managementFee', 'defaultManagementFee', 'adminFeePercentage'], '0', 1000000000000000000, 'Management fee (defaults to 0%)'), Is the fee found='No', matched_var_name='managementFee', matched_var_exp='managementFee = ', isEq=False\n",
      "rebalanceThreshold\n",
      "[{'start': (52, 1), 'code': '400', 'code_type': 'uint16', 'raw_code': b'uint16 public rebalanceThreshold = 400;', 'pos': ((52, 1), (52, 40))}]\n",
      "REBALANCE\n",
      "[{'start': (42, 1), 'code': '2', 'code_type': 'uint8', 'raw_code': b'uint8 public constant REBALANCE = 2;', 'pos': ((42, 1), (42, 37))}]\n",
      "maxPriceOffset\n",
      "[{'start': (44, 1), 'code': '2000', 'code_type': 'uint256', 'raw_code': b'uint256 public constant maxPriceOffset = 2000;', 'pos': ((44, 1), (44, 47))}]\n",
      "REBALANCE_LOAN\n",
      "[{'start': (41, 1), 'code': '1', 'code_type': 'uint8', 'raw_code': b'uint8 public constant REBALANCE_LOAN = 1;', 'pos': ((41, 1), (41, 42))}]\n",
      "maxDefaultPriceMismatch\n",
      "[{'start': (49, 1), 'code': '100', 'code_type': 'uint256', 'raw_code': b'uint256 public maxDefaultPriceMismatch = 100;', 'pos': ((49, 1), (49, 46))}]\n",
      "[{'info': (['rebalanceThreshold', 'maxPriceShiftPercent', 'lossLimitPerInterval'], '0.08', 1000000000000000000, 'To limit losses, our strategy automatically rebalances the portfolio if the price shifts around 8% in either direction, limiting our losses to about .08% for each interval.'), 'Is the fee found': 'No', 'matched_var_name': 'rebalanceThreshold', 'matched_var_exp': 'rebalanceThreshold = 400', 'isEq': False}, {'info': (['rebalanceThreshold', 'maxPriceShiftPercent', 'lossLimitPerInterval'], '0.08', 1000000000000000000, 'To limit losses, our strategy automatically rebalances the portfolio if the price shifts around 8% in either direction, limiting our losses to about .08% for each interval.'), 'Is the fee found': 'No', 'matched_var_name': 'REBALANCE', 'matched_var_exp': 'REBALANCE = 2', 'isEq': False}, {'info': (['rebalanceThreshold', 'maxPriceShiftPercent', 'lossLimitPerInterval'], '0.08', 1000000000000000000, 'To limit losses, our strategy automatically rebalances the portfolio if the price shifts around 8% in either direction, limiting our losses to about .08% for each interval.'), 'Is the fee found': 'No', 'matched_var_name': 'maxPriceOffset', 'matched_var_exp': 'maxPriceOffset = 2000', 'isEq': False}, {'info': (['rebalanceThreshold', 'maxPriceShiftPercent', 'lossLimitPerInterval'], '0.08', 1000000000000000000, 'To limit losses, our strategy automatically rebalances the portfolio if the price shifts around 8% in either direction, limiting our losses to about .08% for each interval.'), 'Is the fee found': 'No', 'matched_var_name': 'REBALANCE_LOAN', 'matched_var_exp': 'REBALANCE_LOAN = 1', 'isEq': False}, {'info': (['rebalanceThreshold', 'maxPriceShiftPercent', 'lossLimitPerInterval'], '0.08', 1000000000000000000, 'To limit losses, our strategy automatically rebalances the portfolio if the price shifts around 8% in either direction, limiting our losses to about .08% for each interval.'), 'Is the fee found': 'No', 'matched_var_name': 'maxDefaultPriceMismatch', 'matched_var_exp': 'maxDefaultPriceMismatch = 100', 'isEq': False}]\n",
      "info=(['rebalanceThreshold', 'maxPriceShiftPercent', 'lossLimitPerInterval'], '0.08', 1000000000000000000, 'To limit losses, our strategy automatically rebalances the portfolio if the price shifts around 8% in either direction, limiting our losses to about .08% for each interval.'), Is the fee found='No', matched_var_name='rebalanceThreshold', matched_var_exp='rebalanceThreshold = 400', isEq=False\n"
     ]
    },
    {
     "data": {
      "text/plain": [
       "\"## whitepaper\\n\\n### Item v0\\n\\n   &ensp;**info**\\n '  &emsp; \\n- Description: The total supply of $SECT tokens is fixed at 100 million, and no more tokens will be created in the future. \\n   - Possible Var Names from ChatGPT: ['SECT_TOTAL_SUPPLY', 'MAX_SECT_TOKENS', 'SECT_FIXED_SUPPLY'] \\n   - Expression:  100000000 \\n'\\n\\n   &ensp;**Is the fee found**\\n '   No'\\n\\n   &ensp;**matched_var_name**\\n '   MAX_STRATS'\\n\\n   &ensp;**matched_var_exp**\\n '   MAX_STRATS = 100'\\n\\n   &ensp;**isEq**\\n '   False'\\n\\n### Item v1\\n\\n   &ensp;**info**\\n '  &emsp; \\n- Description: Performance fee (defaults to 10%) \\n   - Possible Var Names from ChatGPT: ['defaultPerformanceFee', 'performanceFeePercentage', 'basePerformanceFee'] \\n   - Expression:  0.1 \\n'\\n\\n   &ensp;**Is the fee found**\\n '   No'\\n\\n   &ensp;**matched_var_name**\\n '   performanceFee'\\n\\n   &ensp;**matched_var_exp**\\n '   performanceFee = '\\n\\n   &ensp;**isEq**\\n '   False'\\n\\n### Item v2\\n\\n   &ensp;**info**\\n '  &emsp; \\n- Description: Management fee (defaults to 0%) \\n   - Possible Var Names from ChatGPT: ['managementFee', 'defaultManagementFee', 'adminFeePercentage'] \\n   - Expression:  0 \\n'\\n\\n   &ensp;**Is the fee found**\\n '   No'\\n\\n   &ensp;**matched_var_name**\\n '   managementFee'\\n\\n   &ensp;**matched_var_exp**\\n '   managementFee = '\\n\\n   &ensp;**isEq**\\n '   False'\\n\\n### Item v3\\n\\n   &ensp;**info**\\n '  &emsp; \\n- Description: To limit losses, our strategy automatically rebalances the portfolio if the price shifts around 8% in either direction, limiting our losses to about .08% for each interval. \\n   - Possible Var Names from ChatGPT: ['rebalanceThreshold', 'maxPriceShiftPercent', 'lossLimitPerInterval'] \\n   - Expression:  0.08 \\n'\\n\\n   &ensp;**Is the fee found**\\n '   No'\\n\\n   &ensp;**matched_var_name**\\n '   rebalanceThreshold'\\n\\n   &ensp;**matched_var_exp**\\n '   rebalanceThreshold = 400'\\n\\n   &ensp;**isEq**\\n '   False'\\n\\n\\n## hidden_fee_function\\n\\n\\n## hidden_fee_var\\n\\n### INTEREST_RATE_MODE_VARIABLE\\n\\n  &ensp;** Possible Values **:\\n '2'\\n\\n### LIQUIDATION_PROTOCOL_FEE_MASK\\n\\n  &ensp;** Possible Values **:\\n '0xFFFFFFFFFFFFFFFFFFFFFF0000FFFFFFFFFFFFFFFFFFFFFFFFFFFFFFFFFFFFFF'\\n\\n### LIQUIDATION_PROTOCOL_FEE_START_BIT_POSITION\\n\\n  &ensp;** Possible Values **:\\n '152'\\n\\n### MAX_VALID_LIQUIDATION_PROTOCOL_FEE\\n\\n  &ensp;** Possible Values **:\\n '65535'\\n\\n### MAX_MANAGEMENT_FEE\\n\\n  &ensp;** Possible Values **:\\n '.05e18'\\n\\n### MAX_PERFORMANCE_FEE\\n\\n  &ensp;** Possible Values **:\\n '.25e18'\\n\\n### epochExchangeRate_epoch_\\n\\n  &ensp;** Possible Values **:\\n 'exchangeRate'\\n\\n### exchangeRate\\n\\n  &ensp;** Possible Values **:\\n 'mulDivDown(1000000000000000000000000000000000000.0, 0)'\\n\\n\\n\""
      ]
     },
     "execution_count": 4,
     "metadata": {},
     "output_type": "execute_result"
    }
   ],
   "source": [
    "check_res, ContractStates = checkRevenueModel(var_names_chatgpt, file_list=tokenomic_file_list,top_K = 5)\n",
    "dict_to_markdown(check_res, \"./repo_check/ico/sector-contracts/revenue_sector.md\")"
   ]
  }
 ],
 "metadata": {
  "kernelspec": {
   "display_name": "torch",
   "language": "python",
   "name": "python3"
  },
  "language_info": {
   "codemirror_mode": {
    "name": "ipython",
    "version": 3
   },
   "file_extension": ".py",
   "mimetype": "text/x-python",
   "name": "python",
   "nbconvert_exporter": "python",
   "pygments_lexer": "ipython3",
   "version": "3.10.12"
  }
 },
 "nbformat": 4,
 "nbformat_minor": 2
}
