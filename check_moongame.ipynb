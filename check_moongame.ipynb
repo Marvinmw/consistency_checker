{
 "cells": [
  {
   "attachments": {},
   "cell_type": "markdown",
   "metadata": {},
   "source": [
    "8.5% AUTOMATIC DISTRIBUTION\n",
    "When you buy the token, you are added to a list of people that are subject to redistributions.\n",
    "The contract, on each transaction, handles redistributions to a few of the addresses\n",
    "on the list, on a first-to-last basis. Once it goes through the whole list, it starts again. This means your reflections are always in a “queue” until they are released.\n",
    "\n",
    "2.0% LIQUIDITY GENERATION\n",
    "2% of all transactions will deposit into the liquidity pool to elevate it. This sustains the life of the token.\n",
    "\n",
    "4% BUYBACK ACCUMULATION\n",
    "4% of all transactions are added to a buyback wallet. This wallet performs buybacks manually in the form of “MoonShot” and “AutoBoost.” All buyback tokens are burned.\n",
    "\n",
    "1.5% of all transactions is distributed to our marketing wallet. These tokens are LOCKED and vested weekly to the team.\n",
    "\n",
    "ANTI-WHALE\n",
    "The anti-whale mechanic disallows sellers to offload more than 0.1% of the entire supply of the token. This prevents coordinated dumping of tokens and encourages long-term holding"
   ]
  },
  {
   "cell_type": "markdown",
   "metadata": {},
   "source": [
    "## Fee Definitions in the whitepaper"
   ]
  },
  {
   "cell_type": "code",
   "execution_count": 1,
   "metadata": {},
   "outputs": [],
   "source": [
    "v1= \"\"\"\n",
    "    8.5% AUTOMATIC DISTRIBUTION\n",
    "    When you buy the token, you are added to a list of people that are subject to redistributions.\n",
    "    The contract, on each transaction, handles redistributions to a few of the addresses\n",
    "    on the list, on a first-to-last basis. Once it goes through the whole list, it starts again. This means your reflections are always in a “queue” until they are released.\n",
    "    \"\"\"\n",
    "\n",
    "v2= \"\"\"\n",
    "    2.0% LIQUIDITY GENERATION\n",
    "    2% of all transactions will deposit into the liquidity pool to elevate it. This sustains the life of the token.\n",
    "    \"\"\"\n",
    "\n",
    "v3= \"\"\"\n",
    "    4% BUYBACK ACCUMULATION\n",
    "    4% of all transactions are added to a buyback wallet. This wallet performs buybacks manually in the form of “MoonShot” and “AutoBoost.” All buyback tokens are burned.\n",
    "    \"\"\"\n",
    "\n",
    "v4= \"\"\"\n",
    "    1.5% of all transactions is distributed to our marketing wallet. These tokens are LOCKED and vested weekly to the team.\n",
    "    \"\"\"\n",
    "\n",
    "v5= \"\"\"\n",
    "    ANTI-WHALE\n",
    "    The anti-whale mechanic disallows sellers to offload more than 0.1% of the entire supply of the token. This prevents coordinated dumping of tokens and encourages long-term holding\n",
    "    \"\"\"\n",
    "moongame=[v1, v2, v3, v4, v5]"
   ]
  },
  {
   "cell_type": "markdown",
   "metadata": {},
   "source": [
    "## Generate Prompt and ask ChatGPT"
   ]
  },
  {
   "cell_type": "code",
   "execution_count": 2,
   "metadata": {},
   "outputs": [],
   "source": [
    "import os\n",
    "os.makedirs(\"./repo_check/MoonGame/constant_whitepaper\", exist_ok=True)\n",
    "prompts = []\n",
    "for i, v in enumerate(moongame):\n",
    "    prompt=\\\n",
    "\"\"\"You are a good Smart Contract developer. Your task is to give a variable with a good name according to the description I provide. The variable is about the tokenomics.  The description about the variable is \n",
    "\n",
    "'''\"\"\" + \\\n",
    "v + \\\n",
    "\"\"\"'''\n",
    "\n",
    "What is the good variable name? Please provide 3 good choices. The name should be short, concise and precise. The answer just contains three names and do not need explain.\n",
    "\"\"\"\n",
    "    prompts.append(prompt)\n",
    "    with open(f\"./repo_check/MoonGame/constant_whitepaper/v{i+1}.txt\", \"w\") as f:\n",
    "        f.write(prompt)"
   ]
  },
  {
   "cell_type": "markdown",
   "metadata": {},
   "source": [
    "## add values and check"
   ]
  },
  {
   "cell_type": "code",
   "execution_count": 3,
   "metadata": {},
   "outputs": [
    {
     "name": "stdout",
     "output_type": "stream",
     "text": [
      "liquidityFee\n",
      "[{'start': (27, 4), 'code': '200', 'code_type': 'uint256', 'raw_code': b'uint256 liquidityFee = 200;', 'pos': ((27, 4), (27, 31))}]\n",
      "reflectionFee\n",
      "[{'start': (29, 4), 'code': '850', 'code_type': 'uint256', 'raw_code': b'uint256 reflectionFee = 850;', 'pos': ((29, 4), (29, 32))}]\n",
      "marketingFeeReceiver\n",
      "[{'start': (44, 1), 'code': '', 'code_type': 'address', 'raw_code': b'address public marketingFeeReceiver ;', 'pos': ((44, 1), (44, 38))}]\n",
      "Skip No-expression Var \n",
      "marketingFee\n",
      "[{'start': (30, 4), 'code': '150', 'code_type': 'uint256', 'raw_code': b'uint256 marketingFee = 150;', 'pos': ((30, 4), (30, 31))}]\n",
      "totalFee\n",
      "[{'start': (31, 4), 'code': '1600', 'code_type': 'uint256', 'raw_code': b'uint256 totalFee = 1600;', 'pos': ((31, 4), (31, 28))}]\n",
      "info=(['redistributionFee', 'reflectionQueueFee', 'automaticDistributionFee'], '0.085', 10000, '\\n    8.5% AUTOMATIC DISTRIBUTION\\n    When you buy the token, you are added to a list of people that are subject to redistributions.\\n    The contract, on each transaction, handles redistributions to a few of the addresses\\n    on the list, on a first-to-last basis. Once it goes through the whole list, it starts again. This means your reflections are always in a “queue” until they are released.\\n    '), Is the fee found='Yes', matched_var_name='reflectionFee', matched_var_exp='reflectionFee = 850', isEq=True\n",
      "liquidityFee\n",
      "[{'start': (27, 4), 'code': '200', 'code_type': 'uint256', 'raw_code': b'uint256 liquidityFee = 200;', 'pos': ((27, 4), (27, 31))}]\n",
      "marketingFee\n",
      "[{'start': (30, 4), 'code': '150', 'code_type': 'uint256', 'raw_code': b'uint256 marketingFee = 150;', 'pos': ((30, 4), (30, 31))}]\n",
      "marketingFeeReceiver\n",
      "[{'start': (44, 1), 'code': '', 'code_type': 'address', 'raw_code': b'address public marketingFeeReceiver ;', 'pos': ((44, 1), (44, 38))}]\n",
      "Skip No-expression Var \n",
      "reflectionFee\n",
      "[{'start': (29, 4), 'code': '850', 'code_type': 'uint256', 'raw_code': b'uint256 reflectionFee = 850;', 'pos': ((29, 4), (29, 32))}]\n",
      "totalFee\n",
      "[{'start': (31, 4), 'code': '1600', 'code_type': 'uint256', 'raw_code': b'uint256 totalFee = 1600;', 'pos': ((31, 4), (31, 28))}]\n",
      "info=(['liquidityGenerationFee', 'liquidityPoolFee', 'tokenSustainabilityFee'], '0.02', 10000, '\\n    2.0% LIQUIDITY GENERATION\\n    2% of all transactions will deposit into the liquidity pool to elevate it. This sustains the life of the token.\\n    '), Is the fee found='Yes', matched_var_name='liquidityFee', matched_var_exp='liquidityFee = 200', isEq=True\n",
      "buybackFee\n",
      "[{'start': (28, 4), 'code': '400', 'code_type': 'uint256', 'raw_code': b'uint256 buybackFee = 400;', 'pos': ((28, 4), (28, 29))}]\n",
      "marketingFee\n",
      "[{'start': (30, 4), 'code': '150', 'code_type': 'uint256', 'raw_code': b'uint256 marketingFee = 150;', 'pos': ((30, 4), (30, 31))}]\n",
      "liquidityFee\n",
      "[{'start': (27, 4), 'code': '200', 'code_type': 'uint256', 'raw_code': b'uint256 liquidityFee = 200;', 'pos': ((27, 4), (27, 31))}]\n",
      "marketingFeeReceiver\n",
      "[{'start': (44, 1), 'code': '', 'code_type': 'address', 'raw_code': b'address public marketingFeeReceiver ;', 'pos': ((44, 1), (44, 38))}]\n",
      "Skip No-expression Var \n",
      "autoBuybackAccumulator\n",
      "[{'start': (58, 1), 'code': '', 'code_type': 'uint256', 'raw_code': b'uint256 autoBuybackAccumulator ;', 'pos': ((58, 1), (58, 33))}]\n",
      "Skip No-expression Var \n",
      "info=(['buybackFee', 'buybackAccumulation', 'buybackWallet'], '0.04', 10000, '\\n    4% BUYBACK ACCUMULATION\\n    4% of all transactions are added to a buyback wallet. This wallet performs buybacks manually in the form of “MoonShot” and “AutoBoost.” All buyback tokens are burned.\\n    '), Is the fee found='Yes', matched_var_name='buybackFee', matched_var_exp='buybackFee = 400', isEq=True\n",
      "marketingFee\n",
      "[{'start': (30, 4), 'code': '150', 'code_type': 'uint256', 'raw_code': b'uint256 marketingFee = 150;', 'pos': ((30, 4), (30, 31))}]\n",
      "marketingFeeReceiver\n",
      "[{'start': (44, 1), 'code': '', 'code_type': 'address', 'raw_code': b'address public marketingFeeReceiver ;', 'pos': ((44, 1), (44, 38))}]\n",
      "Skip No-expression Var \n",
      "liquidityFee\n",
      "[{'start': (27, 4), 'code': '200', 'code_type': 'uint256', 'raw_code': b'uint256 liquidityFee = 200;', 'pos': ((27, 4), (27, 31))}]\n",
      "totalFee\n",
      "[{'start': (31, 4), 'code': '1600', 'code_type': 'uint256', 'raw_code': b'uint256 totalFee = 1600;', 'pos': ((31, 4), (31, 28))}]\n",
      "buybackFee\n",
      "[{'start': (28, 4), 'code': '400', 'code_type': 'uint256', 'raw_code': b'uint256 buybackFee = 400;', 'pos': ((28, 4), (28, 29))}]\n",
      "info=(['marketingFee', 'lockedTokensVested', 'weeklyTeamVesting'], '0.015', 10000, '\\n    1.5% of all transactions is distributed to our marketing wallet. These tokens are LOCKED and vested weekly to the team.\\n    '), Is the fee found='Yes', matched_var_name='marketingFee', matched_var_exp='marketingFee = 150', isEq=True\n",
      "liquidityFee\n",
      "[{'start': (27, 4), 'code': '200', 'code_type': 'uint256', 'raw_code': b'uint256 liquidityFee = 200;', 'pos': ((27, 4), (27, 31))}]\n",
      "marketingFee\n",
      "[{'start': (30, 4), 'code': '150', 'code_type': 'uint256', 'raw_code': b'uint256 marketingFee = 150;', 'pos': ((30, 4), (30, 31))}]\n",
      "totalFee\n",
      "[{'start': (31, 4), 'code': '1600', 'code_type': 'uint256', 'raw_code': b'uint256 totalFee = 1600;', 'pos': ((31, 4), (31, 28))}]\n",
      "swapThreshold\n",
      "[{'start': (66, 1), 'code': '_totalSupply / 1000', 'code_type': 'uint256', 'raw_code': b'uint256 public swapThreshold = _totalSupply / 1000 ;', 'pos': ((66, 1), (66, 53))}]\n",
      "marketingFeeReceiver\n",
      "[{'start': (44, 1), 'code': '', 'code_type': 'address', 'raw_code': b'address public marketingFeeReceiver ;', 'pos': ((44, 1), (44, 38))}]\n",
      "Skip No-expression Var \n",
      "info=(['whaleFeeThreshold', 'maxDumpPercentage', 'longTermHoldLimit'], 'totalSupply * 0.001', 1, '\\n    ANTI-WHALE\\n    The anti-whale mechanic disallows sellers to offload more than 0.1% of the entire supply of the token. This prevents coordinated dumping of tokens and encourages long-term holding\\n    '), Is the fee found='Yes', matched_var_name='swapThreshold', matched_var_exp='swapThreshold = _totalSupply / 1000', isEq=True\n"
     ]
    },
    {
     "data": {
      "text/plain": [
       "\"## whitepaper\\n\\n### Item v1\\n\\n   &ensp;**info**\\n   &emsp; \\n- Description: \\n    8.5% AUTOMATIC DISTRIBUTION\\n    When you buy the token, you are added to a list of people that are subject to redistributions.\\n    The contract, on each transaction, handles redistributions to a few of the addresses\\n    on the list, on a first-to-last basis. Once it goes through the whole list, it starts again. This means your reflections are always in a “queue” until they are released.\\n     \\n   - Possible Var Names from ChatGPT: ['redistributionFee', 'reflectionQueueFee', 'automaticDistributionFee'] \\n   - Expression:  0.085 \\n\\n\\n   &ensp;**Is the fee found**\\n    Yes\\n\\n   &ensp;**matched_var_name**\\n    reflectionFee\\n\\n   &ensp;**matched_var_exp**\\n    reflectionFee = 850\\n\\n   &ensp;**isEq**\\n    True\\n\\n### Item v2\\n\\n   &ensp;**info**\\n   &emsp; \\n- Description: \\n    2.0% LIQUIDITY GENERATION\\n    2% of all transactions will deposit into the liquidity pool to elevate it. This sustains the life of the token.\\n     \\n   - Possible Var Names from ChatGPT: ['liquidityGenerationFee', 'liquidityPoolFee', 'tokenSustainabilityFee'] \\n   - Expression:  0.02 \\n\\n\\n   &ensp;**Is the fee found**\\n    Yes\\n\\n   &ensp;**matched_var_name**\\n    liquidityFee\\n\\n   &ensp;**matched_var_exp**\\n    liquidityFee = 200\\n\\n   &ensp;**isEq**\\n    True\\n\\n### Item v3\\n\\n   &ensp;**info**\\n   &emsp; \\n- Description: \\n    4% BUYBACK ACCUMULATION\\n    4% of all transactions are added to a buyback wallet. This wallet performs buybacks manually in the form of “MoonShot” and “AutoBoost.” All buyback tokens are burned.\\n     \\n   - Possible Var Names from ChatGPT: ['buybackFee', 'buybackAccumulation', 'buybackWallet'] \\n   - Expression:  0.04 \\n\\n\\n   &ensp;**Is the fee found**\\n    Yes\\n\\n   &ensp;**matched_var_name**\\n    buybackFee\\n\\n   &ensp;**matched_var_exp**\\n    buybackFee = 400\\n\\n   &ensp;**isEq**\\n    True\\n\\n### Item v4\\n\\n   &ensp;**info**\\n   &emsp; \\n- Description: \\n    1.5% of all transactions is distributed to our marketing wallet. These tokens are LOCKED and vested weekly to the team.\\n     \\n   - Possible Var Names from ChatGPT: ['marketingFee', 'lockedTokensVested', 'weeklyTeamVesting'] \\n   - Expression:  0.015 \\n\\n\\n   &ensp;**Is the fee found**\\n    Yes\\n\\n   &ensp;**matched_var_name**\\n    marketingFee\\n\\n   &ensp;**matched_var_exp**\\n    marketingFee = 150\\n\\n   &ensp;**isEq**\\n    True\\n\\n### Item v5\\n\\n   &ensp;**info**\\n   &emsp; \\n- Description: \\n    ANTI-WHALE\\n    The anti-whale mechanic disallows sellers to offload more than 0.1% of the entire supply of the token. This prevents coordinated dumping of tokens and encourages long-term holding\\n     \\n   - Possible Var Names from ChatGPT: ['whaleFeeThreshold', 'maxDumpPercentage', 'longTermHoldLimit'] \\n   - Expression:  totalSupply * 0.001 \\n\\n\\n   &ensp;**Is the fee found**\\n    Yes\\n\\n   &ensp;**matched_var_name**\\n    swapThreshold\\n\\n   &ensp;**matched_var_exp**\\n    swapThreshold = _totalSupply / 1000\\n\\n   &ensp;**isEq**\\n    True\\n\\n\\n## hidden_fee_function\\n\\n### shouldTakeFee\\n\\n  &ensp;** Possible Values **:\\n ~isFeeExempt_sender_ & ~isWhiteList_recipient_ & ~isWhiteList_sender_\\n\\n### getTotalFee\\n\\n  &ensp;** Possible Values **:\\n 9999, \\n 1600, \\n 160*buybackMultiplierTriggeredAt/3 - 160*timestamp/3 + 3200, \\n 2880, \\n 1600\\n\\n### getMultipliedFee\\n\\n  &ensp;** Possible Values **:\\n 2880, \\n 160*buybackMultiplierTriggeredAt/3 - 160*timestamp/3 + 3200, \\n 1600\\n\\n\\n## hidden_fee_var\\n\\n### feeIncrease\\n\\n  &ensp;** Possible Values **:\\n 1600\\n\\n### feeAmount\\n\\n  &ensp;** Possible Values **:\\n 4*amount/25, \\n 36*amount/125, \\n 2*amount*(buybackMultiplierTriggeredAt - timestamp + 60)/375, \\n 4*amount/25, \\n 9999*amount/10000\\n\\n### dynamicLiquidityFee_0\\n\\n  &ensp;** Possible Values **:\\n 0\\n\\n### dynamicLiquidityFee_1\\n\\n  &ensp;** Possible Values **:\\n 200\\n\\n### totalBNBFee\\n\\n  &ensp;** Possible Values **:\\n 1600 - dynamicLiquidityFee/2\\n\\n### isFeeExempt_holder_\\n\\n  &ensp;** Possible Values **:\\n exempt\\n\\n### liquidityFee\\n\\n  &ensp;** Possible Values **:\\n _liquidityFee\\n\\n### buybackFee\\n\\n  &ensp;** Possible Values **:\\n _buybackFee\\n\\n### reflectionFee\\n\\n  &ensp;** Possible Values **:\\n _reflectionFee\\n\\n### marketingFee\\n\\n  &ensp;** Possible Values **:\\n _marketingFee\\n\\n### totalFee\\n\\n  &ensp;** Possible Values **:\\n _buybackFee + _liquidityFee + _marketingFee + _reflectionFee\\n\\n### feeDenominator\\n\\n  &ensp;** Possible Values **:\\n _feeDenominator\\n\\n### marketingFeeReceiver\\n\\n  &ensp;** Possible Values **:\\n _marketingFeeReceiver\\n\\n\\n\""
      ]
     },
     "execution_count": 3,
     "metadata": {},
     "output_type": "execute_result"
    }
   ],
   "source": [
    "from utils.constant_checker import checkRevenueModel, dict_to_markdown\n",
    "a=\"./repo_check/MoonGame/contracts/MoonGame.sol\"\n",
    "code=open(a).read()\n",
    "conversion = 10000\n",
    "var_names_chatgpt = {\n",
    "    \"v1\":([\"redistributionFee\", \"reflectionQueueFee\", \"automaticDistributionFee\"], \"0.085\", conversion, v1),\n",
    "    \"v2\":([\"liquidityGenerationFee\", \"liquidityPoolFee\", \"tokenSustainabilityFee\"], \"0.02\", conversion, v2),\n",
    "    \"v3\":([\"buybackFee\", \"buybackAccumulation\", \"buybackWallet\"],  \"0.04\", conversion, v3),\n",
    "    \"v4\":([\"marketingFee\",\"lockedTokensVested\", \"weeklyTeamVesting\"], \"0.015\", conversion, v4),\n",
    "    \"v5\":([\"whaleFeeThreshold\", \"maxDumpPercentage\", \"longTermHoldLimit\"], \"totalSupply * 0.001\", 1, v5)\n",
    "}\n",
    "check_res = checkRevenueModel(var_names_chatgpt, code, top_K=5)\n",
    "dict_to_markdown(check_res, \"./repo_check/MoonGame/revenue_check.md\")\n",
    "\n",
    "                "
   ]
  }
 ],
 "metadata": {
  "kernelspec": {
   "display_name": "web3",
   "language": "python",
   "name": "python3"
  },
  "language_info": {
   "codemirror_mode": {
    "name": "ipython",
    "version": 3
   },
   "file_extension": ".py",
   "mimetype": "text/x-python",
   "name": "python",
   "nbconvert_exporter": "python",
   "pygments_lexer": "ipython3",
   "version": "3.8.16"
  },
  "orig_nbformat": 4
 },
 "nbformat": 4,
 "nbformat_minor": 2
}
