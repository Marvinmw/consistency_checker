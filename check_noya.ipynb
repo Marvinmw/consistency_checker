{
 "cells": [
  {
   "cell_type": "code",
   "execution_count": 1,
   "metadata": {},
   "outputs": [],
   "source": [
    "v0 = \"Withdrawal fee: It's a percentage of user's withdrawal (currently is 0%). It occurs in the 'executeWithdraw' function of the accountingManager contract.\"\n",
    "\n",
    "v1 = \"Management fee: The manager simply mint x% of the total shares * (time_elapsed_from_last_fee / seconds_in_year) to the feeReceiver periodically (at most every 10 days). The manager will call the 'collectManagementFees' function of the accountingManager contract to redeem this fee.\"\n",
    "\n",
    "v2 = \"Performance fee:If the noya vault makes any profit, the strategy manager will get a percentage of that profit. To ensure that this is actually the profit and the manager is not manipulating the vault, there is a 2 step process to get this fee. 1. First the strategy manager calls the “recordProfitForFee “ function to calculate the shares of the fees and store the fee amount in “preformanceFeeSharesWaitingForDistribution “ variable. 2. It has to wait for at least 12 hours. During this 12 hours, if the profit of noya goes lower than the profit amount at the end of step 1, anyone can call the function 'checkIfTVLHasDroped' and the fees that were recorded in the step 1 will be put to 0. To get the fees again, the manager has to do the first step again and wait for 12 hours. If the profit doesn’t drop within 12 hours, it means that there was no manipulation. Then it can call 'collectPerformanceFees' function of the accountingManager and get the performance fee.\"\n",
    "\n",
    "noya =[v0, v1, v2]"
   ]
  },
  {
   "cell_type": "code",
   "execution_count": 2,
   "metadata": {},
   "outputs": [
    {
     "name": "stdout",
     "output_type": "stream",
     "text": [
      "['repo_check/ico/noya/2024-04-noya/contracts/governance/Watchers.sol', 'repo_check/ico/noya/2024-04-noya/contracts/governance/NoyaGovernanceBase.sol', 'repo_check/ico/noya/2024-04-noya/contracts/governance/TimeLock.sol', 'repo_check/ico/noya/2024-04-noya/contracts/governance/Keepers.sol', 'repo_check/ico/noya/2024-04-noya/contracts/helpers/BaseConnector.sol', 'repo_check/ico/noya/2024-04-noya/contracts/helpers/TVLHelper.sol', 'repo_check/ico/noya/2024-04-noya/contracts/helpers/ConnectorMock2.sol', 'repo_check/ico/noya/2024-04-noya/contracts/helpers/OmniChainHandler/OmnichainManagerNormalChain.sol', 'repo_check/ico/noya/2024-04-noya/contracts/helpers/OmniChainHandler/OmnichainLogic.sol', 'repo_check/ico/noya/2024-04-noya/contracts/helpers/OmniChainHandler/OmnichainManagerBaseChain.sol', 'repo_check/ico/noya/2024-04-noya/contracts/helpers/valueOracle/NoyaValueOracle.sol', 'repo_check/ico/noya/2024-04-noya/contracts/helpers/valueOracle/oracles/ChainlinkOracleConnector.sol', 'repo_check/ico/noya/2024-04-noya/contracts/helpers/valueOracle/oracles/UniswapValueOracle.sol', 'repo_check/ico/noya/2024-04-noya/contracts/helpers/valueOracle/oracles/WETH_Oracle.sol', 'repo_check/ico/noya/2024-04-noya/contracts/helpers/SwapHandler/GenericSwapAndBridgeHandler.sol', 'repo_check/ico/noya/2024-04-noya/contracts/helpers/SwapHandler/Implementaions/LifiImplementation.sol', 'repo_check/ico/noya/2024-04-noya/contracts/helpers/LZHelpers/LZHelperReceiver.sol', 'repo_check/ico/noya/2024-04-noya/contracts/helpers/LZHelpers/LZHelperSender.sol', 'repo_check/ico/noya/2024-04-noya/contracts/connectors/CurveConnector.sol', 'repo_check/ico/noya/2024-04-noya/contracts/connectors/LidoConnector.sol', 'repo_check/ico/noya/2024-04-noya/contracts/connectors/MorphoBlueConnector.sol', 'repo_check/ico/noya/2024-04-noya/contracts/connectors/Dolomite.sol', 'repo_check/ico/noya/2024-04-noya/contracts/connectors/BalancerFlashLoan.sol', 'repo_check/ico/noya/2024-04-noya/contracts/connectors/MaverickConnector.sol', 'repo_check/ico/noya/2024-04-noya/contracts/connectors/StargateConnector.sol', 'repo_check/ico/noya/2024-04-noya/contracts/connectors/PrismaConnector.sol', 'repo_check/ico/noya/2024-04-noya/contracts/connectors/AerodromeConnector.sol', 'repo_check/ico/noya/2024-04-noya/contracts/connectors/FraxConnector.sol', 'repo_check/ico/noya/2024-04-noya/contracts/connectors/SNXConnector.sol', 'repo_check/ico/noya/2024-04-noya/contracts/connectors/CamelotConnector.sol', 'repo_check/ico/noya/2024-04-noya/contracts/connectors/CompoundConnector.sol', 'repo_check/ico/noya/2024-04-noya/contracts/connectors/GearBoxV3.sol', 'repo_check/ico/noya/2024-04-noya/contracts/connectors/SiloConnector.sol', 'repo_check/ico/noya/2024-04-noya/contracts/connectors/BalancerConnector.sol', 'repo_check/ico/noya/2024-04-noya/contracts/connectors/UNIv3Connector.sol', 'repo_check/ico/noya/2024-04-noya/contracts/connectors/PendleConnector.sol', 'repo_check/ico/noya/2024-04-noya/contracts/connectors/PancakeswapConnector.sol', 'repo_check/ico/noya/2024-04-noya/contracts/connectors/AaveConnector.sol', 'repo_check/ico/noya/2024-04-noya/contracts/accountingManager/Registry.sol', 'repo_check/ico/noya/2024-04-noya/contracts/accountingManager/NoyaFeeReceiver.sol', 'repo_check/ico/noya/2024-04-noya/contracts/accountingManager/AccountingManager.sol']\n"
     ]
    }
   ],
   "source": [
    "from utils.constant_checker import checkRevenueModel, dict_to_markdown\n",
    "import glob\n",
    "\n",
    "tokenomic_file_list=[f for f in glob.glob(\"repo_check/ico/noya/2024-04-noya/contracts/**/**.sol\", recursive=True)]\n",
    "print(tokenomic_file_list)\n",
    "conversion = 10 ** 18\n",
    "\n",
    "var_names_chatgpt = {\n",
    "    \"v0\": ([\"withdrawalFeePercentage\", \"executeWithdrawFee\", \"accountingManagerWithdrawalFee\"], \"0\", conversion, v0),\n",
    "    \"v1\": ([\"managementFeeRate\", \"periodicMintedFee\", \"accumulatedManagementFee\"], \"0\", conversion, v1),\n",
    "    \"v2\": ([ \"pendingPerformanceFee\", \"accumulatedFeeReserve\", \"managerProfitShare\"], \"0\", conversion, v2)\n",
    "}\n",
    "\n"
   ]
  },
  {
   "cell_type": "code",
   "execution_count": 3,
   "metadata": {},
   "outputs": [
    {
     "name": "stdout",
     "output_type": "stream",
     "text": [
      "withdrawFee\n",
      "[{'start': (28, 1), 'code': '', 'code_type': 'uint256', 'raw_code': b'uint256 public withdrawFee ;', 'pos': ((28, 1), (28, 29))}]\n",
      "0\n",
      "Skip No-expression Var \n",
      "withdrawFeeReceiver\n",
      "[{'start': (31, 1), 'code': '', 'code_type': 'address', 'raw_code': b'address public withdrawFeeReceiver ;', 'pos': ((31, 1), (31, 37))}]\n",
      "0\n",
      "Skip No-expression Var \n",
      "managementFee\n",
      "[{'start': (30, 1), 'code': '', 'code_type': 'uint256', 'raw_code': b'uint256 public managementFee ;', 'pos': ((30, 1), (30, 31))}]\n",
      "0\n",
      "Skip No-expression Var \n",
      "amountAskedForWithdraw\n",
      "[{'start': (179, 1), 'code': '0', 'code_type': 'amountAskedForWithdraw', 'raw_code': b'amountAskedForWithdraw = 0', 'pos': ((179, 1), (179, 27))}]\n",
      "0\n",
      "totalWithdrawnAmount\n",
      "[{'start': (17, 1), 'code': '', 'code_type': 'uint256', 'raw_code': b'uint256 public totalWithdrawnAmount ;', 'pos': ((17, 1), (17, 38))}]\n",
      "0\n",
      "info=(['withdrawalFeePercentage', 'executeWithdrawFee', 'accountingManagerWithdrawalFee'], '0', 1000000000000000000, \"Withdrawal fee: It's a percentage of user's withdrawal (currently is 0%). It occurs in the 'executeWithdraw' function of the accountingManager contract.\"), Is the fee found='Yes', matched_var_name='amountAskedForWithdraw', matched_var_exp='amountAskedForWithdraw = 0', isEq=True\n",
      "managementFee\n",
      "[{'start': (30, 1), 'code': '', 'code_type': 'uint256', 'raw_code': b'uint256 public managementFee ;', 'pos': ((30, 1), (30, 31))}]\n",
      "0\n",
      "managementFeeReceiver\n",
      "[{'start': (33, 1), 'code': '', 'code_type': 'address', 'raw_code': b'address public managementFeeReceiver ;', 'pos': ((33, 1), (33, 39))}]\n",
      "0\n",
      "performanceFee\n",
      "[{'start': (29, 1), 'code': '', 'code_type': 'uint256', 'raw_code': b'uint256 public performanceFee ;', 'pos': ((29, 1), (29, 32))}]\n",
      "0\n",
      "storedProfitForFee\n",
      "[{'start': (236, 1), 'code': 'getProfit ( )', 'code_type': 'storedProfitForFee', 'raw_code': b'storedProfitForFee = getProfit ( )', 'pos': ((236, 1), (236, 35))}]\n",
      "0\n",
      "withdrawFeeReceiver\n",
      "[{'start': (31, 1), 'code': '', 'code_type': 'address', 'raw_code': b'address public withdrawFeeReceiver ;', 'pos': ((31, 1), (31, 37))}]\n",
      "0\n",
      "info=(['managementFeeRate', 'periodicMintedFee', 'accumulatedManagementFee'], '0', 1000000000000000000, \"Management fee: The manager simply mint x% of the total shares * (time_elapsed_from_last_fee / seconds_in_year) to the feeReceiver periodically (at most every 10 days). The manager will call the 'collectManagementFees' function of the accountingManager contract to redeem this fee.\"), Is the fee found='Yes', matched_var_name='managementFee', matched_var_exp='managementFee = ', isEq=True\n",
      "performanceFee\n",
      "[{'start': (29, 1), 'code': '', 'code_type': 'uint256', 'raw_code': b'uint256 public performanceFee ;', 'pos': ((29, 1), (29, 32))}]\n",
      "0\n",
      "performanceFeeReceiver\n",
      "[{'start': (32, 1), 'code': '', 'code_type': 'address', 'raw_code': b'address public performanceFeeReceiver ;', 'pos': ((32, 1), (32, 40))}]\n",
      "0\n",
      "withdrawFeeReceiver\n",
      "[{'start': (31, 1), 'code': '', 'code_type': 'address', 'raw_code': b'address public withdrawFeeReceiver ;', 'pos': ((31, 1), (31, 37))}]\n",
      "0\n",
      "withdrawFee\n",
      "[{'start': (28, 1), 'code': '', 'code_type': 'uint256', 'raw_code': b'uint256 public withdrawFee ;', 'pos': ((28, 1), (28, 29))}]\n",
      "0\n",
      "managementFeeReceiver\n",
      "[{'start': (33, 1), 'code': '', 'code_type': 'address', 'raw_code': b'address public managementFeeReceiver ;', 'pos': ((33, 1), (33, 39))}]\n",
      "0\n",
      "[{'info': (['pendingPerformanceFee', 'accumulatedFeeReserve', 'managerProfitShare'], '0', 1000000000000000000, \"Performance fee:If the noya vault makes any profit, the strategy manager will get a percentage of that profit. To ensure that this is actually the profit and the manager is not manipulating the vault, there is a 2 step process to get this fee. 1. First the strategy manager calls the “recordProfitForFee “ function to calculate the shares of the fees and store the fee amount in “preformanceFeeSharesWaitingForDistribution “ variable. 2. It has to wait for at least 12 hours. During this 12 hours, if the profit of noya goes lower than the profit amount at the end of step 1, anyone can call the function 'checkIfTVLHasDroped' and the fees that were recorded in the step 1 will be put to 0. To get the fees again, the manager has to do the first step again and wait for 12 hours. If the profit doesn’t drop within 12 hours, it means that there was no manipulation. Then it can call 'collectPerformanceFees' function of the accountingManager and get the performance fee.\"), 'Is the fee found': 'No', 'matched_var_name': 'performanceFee', 'matched_var_exp': 'performanceFee = ', 'isEq': Eq(getProfit(), 0)}, {'info': (['pendingPerformanceFee', 'accumulatedFeeReserve', 'managerProfitShare'], '0', 1000000000000000000, \"Performance fee:If the noya vault makes any profit, the strategy manager will get a percentage of that profit. To ensure that this is actually the profit and the manager is not manipulating the vault, there is a 2 step process to get this fee. 1. First the strategy manager calls the “recordProfitForFee “ function to calculate the shares of the fees and store the fee amount in “preformanceFeeSharesWaitingForDistribution “ variable. 2. It has to wait for at least 12 hours. During this 12 hours, if the profit of noya goes lower than the profit amount at the end of step 1, anyone can call the function 'checkIfTVLHasDroped' and the fees that were recorded in the step 1 will be put to 0. To get the fees again, the manager has to do the first step again and wait for 12 hours. If the profit doesn’t drop within 12 hours, it means that there was no manipulation. Then it can call 'collectPerformanceFees' function of the accountingManager and get the performance fee.\"), 'Is the fee found': 'No', 'matched_var_name': 'performanceFeeReceiver', 'matched_var_exp': 'performanceFeeReceiver = ', 'isEq': Eq(getProfit(), 0)}, {'info': (['pendingPerformanceFee', 'accumulatedFeeReserve', 'managerProfitShare'], '0', 1000000000000000000, \"Performance fee:If the noya vault makes any profit, the strategy manager will get a percentage of that profit. To ensure that this is actually the profit and the manager is not manipulating the vault, there is a 2 step process to get this fee. 1. First the strategy manager calls the “recordProfitForFee “ function to calculate the shares of the fees and store the fee amount in “preformanceFeeSharesWaitingForDistribution “ variable. 2. It has to wait for at least 12 hours. During this 12 hours, if the profit of noya goes lower than the profit amount at the end of step 1, anyone can call the function 'checkIfTVLHasDroped' and the fees that were recorded in the step 1 will be put to 0. To get the fees again, the manager has to do the first step again and wait for 12 hours. If the profit doesn’t drop within 12 hours, it means that there was no manipulation. Then it can call 'collectPerformanceFees' function of the accountingManager and get the performance fee.\"), 'Is the fee found': 'No', 'matched_var_name': 'withdrawFeeReceiver', 'matched_var_exp': 'withdrawFeeReceiver = ', 'isEq': Eq(getProfit(), 0)}, {'info': (['pendingPerformanceFee', 'accumulatedFeeReserve', 'managerProfitShare'], '0', 1000000000000000000, \"Performance fee:If the noya vault makes any profit, the strategy manager will get a percentage of that profit. To ensure that this is actually the profit and the manager is not manipulating the vault, there is a 2 step process to get this fee. 1. First the strategy manager calls the “recordProfitForFee “ function to calculate the shares of the fees and store the fee amount in “preformanceFeeSharesWaitingForDistribution “ variable. 2. It has to wait for at least 12 hours. During this 12 hours, if the profit of noya goes lower than the profit amount at the end of step 1, anyone can call the function 'checkIfTVLHasDroped' and the fees that were recorded in the step 1 will be put to 0. To get the fees again, the manager has to do the first step again and wait for 12 hours. If the profit doesn’t drop within 12 hours, it means that there was no manipulation. Then it can call 'collectPerformanceFees' function of the accountingManager and get the performance fee.\"), 'Is the fee found': 'No', 'matched_var_name': 'withdrawFee', 'matched_var_exp': 'withdrawFee = ', 'isEq': Eq(getProfit(), 0)}, {'info': (['pendingPerformanceFee', 'accumulatedFeeReserve', 'managerProfitShare'], '0', 1000000000000000000, \"Performance fee:If the noya vault makes any profit, the strategy manager will get a percentage of that profit. To ensure that this is actually the profit and the manager is not manipulating the vault, there is a 2 step process to get this fee. 1. First the strategy manager calls the “recordProfitForFee “ function to calculate the shares of the fees and store the fee amount in “preformanceFeeSharesWaitingForDistribution “ variable. 2. It has to wait for at least 12 hours. During this 12 hours, if the profit of noya goes lower than the profit amount at the end of step 1, anyone can call the function 'checkIfTVLHasDroped' and the fees that were recorded in the step 1 will be put to 0. To get the fees again, the manager has to do the first step again and wait for 12 hours. If the profit doesn’t drop within 12 hours, it means that there was no manipulation. Then it can call 'collectPerformanceFees' function of the accountingManager and get the performance fee.\"), 'Is the fee found': 'No', 'matched_var_name': 'managementFeeReceiver', 'matched_var_exp': 'managementFeeReceiver = ', 'isEq': Eq(getProfit(), 0)}]\n",
      "info=(['pendingPerformanceFee', 'accumulatedFeeReserve', 'managerProfitShare'], '0', 1000000000000000000, \"Performance fee:If the noya vault makes any profit, the strategy manager will get a percentage of that profit. To ensure that this is actually the profit and the manager is not manipulating the vault, there is a 2 step process to get this fee. 1. First the strategy manager calls the “recordProfitForFee “ function to calculate the shares of the fees and store the fee amount in “preformanceFeeSharesWaitingForDistribution “ variable. 2. It has to wait for at least 12 hours. During this 12 hours, if the profit of noya goes lower than the profit amount at the end of step 1, anyone can call the function 'checkIfTVLHasDroped' and the fees that were recorded in the step 1 will be put to 0. To get the fees again, the manager has to do the first step again and wait for 12 hours. If the profit doesn’t drop within 12 hours, it means that there was no manipulation. Then it can call 'collectPerformanceFees' function of the accountingManager and get the performance fee.\"), Is the fee found='No', matched_var_name='performanceFee', matched_var_exp='performanceFee = ', isEq=Eq(getProfit(), 0)\n",
      "updateValueOracle\n",
      "setFeeReceivers\n",
      "sendTokensToTrustedAddress\n",
      "setFees\n",
      "_update\n",
      "deposit\n",
      "calculateDepositShares\n",
      "executeDeposit\n",
      "withdraw\n",
      "calculateWithdrawShares\n",
      "startCurrentWithdrawGroup\n",
      "fulfillCurrentWithdrawGroup\n",
      "executeWithdraw\n",
      "resetMiddle\n",
      "recordProfitForFee\n",
      "checkIfTVLHasDroped\n",
      "collectManagementFees\n",
      "collectPerformanceFees\n",
      "burnShares\n",
      "retrieveTokensForWithdraw\n",
      "getProfit\n",
      "totalAssets\n",
      "getQueueItems\n",
      "neededAssetsForWithdraw\n",
      "TVL\n",
      "getPositionTVL\n",
      "_getValue\n",
      "getUnderlyingTokens\n",
      "emergencyStop\n",
      "unpause\n",
      "setDepositLimits\n",
      "changeDepositWaitingTime\n",
      "changeWithdrawWaitingTime\n",
      "rescue\n",
      "mint\n",
      "redeem\n",
      "constructor\n"
     ]
    },
    {
     "data": {
      "text/plain": [
       "\"## whitepaper\\n\\n### Item v0\\n\\n   &ensp;**info**\\n '  &emsp; \\n- Description: Withdrawal fee: It's a percentage of user's withdrawal (currently is 0%). It occurs in the 'executeWithdraw' function of the accountingManager contract. \\n   - Possible Var Names from ChatGPT: ['withdrawalFeePercentage', 'executeWithdrawFee', 'accountingManagerWithdrawalFee'] \\n   - Expression:  0 \\n'\\n\\n   &ensp;**Is the fee found**\\n '   Yes'\\n\\n   &ensp;**matched_var_name**\\n '   amountAskedForWithdraw'\\n\\n   &ensp;**matched_var_exp**\\n '   amountAskedForWithdraw = 0'\\n\\n   &ensp;**isEq**\\n '   True'\\n\\n### Item v1\\n\\n   &ensp;**info**\\n '  &emsp; \\n- Description: Management fee: The manager simply mint x% of the total shares * (time_elapsed_from_last_fee / seconds_in_year) to the feeReceiver periodically (at most every 10 days). The manager will call the 'collectManagementFees' function of the accountingManager contract to redeem this fee. \\n   - Possible Var Names from ChatGPT: ['managementFeeRate', 'periodicMintedFee', 'accumulatedManagementFee'] \\n   - Expression:  0 \\n'\\n\\n   &ensp;**Is the fee found**\\n '   Yes'\\n\\n   &ensp;**matched_var_name**\\n '   managementFee'\\n\\n   &ensp;**matched_var_exp**\\n '   managementFee = '\\n\\n   &ensp;**isEq**\\n '   True'\\n\\n### Item v2\\n\\n   &ensp;**info**\\n '  &emsp; \\n- Description: Performance fee:If the noya vault makes any profit, the strategy manager will get a percentage of that profit. To ensure that this is actually the profit and the manager is not manipulating the vault, there is a 2 step process to get this fee. 1. First the strategy manager calls the “recordProfitForFee “ function to calculate the shares of the fees and store the fee amount in “preformanceFeeSharesWaitingForDistribution “ variable. 2. It has to wait for at least 12 hours. During this 12 hours, if the profit of noya goes lower than the profit amount at the end of step 1, anyone can call the function 'checkIfTVLHasDroped' and the fees that were recorded in the step 1 will be put to 0. To get the fees again, the manager has to do the first step again and wait for 12 hours. If the profit doesn’t drop within 12 hours, it means that there was no manipulation. Then it can call 'collectPerformanceFees' function of the accountingManager and get the performance fee. \\n   - Possible Var Names from ChatGPT: ['pendingPerformanceFee', 'accumulatedFeeReserve', 'managerProfitShare'] \\n   - Expression:  0 \\n'\\n\\n   &ensp;**Is the fee found**\\n '   No'\\n\\n   &ensp;**matched_var_name**\\n '   performanceFee'\\n\\n   &ensp;**matched_var_exp**\\n '   performanceFee = '\\n\\n   &ensp;**isEq**\\n '   Eq(getProfit(), 0)'\\n\\n\\n## hidden_fee_function\\n\\n### collectManagementFees\\n\\n  &ensp;** Possible Values **:\\n '(0, 0), \\n (2.73972602739726e-8*managementFee*(-currentFeeShares + totalShares), 10)'\\n\\n\\n## hidden_fee_var\\n\\n### FEE_PRECISION\\n\\n  &ensp;** Possible Values **:\\n '1e6'\\n\\n### WITHDRAWAL_MAX_FEE\\n\\n  &ensp;** Possible Values **:\\n '5e4'\\n\\n### MANAGEMENT_MAX_FEE\\n\\n  &ensp;** Possible Values **:\\n '5e5'\\n\\n### PERFORMANCE_MAX_FEE\\n\\n  &ensp;** Possible Values **:\\n '1e5'\\n\\n### withdrawFeeReceiver\\n\\n  &ensp;** Possible Values **:\\n '_withdrawFeeReceiver'\\n\\n### performanceFeeReceiver\\n\\n  &ensp;** Possible Values **:\\n '_performanceFeeReceiver'\\n\\n### managementFeeReceiver\\n\\n  &ensp;** Possible Values **:\\n '_managementFeeReceiver'\\n\\n### withdrawFee\\n\\n  &ensp;** Possible Values **:\\n '_withdrawFee'\\n\\n### performanceFee\\n\\n  &ensp;** Possible Values **:\\n '_performanceFee'\\n\\n### withdrawFeeAmount\\n\\n  &ensp;** Possible Values **:\\n '0'\\n\\n### feeAmount\\n\\n  &ensp;** Possible Values **:\\n '1.0e-6*baseTokenAmount*withdrawFee'\\n\\n### storedProfitForFee\\n\\n  &ensp;** Possible Values **:\\n '0, \\n -totalAWFDeposit - totalDepositedAmount + totalWithdrawnAmount + balanceOf(address(this)) + getTVL(0, registry, address(baseToken))'\\n\\n### preformanceFeeSharesWaitingForDistribution\\n\\n  &ensp;** Possible Values **:\\n 'previewDeposit(1.0e-6*performanceFee*(storedProfitForFee - totalProfitCalculated)), \\n 0, \\n 0'\\n\\n### lastFeeDistributionTime\\n\\n  &ensp;** Possible Values **:\\n 'timestamp'\\n\\n### currentFeeShares\\n\\n  &ensp;** Possible Values **:\\n 'preformanceFeeSharesWaitingForDistribution + balanceOf(managementFeeReceiver) + balanceOf(performanceFeeReceiver)'\\n\\n### managementFeeAmount\\n\\n  &ensp;** Possible Values **:\\n '2.73972602739726e-8*managementFee*(-currentFeeShares + totalShares)'\\n\\n\\n\""
      ]
     },
     "execution_count": 3,
     "metadata": {},
     "output_type": "execute_result"
    }
   ],
   "source": [
    "check_res, ContractStates = checkRevenueModel(var_names_chatgpt, file_list=tokenomic_file_list,top_K = 5)\n",
    "dict_to_markdown(check_res, \"./repo_check/ico/noya/revenue_noya.md\")"
   ]
  }
 ],
 "metadata": {
  "kernelspec": {
   "display_name": "torch",
   "language": "python",
   "name": "python3"
  },
  "language_info": {
   "codemirror_mode": {
    "name": "ipython",
    "version": 3
   },
   "file_extension": ".py",
   "mimetype": "text/x-python",
   "name": "python",
   "nbconvert_exporter": "python",
   "pygments_lexer": "ipython3",
   "version": "3.10.12"
  }
 },
 "nbformat": 4,
 "nbformat_minor": 2
}
