{
 "cells": [
  {
   "cell_type": "markdown",
   "metadata": {},
   "source": [
    "## Fee Definitions in the whitepaper"
   ]
  },
  {
   "cell_type": "code",
   "execution_count": 5,
   "metadata": {},
   "outputs": [],
   "source": [
    "v0 = \\\n",
    "    \"\"\"\n",
    "    Reflection Rate: 10% of every transaction is AUTOMATICALLY redistributed to the holders in $BTCB Bitcoin.\n",
    "    \"\"\"\n",
    "\n",
    "v1 = \\\n",
    "    \"\"\"\n",
    "    Marketing Tax Rate: The marketing wallet will receive 5% tax as BNB from the transactions.\n",
    "    \"\"\"\n",
    "\n",
    "v2 = \\\n",
    "    \"\"\"\n",
    "    Automatic Liquidity Rate: 3% of every transaction contributes toward automatically generating liquidity on PancakeSwap.\n",
    "    \"\"\"\n",
    "\n",
    "v3 = \\\n",
    "    \"\"\"\n",
    "    Auto Buy-back Burn: 5% tax from every sell transaction will be used for Buy back-Token and Burn it.\n",
    "    \"\"\"\n",
    "\n",
    "v4 = \\\n",
    "    \"\"\"\n",
    "    After a certain amount of tokens have been stored in the contract (0.0001% of the total supply) it initiates a swap.\n",
    "    \"\"\"\n",
    "v5 = \\\n",
    "    \"\"\"\n",
    "   Each owner of Shiva tokens is eligible to automatically receive $BTCB from the reward pool. The reward pool contains a number of $BTCB tokens reserved by the contract. The contract uses a portion of the tax applied to every transaction (10%) to do this.\n",
    "    \"\"\"\n",
    "\n",
    "v6 = \\\n",
    "    \"\"\"\n",
    "    After a certain amount of tokens are stored in the contract (20,000,000 Token) it initiates a swap. A swap in this context is the process of swapping the contract's token balance with $BTCBs in order to increase the reward pool. \n",
    "    \"\"\"\n",
    "\n",
    "v7 = \\\n",
    "    \"\"\"\n",
    "    The SHIVA token will be created with 51 Billion Supply.\n",
    "    \"\"\"\n",
    "\n",
    "moongame=[ v0, v1, v2, v3, v4, v5, v6, v7 ]"
   ]
  },
  {
   "cell_type": "markdown",
   "metadata": {},
   "source": [
    "## Generate Prompt and ask ChatGPT"
   ]
  },
  {
   "cell_type": "code",
   "execution_count": 6,
   "metadata": {},
   "outputs": [],
   "source": [
    "import os\n",
    "os.makedirs(\"./repo_check/ShivaToken/constant_whitepaper\", exist_ok=True)\n",
    "prompts = []\n",
    "for i, v in enumerate(moongame):\n",
    "    prompt=\\\n",
    "\"\"\"You are a good Smart Contract developer. Your task is to give a variable with a good name according to the description I provide. The variable is about the tokenomics. The description about the variable is \n",
    "\n",
    "    '''\"\"\" + \\\n",
    "v + \\\n",
    "\"\"\"'''\n",
    "\n",
    "What is the good variable name? Please provide 3 good choices. The name should be short, concise and precise. The answer just contains three names and do not need explain.\n",
    "\"\"\"\n",
    "    prompts.append(prompt)\n",
    "    with open(f\"./repo_check/ShivaToken/constant_whitepaper/v{i}.txt\", \"w\") as f:\n",
    "        f.write(prompt)"
   ]
  },
  {
   "cell_type": "markdown",
   "metadata": {},
   "source": [
    "## add values"
   ]
  },
  {
   "cell_type": "code",
   "execution_count": 7,
   "metadata": {},
   "outputs": [],
   "source": [
    "from utils.constant_checker import checkRevenueModel, dict_to_markdown\n",
    "a=\"./repo_check/ShivaToken/ShivaToken.sol\"\n",
    "code=open(a).read()\n",
    "conversion = 100\n",
    "BNB_decimal = 10 ** 18\n",
    "var_names_chatgpt = {\n",
    "    \"v0\":([\"reflectionRateBTCB\", \"redistributionFeeBTCB\", \"holderRedistributionRate\"], \"0.1\", conversion, v0),\n",
    "    \"v1\":([\"marketingTaxRate\", \"marketingFeePercentage\", \"marketingBNBTax\"], \"0.05\", conversion, v1),\n",
    "    \"v2\":([\"liquidityRate\", \"automaticLiquidityFee\", \"pancakeSwapLiquidityContribution\"],  \"0.03\", conversion, v2),\n",
    "    \"v3\":([\"autoBuybackBurnFee\",\"sellTransactionFee\", \"buybackBurnTax\"], \"0.05\", conversion, v3),\n",
    "    \"v4\":([\"feeThreshold\", \"tokenSwapTrigger\", \"chargeInitiationAmount\"], \"0.000001\", conversion, v4),\n",
    "    \"v4_\":([\"feeThreshold\", \"tokenSwapTrigger\", \"chargeInitiationAmount\"], \"0.000001*totaolSupply\", conversion, v4),\n",
    "    \"v5\":([\"rewardPoolBTCB\", \"tokenRewardFee\", \"btcbRewardShare\"], \"0.1\", conversion, v5),\n",
    "    \"v6\":([\"tokenSwapThreshold\", \"feeSwapThreshold\", \"rewardPoolBoostThreshold\"], \"20000000\", BNB_decimal, v6),\n",
    "    \"v7\":([\"shivaTokenSupply\", \"shivaTokenTotal\", \"shivaTokenAmount\"], \"51000000000\", BNB_decimal, v7)\n",
    "}\n",
    "\n",
    "\n",
    "                "
   ]
  },
  {
   "cell_type": "markdown",
   "metadata": {},
   "source": [
    "## Check and Report"
   ]
  },
  {
   "cell_type": "code",
   "execution_count": 8,
   "metadata": {},
   "outputs": [
    {
     "name": "stdout",
     "output_type": "stream",
     "text": [
      "BTCBRewardsFee\n",
      "[{'start': (585, 4), 'code': '10', 'code_type': 'uint256', 'raw_code': b'uint256 public BTCBRewardsFee = 10;', 'pos': ((585, 4), (585, 39))}]\n",
      "liquidityFee\n",
      "[{'start': (586, 4), 'code': '3', 'code_type': 'uint256', 'raw_code': b'uint256 public liquidityFee = 3;', 'pos': ((586, 4), (586, 36))}]\n",
      "maxTransferAmountRate\n",
      "[{'start': (574, 4), 'code': '50', 'code_type': 'uint16', 'raw_code': b'uint16 public maxTransferAmountRate = 50;', 'pos': ((574, 4), (574, 45))}]\n",
      "buybackFeeonSell\n",
      "[{'start': (588, 4), 'code': '5', 'code_type': 'uint256', 'raw_code': b'uint256 public buybackFeeonSell = 5;', 'pos': ((588, 4), (588, 40))}]\n",
      "totalFees\n",
      "[{'start': (481, 1), 'code': '( ( BTCBRewardsFee + liquidityFee ) + marketingFee )', 'code_type': 'uint256', 'raw_code': b'uint256 public totalFees = ( ( BTCBRewardsFee + liquidityFee ) + marketingFee ) ;', 'pos': ((481, 1), (481, 82))}]\n",
      "info=(['reflectionRateBTCB', 'redistributionFeeBTCB', 'holderRedistributionRate'], '0.1', 100, '\\n    Reflection Rate: 10% of every transaction is AUTOMATICALLY redistributed to the holders in $BTCB Bitcoin.\\n    '), Is the fee found='Yes', matched_var_name='BTCBRewardsFee', matched_var_exp='BTCBRewardsFee = 10', isEq=True\n",
      "marketingFee\n",
      "[{'start': (587, 4), 'code': '5', 'code_type': 'uint256', 'raw_code': b'uint256 public marketingFee = 5;', 'pos': ((587, 4), (587, 36))}]\n",
      "liquidityFee\n",
      "[{'start': (586, 4), 'code': '3', 'code_type': 'uint256', 'raw_code': b'uint256 public liquidityFee = 3;', 'pos': ((586, 4), (586, 36))}]\n",
      "buybackFeeonSell\n",
      "[{'start': (588, 4), 'code': '5', 'code_type': 'uint256', 'raw_code': b'uint256 public buybackFeeonSell = 5;', 'pos': ((588, 4), (588, 40))}]\n",
      "totalFees\n",
      "[{'start': (481, 1), 'code': '( ( BTCBRewardsFee + liquidityFee ) + marketingFee )', 'code_type': 'uint256', 'raw_code': b'uint256 public totalFees = ( ( BTCBRewardsFee + liquidityFee ) + marketingFee ) ;', 'pos': ((481, 1), (481, 82))}]\n",
      "BTCBRewardsFee\n",
      "[{'start': (585, 4), 'code': '10', 'code_type': 'uint256', 'raw_code': b'uint256 public BTCBRewardsFee = 10;', 'pos': ((585, 4), (585, 39))}]\n",
      "info=(['marketingTaxRate', 'marketingFeePercentage', 'marketingBNBTax'], '0.05', 100, '\\n    Marketing Tax Rate: The marketing wallet will receive 5% tax as BNB from the transactions.\\n    '), Is the fee found='Yes', matched_var_name='marketingFee', matched_var_exp='marketingFee = 5', isEq=True\n",
      "liquidityFee\n",
      "[{'start': (586, 4), 'code': '3', 'code_type': 'uint256', 'raw_code': b'uint256 public liquidityFee = 3;', 'pos': ((586, 4), (586, 36))}]\n",
      "maxTransferAmountRate\n",
      "[{'start': (574, 4), 'code': '50', 'code_type': 'uint16', 'raw_code': b'uint16 public maxTransferAmountRate = 50;', 'pos': ((574, 4), (574, 45))}]\n",
      "limitSwap\n",
      "[{'start': (593, 4), 'code': 'true', 'code_type': 'bool', 'raw_code': b'bool public limitSwap = true;', 'pos': ((593, 4), (593, 33))}]\n",
      "marketingFee\n",
      "[{'start': (587, 4), 'code': '5', 'code_type': 'uint256', 'raw_code': b'uint256 public marketingFee = 5;', 'pos': ((587, 4), (587, 36))}]\n",
      "maxBuyAmount\n",
      "[{'start': (466, 1), 'code': '50000000 * ( 10 ** 18 )', 'code_type': 'uint256', 'raw_code': b'uint256 public maxBuyAmount = 50000000 * ( 10 ** 18 ) ;', 'pos': ((466, 1), (466, 56))}]\n",
      "info=(['liquidityRate', 'automaticLiquidityFee', 'pancakeSwapLiquidityContribution'], '0.03', 100, '\\n    Automatic Liquidity Rate: 3% of every transaction contributes toward automatically generating liquidity on PancakeSwap.\\n    '), Is the fee found='Yes', matched_var_name='liquidityFee', matched_var_exp='liquidityFee = 3', isEq=True\n",
      "liquidityFee\n",
      "[{'start': (586, 4), 'code': '3', 'code_type': 'uint256', 'raw_code': b'uint256 public liquidityFee = 3;', 'pos': ((586, 4), (586, 36))}]\n",
      "marketingFee\n",
      "[{'start': (587, 4), 'code': '5', 'code_type': 'uint256', 'raw_code': b'uint256 public marketingFee = 5;', 'pos': ((587, 4), (587, 36))}]\n",
      "buybackFeeonSell\n",
      "[{'start': (588, 4), 'code': '5', 'code_type': 'uint256', 'raw_code': b'uint256 public buybackFeeonSell = 5;', 'pos': ((588, 4), (588, 40))}]\n",
      "totalFees\n",
      "[{'start': (481, 1), 'code': '( ( BTCBRewardsFee + liquidityFee ) + marketingFee )', 'code_type': 'uint256', 'raw_code': b'uint256 public totalFees = ( ( BTCBRewardsFee + liquidityFee ) + marketingFee ) ;', 'pos': ((481, 1), (481, 82))}]\n",
      "maxBuyAmount\n",
      "[{'start': (466, 1), 'code': '50000000 * ( 10 ** 18 )', 'code_type': 'uint256', 'raw_code': b'uint256 public maxBuyAmount = 50000000 * ( 10 ** 18 ) ;', 'pos': ((466, 1), (466, 56))}]\n",
      "info=(['autoBuybackBurnFee', 'sellTransactionFee', 'buybackBurnTax'], '0.05', 100, '\\n    Auto Buy-back Burn: 5% tax from every sell transaction will be used for Buy back-Token and Burn it.\\n    '), Is the fee found='Yes', matched_var_name='marketingFee', matched_var_exp='marketingFee = 5', isEq=True\n",
      "limitSwap\n",
      "[{'start': (593, 4), 'code': 'true', 'code_type': 'bool', 'raw_code': b'bool public limitSwap = true;', 'pos': ((593, 4), (593, 33))}]\n",
      "maxTransferAmountRate\n",
      "[{'start': (574, 4), 'code': '50', 'code_type': 'uint16', 'raw_code': b'uint16 public maxTransferAmountRate = 50;', 'pos': ((574, 4), (574, 45))}]\n",
      "timeLimitSwap\n",
      "[{'start': (597, 1), 'code': '100', 'code_type': 'uint256', 'raw_code': b'uint256 public timeLimitSwap = 100;', 'pos': ((597, 1), (597, 36))}]\n",
      "maxBuyAmount\n",
      "[{'start': (466, 1), 'code': '50000000 * ( 10 ** 18 )', 'code_type': 'uint256', 'raw_code': b'uint256 public maxBuyAmount = 50000000 * ( 10 ** 18 ) ;', 'pos': ((466, 1), (466, 56))}]\n",
      "_excludedLimitSwap\n",
      "[{'start': (473, 1), 'code': '', 'code_type': 'mapping', 'raw_code': b'mapping ( address => bool ) private _excludedLimitSwap ;', 'pos': ((473, 1), (473, 57))}]\n",
      "Skip No-expression Var \n",
      "[{'info': (['feeThreshold', 'tokenSwapTrigger', 'chargeInitiationAmount'], '0.000001', 100, '\\n    After a certain amount of tokens have been stored in the contract (0.0001% of the total supply) it initiates a swap.\\n    '), 'Is the fee found': 'No', 'matched_var_name': 'limitSwap', 'matched_var_exp': 'limitSwap = true', 'isEq': False}, {'info': (['feeThreshold', 'tokenSwapTrigger', 'chargeInitiationAmount'], '0.000001', 100, '\\n    After a certain amount of tokens have been stored in the contract (0.0001% of the total supply) it initiates a swap.\\n    '), 'Is the fee found': 'No', 'matched_var_name': 'maxTransferAmountRate', 'matched_var_exp': 'maxTransferAmountRate = 50', 'isEq': False}, {'info': (['feeThreshold', 'tokenSwapTrigger', 'chargeInitiationAmount'], '0.000001', 100, '\\n    After a certain amount of tokens have been stored in the contract (0.0001% of the total supply) it initiates a swap.\\n    '), 'Is the fee found': 'No', 'matched_var_name': 'timeLimitSwap', 'matched_var_exp': 'timeLimitSwap = 100', 'isEq': False}, {'info': (['feeThreshold', 'tokenSwapTrigger', 'chargeInitiationAmount'], '0.000001', 100, '\\n    After a certain amount of tokens have been stored in the contract (0.0001% of the total supply) it initiates a swap.\\n    '), 'Is the fee found': 'No', 'matched_var_name': 'maxBuyAmount', 'matched_var_exp': 'maxBuyAmount = 50000000 * ( 10 ** 18 )', 'isEq': False}]\n",
      "info=(['feeThreshold', 'tokenSwapTrigger', 'chargeInitiationAmount'], '0.000001', 100, '\\n    After a certain amount of tokens have been stored in the contract (0.0001% of the total supply) it initiates a swap.\\n    '), Is the fee found='No', matched_var_name='limitSwap', matched_var_exp='limitSwap = true', isEq=False\n",
      "limitSwap\n",
      "[{'start': (593, 4), 'code': 'true', 'code_type': 'bool', 'raw_code': b'bool public limitSwap = true;', 'pos': ((593, 4), (593, 33))}]\n",
      "maxTransferAmountRate\n",
      "[{'start': (574, 4), 'code': '50', 'code_type': 'uint16', 'raw_code': b'uint16 public maxTransferAmountRate = 50;', 'pos': ((574, 4), (574, 45))}]\n",
      "timeLimitSwap\n",
      "[{'start': (597, 1), 'code': '100', 'code_type': 'uint256', 'raw_code': b'uint256 public timeLimitSwap = 100;', 'pos': ((597, 1), (597, 36))}]\n",
      "maxBuyAmount\n",
      "[{'start': (466, 1), 'code': '50000000 * ( 10 ** 18 )', 'code_type': 'uint256', 'raw_code': b'uint256 public maxBuyAmount = 50000000 * ( 10 ** 18 ) ;', 'pos': ((466, 1), (466, 56))}]\n",
      "_excludedLimitSwap\n",
      "[{'start': (473, 1), 'code': '', 'code_type': 'mapping', 'raw_code': b'mapping ( address => bool ) private _excludedLimitSwap ;', 'pos': ((473, 1), (473, 57))}]\n",
      "Skip No-expression Var \n",
      "[{'info': (['feeThreshold', 'tokenSwapTrigger', 'chargeInitiationAmount'], '0.000001*totaolSupply', 100, '\\n    After a certain amount of tokens have been stored in the contract (0.0001% of the total supply) it initiates a swap.\\n    '), 'Is the fee found': 'No', 'matched_var_name': 'limitSwap', 'matched_var_exp': 'limitSwap = true', 'isEq': False}, {'info': (['feeThreshold', 'tokenSwapTrigger', 'chargeInitiationAmount'], '0.000001*totaolSupply', 100, '\\n    After a certain amount of tokens have been stored in the contract (0.0001% of the total supply) it initiates a swap.\\n    '), 'Is the fee found': 'No', 'matched_var_name': 'maxTransferAmountRate', 'matched_var_exp': 'maxTransferAmountRate = 50', 'isEq': Eq(50, 0.0001*totaolSupply)}, {'info': (['feeThreshold', 'tokenSwapTrigger', 'chargeInitiationAmount'], '0.000001*totaolSupply', 100, '\\n    After a certain amount of tokens have been stored in the contract (0.0001% of the total supply) it initiates a swap.\\n    '), 'Is the fee found': 'No', 'matched_var_name': 'timeLimitSwap', 'matched_var_exp': 'timeLimitSwap = 100', 'isEq': Eq(100, 0.0001*totaolSupply)}, {'info': (['feeThreshold', 'tokenSwapTrigger', 'chargeInitiationAmount'], '0.000001*totaolSupply', 100, '\\n    After a certain amount of tokens have been stored in the contract (0.0001% of the total supply) it initiates a swap.\\n    '), 'Is the fee found': 'No', 'matched_var_name': 'maxBuyAmount', 'matched_var_exp': 'maxBuyAmount = 50000000 * ( 10 ** 18 )', 'isEq': Eq(50000000000000000000000000, 0.0001*totaolSupply)}]\n",
      "info=(['feeThreshold', 'tokenSwapTrigger', 'chargeInitiationAmount'], '0.000001*totaolSupply', 100, '\\n    After a certain amount of tokens have been stored in the contract (0.0001% of the total supply) it initiates a swap.\\n    '), Is the fee found='No', matched_var_name='limitSwap', matched_var_exp='limitSwap = true', isEq=False\n",
      "BTCBRewardsFee\n",
      "[{'start': (585, 4), 'code': '10', 'code_type': 'uint256', 'raw_code': b'uint256 public BTCBRewardsFee = 10;', 'pos': ((585, 4), (585, 39))}]\n",
      "liquidityFee\n",
      "[{'start': (586, 4), 'code': '3', 'code_type': 'uint256', 'raw_code': b'uint256 public liquidityFee = 3;', 'pos': ((586, 4), (586, 36))}]\n",
      "totalFees\n",
      "[{'start': (481, 1), 'code': '( ( BTCBRewardsFee + liquidityFee ) + marketingFee )', 'code_type': 'uint256', 'raw_code': b'uint256 public totalFees = ( ( BTCBRewardsFee + liquidityFee ) + marketingFee ) ;', 'pos': ((481, 1), (481, 82))}]\n",
      "marketingFee\n",
      "[{'start': (587, 4), 'code': '5', 'code_type': 'uint256', 'raw_code': b'uint256 public marketingFee = 5;', 'pos': ((587, 4), (587, 36))}]\n",
      "buybackFeeonSell\n",
      "[{'start': (588, 4), 'code': '5', 'code_type': 'uint256', 'raw_code': b'uint256 public buybackFeeonSell = 5;', 'pos': ((588, 4), (588, 40))}]\n",
      "info=(['rewardPoolBTCB', 'tokenRewardFee', 'btcbRewardShare'], '0.1', 100, '\\n   Each owner of Shiva tokens is eligible to automatically receive $BTCB from the reward pool. The reward pool contains a number of $BTCB tokens reserved by the contract. The contract uses a portion of the tax applied to every transaction (10%) to do this.\\n    '), Is the fee found='Yes', matched_var_name='BTCBRewardsFee', matched_var_exp='BTCBRewardsFee = 10', isEq=True\n",
      "limitSwap\n",
      "[{'start': (593, 4), 'code': 'true', 'code_type': 'bool', 'raw_code': b'bool public limitSwap = true;', 'pos': ((593, 4), (593, 33))}]\n",
      "timeLimitSwap\n",
      "[{'start': (597, 1), 'code': '100', 'code_type': 'uint256', 'raw_code': b'uint256 public timeLimitSwap = 100;', 'pos': ((597, 1), (597, 36))}]\n",
      "_excludedLimitSwap\n",
      "[{'start': (473, 1), 'code': '', 'code_type': 'mapping', 'raw_code': b'mapping ( address => bool ) private _excludedLimitSwap ;', 'pos': ((473, 1), (473, 57))}]\n",
      "Skip No-expression Var \n",
      "maxTransferAmountRate\n",
      "[{'start': (574, 4), 'code': '50', 'code_type': 'uint16', 'raw_code': b'uint16 public maxTransferAmountRate = 50;', 'pos': ((574, 4), (574, 45))}]\n",
      "tokenHoldersMap\n",
      "[{'start': (893, 1), 'code': '', 'code_type': 'IterableMapping', 'raw_code': b'IterableMapping . Map private tokenHoldersMap ;', 'pos': ((893, 1), (893, 48))}]\n",
      "Skip No-expression Var \n",
      "[{'info': (['tokenSwapThreshold', 'feeSwapThreshold', 'rewardPoolBoostThreshold'], '20000000', 1000000000000000000, \"\\n    After a certain amount of tokens are stored in the contract (20,000,000 Token) it initiates a swap. A swap in this context is the process of swapping the contract's token balance with $BTCBs in order to increase the reward pool. \\n    \"), 'Is the fee found': 'No', 'matched_var_name': 'limitSwap', 'matched_var_exp': 'limitSwap = true', 'isEq': False}, {'info': (['tokenSwapThreshold', 'feeSwapThreshold', 'rewardPoolBoostThreshold'], '20000000', 1000000000000000000, \"\\n    After a certain amount of tokens are stored in the contract (20,000,000 Token) it initiates a swap. A swap in this context is the process of swapping the contract's token balance with $BTCBs in order to increase the reward pool. \\n    \"), 'Is the fee found': 'No', 'matched_var_name': 'timeLimitSwap', 'matched_var_exp': 'timeLimitSwap = 100', 'isEq': False}, {'info': (['tokenSwapThreshold', 'feeSwapThreshold', 'rewardPoolBoostThreshold'], '20000000', 1000000000000000000, \"\\n    After a certain amount of tokens are stored in the contract (20,000,000 Token) it initiates a swap. A swap in this context is the process of swapping the contract's token balance with $BTCBs in order to increase the reward pool. \\n    \"), 'Is the fee found': 'No', 'matched_var_name': 'maxTransferAmountRate', 'matched_var_exp': 'maxTransferAmountRate = 50', 'isEq': False}]\n",
      "info=(['tokenSwapThreshold', 'feeSwapThreshold', 'rewardPoolBoostThreshold'], '20000000', 1000000000000000000, \"\\n    After a certain amount of tokens are stored in the contract (20,000,000 Token) it initiates a swap. A swap in this context is the process of swapping the contract's token balance with $BTCBs in order to increase the reward pool. \\n    \"), Is the fee found='No', matched_var_name='limitSwap', matched_var_exp='limitSwap = true', isEq=False\n",
      "swapTokensAtAmount\n",
      "[{'start': (469, 1), 'code': '20000000 * ( 10 ** 18 )', 'code_type': 'uint256', 'raw_code': b'uint256 public swapTokensAtAmount = 20000000 * ( 10 ** 18 ) ;', 'pos': ((469, 1), (469, 62))}]\n",
      "minimumTokenBalanceForDividends\n",
      "[{'start': (898, 1), 'code': '', 'code_type': 'uint256', 'raw_code': b'uint256 public minimumTokenBalanceForDividends ;', 'pos': ((898, 1), (898, 49))}]\n",
      "Skip No-expression Var \n",
      "maxBuyAmount\n",
      "[{'start': (466, 1), 'code': '50000000 * ( 10 ** 18 )', 'code_type': 'uint256', 'raw_code': b'uint256 public maxBuyAmount = 50000000 * ( 10 ** 18 ) ;', 'pos': ((466, 1), (466, 56))}]\n",
      "maxSellAmount\n",
      "[{'start': (467, 1), 'code': '500000 * ( 10 ** 18 )', 'code_type': 'uint256', 'raw_code': b'uint256 public maxSellAmount = 500000 * ( 10 ** 18 ) ;', 'pos': ((467, 1), (467, 55))}]\n",
      "BuybackAmount\n",
      "[{'start': (720, 44), 'code': '0', 'code_type': 'BuybackAmount', 'raw_code': b'BuybackAmount = 0', 'pos': ((720, 44), (720, 61))}]\n",
      "[{'info': (['shivaTokenSupply', 'shivaTokenTotal', 'shivaTokenAmount'], '51000000000', 1000000000000000000, '\\n    The SHIVA token will be created with 51 Billion Supply.\\n    '), 'Is the fee found': 'No', 'matched_var_name': 'swapTokensAtAmount', 'matched_var_exp': 'swapTokensAtAmount = 20000000 * ( 10 ** 18 )', 'isEq': False}, {'info': (['shivaTokenSupply', 'shivaTokenTotal', 'shivaTokenAmount'], '51000000000', 1000000000000000000, '\\n    The SHIVA token will be created with 51 Billion Supply.\\n    '), 'Is the fee found': 'No', 'matched_var_name': 'maxBuyAmount', 'matched_var_exp': 'maxBuyAmount = 50000000 * ( 10 ** 18 )', 'isEq': False}, {'info': (['shivaTokenSupply', 'shivaTokenTotal', 'shivaTokenAmount'], '51000000000', 1000000000000000000, '\\n    The SHIVA token will be created with 51 Billion Supply.\\n    '), 'Is the fee found': 'No', 'matched_var_name': 'maxSellAmount', 'matched_var_exp': 'maxSellAmount = 500000 * ( 10 ** 18 )', 'isEq': False}, {'info': (['shivaTokenSupply', 'shivaTokenTotal', 'shivaTokenAmount'], '51000000000', 1000000000000000000, '\\n    The SHIVA token will be created with 51 Billion Supply.\\n    '), 'Is the fee found': 'No', 'matched_var_name': 'BuybackAmount', 'matched_var_exp': 'BuybackAmount = 0', 'isEq': False}]\n",
      "info=(['shivaTokenSupply', 'shivaTokenTotal', 'shivaTokenAmount'], '51000000000', 1000000000000000000, '\\n    The SHIVA token will be created with 51 Billion Supply.\\n    '), Is the fee found='No', matched_var_name='swapTokensAtAmount', matched_var_exp='swapTokensAtAmount = 20000000 * ( 10 ** 18 )', isEq=False\n"
     ]
    },
    {
     "data": {
      "text/plain": [
       "\"## whitepaper\\n\\n### Item v0\\n\\n   &ensp;**info**\\n   &emsp; \\n- Description: \\n    Reflection Rate: 10% of every transaction is AUTOMATICALLY redistributed to the holders in $BTCB Bitcoin.\\n     \\n   - Possible Var Names from ChatGPT: ['reflectionRateBTCB', 'redistributionFeeBTCB', 'holderRedistributionRate'] \\n   - Expression:  0.1 \\n\\n\\n   &ensp;**Is the fee found**\\n    Yes\\n\\n   &ensp;**matched_var_name**\\n    BTCBRewardsFee\\n\\n   &ensp;**matched_var_exp**\\n    BTCBRewardsFee = 10\\n\\n   &ensp;**isEq**\\n    True\\n\\n### Item v1\\n\\n   &ensp;**info**\\n   &emsp; \\n- Description: \\n    Marketing Tax Rate: The marketing wallet will receive 5% tax as BNB from the transactions.\\n     \\n   - Possible Var Names from ChatGPT: ['marketingTaxRate', 'marketingFeePercentage', 'marketingBNBTax'] \\n   - Expression:  0.05 \\n\\n\\n   &ensp;**Is the fee found**\\n    Yes\\n\\n   &ensp;**matched_var_name**\\n    marketingFee\\n\\n   &ensp;**matched_var_exp**\\n    marketingFee = 5\\n\\n   &ensp;**isEq**\\n    True\\n\\n### Item v2\\n\\n   &ensp;**info**\\n   &emsp; \\n- Description: \\n    Automatic Liquidity Rate: 3% of every transaction contributes toward automatically generating liquidity on PancakeSwap.\\n     \\n   - Possible Var Names from ChatGPT: ['liquidityRate', 'automaticLiquidityFee', 'pancakeSwapLiquidityContribution'] \\n   - Expression:  0.03 \\n\\n\\n   &ensp;**Is the fee found**\\n    Yes\\n\\n   &ensp;**matched_var_name**\\n    liquidityFee\\n\\n   &ensp;**matched_var_exp**\\n    liquidityFee = 3\\n\\n   &ensp;**isEq**\\n    True\\n\\n### Item v3\\n\\n   &ensp;**info**\\n   &emsp; \\n- Description: \\n    Auto Buy-back Burn: 5% tax from every sell transaction will be used for Buy back-Token and Burn it.\\n     \\n   - Possible Var Names from ChatGPT: ['autoBuybackBurnFee', 'sellTransactionFee', 'buybackBurnTax'] \\n   - Expression:  0.05 \\n\\n\\n   &ensp;**Is the fee found**\\n    Yes\\n\\n   &ensp;**matched_var_name**\\n    marketingFee\\n\\n   &ensp;**matched_var_exp**\\n    marketingFee = 5\\n\\n   &ensp;**isEq**\\n    True\\n\\n### Item v4\\n\\n   &ensp;**info**\\n   &emsp; \\n- Description: \\n    After a certain amount of tokens have been stored in the contract (0.0001% of the total supply) it initiates a swap.\\n     \\n   - Possible Var Names from ChatGPT: ['feeThreshold', 'tokenSwapTrigger', 'chargeInitiationAmount'] \\n   - Expression:  0.000001 \\n\\n\\n   &ensp;**Is the fee found**\\n    No\\n\\n   &ensp;**matched_var_name**\\n    limitSwap\\n\\n   &ensp;**matched_var_exp**\\n    limitSwap = true\\n\\n   &ensp;**isEq**\\n    False\\n\\n### Item v4_\\n\\n   &ensp;**info**\\n   &emsp; \\n- Description: \\n    After a certain amount of tokens have been stored in the contract (0.0001% of the total supply) it initiates a swap.\\n     \\n   - Possible Var Names from ChatGPT: ['feeThreshold', 'tokenSwapTrigger', 'chargeInitiationAmount'] \\n   - Expression:  0.000001*totaolSupply \\n\\n\\n   &ensp;**Is the fee found**\\n    No\\n\\n   &ensp;**matched_var_name**\\n    limitSwap\\n\\n   &ensp;**matched_var_exp**\\n    limitSwap = true\\n\\n   &ensp;**isEq**\\n    False\\n\\n### Item v5\\n\\n   &ensp;**info**\\n   &emsp; \\n- Description: \\n   Each owner of Shiva tokens is eligible to automatically receive $BTCB from the reward pool. The reward pool contains a number of $BTCB tokens reserved by the contract. The contract uses a portion of the tax applied to every transaction (10%) to do this.\\n     \\n   - Possible Var Names from ChatGPT: ['rewardPoolBTCB', 'tokenRewardFee', 'btcbRewardShare'] \\n   - Expression:  0.1 \\n\\n\\n   &ensp;**Is the fee found**\\n    Yes\\n\\n   &ensp;**matched_var_name**\\n    BTCBRewardsFee\\n\\n   &ensp;**matched_var_exp**\\n    BTCBRewardsFee = 10\\n\\n   &ensp;**isEq**\\n    True\\n\\n### Item v6\\n\\n   &ensp;**info**\\n   &emsp; \\n- Description: \\n    After a certain amount of tokens are stored in the contract (20,000,000 Token) it initiates a swap. A swap in this context is the process of swapping the contract's token balance with $BTCBs in order to increase the reward pool. \\n     \\n   - Possible Var Names from ChatGPT: ['tokenSwapThreshold', 'feeSwapThreshold', 'rewardPoolBoostThreshold'] \\n   - Expression:  20000000 \\n\\n\\n   &ensp;**Is the fee found**\\n    No\\n\\n   &ensp;**matched_var_name**\\n    limitSwap\\n\\n   &ensp;**matched_var_exp**\\n    limitSwap = true\\n\\n   &ensp;**isEq**\\n    False\\n\\n### Item v7\\n\\n   &ensp;**info**\\n   &emsp; \\n- Description: \\n    The SHIVA token will be created with 51 Billion Supply.\\n     \\n   - Possible Var Names from ChatGPT: ['shivaTokenSupply', 'shivaTokenTotal', 'shivaTokenAmount'] \\n   - Expression:  51000000000 \\n\\n\\n   &ensp;**Is the fee found**\\n    No\\n\\n   &ensp;**matched_var_name**\\n    swapTokensAtAmount\\n\\n   &ensp;**matched_var_exp**\\n    swapTokensAtAmount = 20000000 * ( 10 ** 18 )\\n\\n   &ensp;**isEq**\\n    False\\n\\n\\n## hidden_fee_function\\n\\n### isExcludedFromFees\\n\\n  &ensp;** Possible Values **:\\n _isExcludedFromFees_account_\\n\\n\\n## hidden_fee_var\\n\\n### _isExcludedFromFees_account_\\n\\n  &ensp;** Possible Values **:\\n excluded\\n\\n### _isExcludedFromFees [ accounts_i_]\\n\\n  &ensp;** Possible Values **:\\n excluded\\n\\n### maxTransferAmountRate\\n\\n  &ensp;** Possible Values **:\\n _maxTransferAmountRate\\n\\n### BTCBRewardsFee\\n\\n  &ensp;** Possible Values **:\\n value\\n\\n### totalFees\\n\\n  &ensp;** Possible Values **:\\n 18, \\n 18, \\n 18\\n\\n### liquidityFee\\n\\n  &ensp;** Possible Values **:\\n value\\n\\n### marketingFee\\n\\n  &ensp;** Possible Values **:\\n value\\n\\n\\n\""
      ]
     },
     "execution_count": 8,
     "metadata": {},
     "output_type": "execute_result"
    }
   ],
   "source": [
    "check_res = checkRevenueModel(var_names_chatgpt, code,top_K = 5)\n",
    "dict_to_markdown(check_res, \"./repo_check/ShivaToken/revenue_ShivaToken.md\")"
   ]
  }
 ],
 "metadata": {
  "kernelspec": {
   "display_name": "web3",
   "language": "python",
   "name": "python3"
  },
  "language_info": {
   "codemirror_mode": {
    "name": "ipython",
    "version": 3
   },
   "file_extension": ".py",
   "mimetype": "text/x-python",
   "name": "python",
   "nbconvert_exporter": "python",
   "pygments_lexer": "ipython3",
   "version": "3.8.16"
  },
  "orig_nbformat": 4
 },
 "nbformat": 4,
 "nbformat_minor": 2
}
