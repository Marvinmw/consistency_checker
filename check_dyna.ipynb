{
 "cells": [
  {
   "cell_type": "code",
   "execution_count": 4,
   "metadata": {},
   "outputs": [],
   "source": [
    "v0 = \"When a user's collateral value falls below the required 150%, (relative to their minted DYAD), they can be liquidated. Anyone can trigger a liquidation. \"\n",
    "\n",
    "v1 = \"The liquidator repays the outstanding minted DYAD and receives collateral, plus a 20% bonus, in return.\"\n",
    "\n",
    "v2 = \"The total supply of the Kerosene token is one Billion. \"\n",
    "\n",
    "dyna =[v0, v1, v2]"
   ]
  },
  {
   "cell_type": "code",
   "execution_count": 6,
   "metadata": {},
   "outputs": [
    {
     "name": "stdout",
     "output_type": "stream",
     "text": [
      "['repo_check/ico/dyad/contracts/src/staking/DyadXP.sol', 'repo_check/ico/dyad/contracts/src/staking/Kerosine.sol', 'repo_check/ico/dyad/contracts/src/staking/KerosineDenominator.sol', 'repo_check/ico/dyad/contracts/src/staking/Staking.sol', 'repo_check/ico/dyad/contracts/src/core/Licenser.sol', 'repo_check/ico/dyad/contracts/src/core/VaultManagerV4.sol', 'repo_check/ico/dyad/contracts/src/core/KeroseneOracleV2.sol', 'repo_check/ico/dyad/contracts/src/core/BtcVault.sol', 'repo_check/ico/dyad/contracts/src/core/VaultKerosene.sol', 'repo_check/ico/dyad/contracts/src/core/VaultManagerV3.sol', 'repo_check/ico/dyad/contracts/src/core/DNft.sol', 'repo_check/ico/dyad/contracts/src/core/Vault.wsteth.sol', 'repo_check/ico/dyad/contracts/src/core/KerosineManager.sol', 'repo_check/ico/dyad/contracts/src/core/VaultLicenser.sol', 'repo_check/ico/dyad/contracts/src/core/KeroseneOracle.sol', 'repo_check/ico/dyad/contracts/src/core/Vault.sfrxeth.sol', 'repo_check/ico/dyad/contracts/src/core/VaultManager.sol', 'repo_check/ico/dyad/contracts/src/core/Vault.sol', 'repo_check/ico/dyad/contracts/src/core/Dyad.sol', 'repo_check/ico/dyad/contracts/src/core/VaultManagerV2.sol', 'repo_check/ico/dyad/contracts/src/periphery/KeroseneDnftClaim.sol', 'repo_check/ico/dyad/contracts/src/periphery/Payments.sol', 'repo_check/ico/dyad/contracts/src/params/DNftParameters.sol', 'repo_check/ico/dyad/contracts/src/params/Parameters.sol']\n"
     ]
    }
   ],
   "source": [
    "from utils.constant_checker import checkRevenueModel, dict_to_markdown\n",
    "import glob\n",
    "\n",
    "tokenomic_file_list=[f for f in glob.glob(\"repo_check/ico/dyad/contracts/src/**/**.sol\", recursive=True)]\n",
    "print(tokenomic_file_list)\n",
    "conversion = 10 ** 18\n",
    "\n",
    "var_names_chatgpt = {\n",
    "    \"v0\": ([\"minimumCollateralPercentage\", \"liquidationThreshold\", \"collateralizationRatio\"], \"1.5\", conversion, v0),\n",
    "    \"v1\": ([\"liquidationBonusPercentage\", \"collateralRedemptionBonus\", \"repaymentBonusRatio\"], \"0.2\", conversion, v1),\n",
    "    \"v2\": ([\"totalKeroseneSupply\", \"keroseneTokenSupply\", \"maxKeroseneTokens\"], \"1000000000\", conversion, v2)\n",
    "}\n",
    "\n"
   ]
  },
  {
   "cell_type": "code",
   "execution_count": 8,
   "metadata": {},
   "outputs": [
    {
     "name": "stdout",
     "output_type": "stream",
     "text": [
      "LIQUIDATION_REWARD\n",
      "[{'start': (18, 2), 'code': '0.2e18', 'code_type': 'uint', 'raw_code': b'uint public constant LIQUIDATION_REWARD = 0.2e18;', 'pos': ((18, 2), (18, 51))}]\n",
      "balanceOf\n",
      "[{'start': (25, 1), 'code': '', 'code_type': 'mapping', 'raw_code': b'mapping ( address => uint ) public balanceOf ;', 'pos': ((25, 1), (25, 47))}]\n",
      "1.5\n",
      "rewardRate\n",
      "[{'start': (20, 1), 'code': '', 'code_type': 'uint', 'raw_code': b'uint public rewardRate ;', 'pos': ((20, 1), (20, 25))}]\n",
      "1.5\n",
      "START_PRICE\n",
      "[{'start': (3, 2), 'code': '0 ether', 'code_type': 'uint', 'raw_code': b'uint public constant START_PRICE    = 0 ether;', 'pos': ((3, 2), (3, 48))}]\n",
      "feeRecipient\n",
      "[{'start': (38, 1), 'code': '_feeRecipient', 'code_type': 'feeRecipient', 'raw_code': b'feeRecipient = _feeRecipient', 'pos': ((38, 1), (38, 29))}]\n",
      "1.5\n",
      "[{'info': (['minimumCollateralPercentage', 'liquidationThreshold', 'collateralizationRatio'], '1.5', 1000000000000000000, \"When a user's collateral value falls below the required 150%, (relative to their minted DYAD), they can be liquidated. Anyone can trigger a liquidation. \"), 'Is the fee found': 'No', 'matched_var_name': 'LIQUIDATION_REWARD', 'matched_var_exp': 'LIQUIDATION_REWARD = 0.2e18', 'isEq': False}, {'info': (['minimumCollateralPercentage', 'liquidationThreshold', 'collateralizationRatio'], '1.5', 1000000000000000000, \"When a user's collateral value falls below the required 150%, (relative to their minted DYAD), they can be liquidated. Anyone can trigger a liquidation. \"), 'Is the fee found': 'No', 'matched_var_name': 'balanceOf', 'matched_var_exp': 'balanceOf = ', 'isEq': False}, {'info': (['minimumCollateralPercentage', 'liquidationThreshold', 'collateralizationRatio'], '1.5', 1000000000000000000, \"When a user's collateral value falls below the required 150%, (relative to their minted DYAD), they can be liquidated. Anyone can trigger a liquidation. \"), 'Is the fee found': 'No', 'matched_var_name': 'rewardRate', 'matched_var_exp': 'rewardRate = ', 'isEq': False}, {'info': (['minimumCollateralPercentage', 'liquidationThreshold', 'collateralizationRatio'], '1.5', 1000000000000000000, \"When a user's collateral value falls below the required 150%, (relative to their minted DYAD), they can be liquidated. Anyone can trigger a liquidation. \"), 'Is the fee found': 'No', 'matched_var_name': 'START_PRICE', 'matched_var_exp': 'START_PRICE = 0 ', 'isEq': False}, {'info': (['minimumCollateralPercentage', 'liquidationThreshold', 'collateralizationRatio'], '1.5', 1000000000000000000, \"When a user's collateral value falls below the required 150%, (relative to their minted DYAD), they can be liquidated. Anyone can trigger a liquidation. \"), 'Is the fee found': 'No', 'matched_var_name': 'feeRecipient', 'matched_var_exp': 'feeRecipient = _feeRecipient', 'isEq': Eq(_feeRecipient, 1.5e+18)}]\n",
      "info=(['minimumCollateralPercentage', 'liquidationThreshold', 'collateralizationRatio'], '1.5', 1000000000000000000, \"When a user's collateral value falls below the required 150%, (relative to their minted DYAD), they can be liquidated. Anyone can trigger a liquidation. \"), Is the fee found='No', matched_var_name='LIQUIDATION_REWARD', matched_var_exp='LIQUIDATION_REWARD = 0.2e18', isEq=False\n",
      "LIQUIDATION_REWARD\n",
      "[{'start': (18, 2), 'code': '0.2e18', 'code_type': 'uint', 'raw_code': b'uint public constant LIQUIDATION_REWARD = 0.2e18;', 'pos': ((18, 2), (18, 51))}]\n",
      "userRewardPerTokenPaid\n",
      "[{'start': (22, 1), 'code': '', 'code_type': 'mapping', 'raw_code': b'mapping ( address => uint ) public userRewardPerTokenPaid ;', 'pos': ((22, 1), (22, 60))}]\n",
      "0.2\n",
      "rewardRate\n",
      "[{'start': (20, 1), 'code': '', 'code_type': 'uint', 'raw_code': b'uint public rewardRate ;', 'pos': ((20, 1), (20, 25))}]\n",
      "0.2\n",
      "rewardsToken\n",
      "[{'start': (28, 1), 'code': '_rewardToken', 'code_type': 'rewardsToken', 'raw_code': b'rewardsToken = _rewardToken', 'pos': ((28, 1), (28, 28))}]\n",
      "0.2\n",
      "rewards\n",
      "[{'start': (23, 1), 'code': '', 'code_type': 'mapping', 'raw_code': b'mapping ( address => uint ) public rewards ;', 'pos': ((23, 1), (23, 45))}]\n",
      "0.2\n",
      "info=(['liquidationBonusPercentage', 'collateralRedemptionBonus', 'repaymentBonusRatio'], '0.2', 1000000000000000000, 'The liquidator repays the outstanding minted DYAD and receives collateral, plus a 20% bonus, in return.'), Is the fee found='Yes', matched_var_name='LIQUIDATION_REWARD', matched_var_exp='LIQUIDATION_REWARD = 0.2e18', isEq=True\n",
      "totalKeroseneInVault\n",
      "[{'start': (38, 1), 'code': '', 'code_type': 'uint256', 'raw_code': b'uint256 totalKeroseneInVault ;', 'pos': ((38, 1), (38, 31))}]\n",
      "1000000000\n",
      "totalSupply\n",
      "[{'start': (24, 1), 'code': '', 'code_type': 'uint', 'raw_code': b'uint public totalSupply ;', 'pos': ((24, 1), (24, 26))}]\n",
      "1000000000\n",
      "KEROSENE\n",
      "[{'start': (25, 1), 'code': 'ERC20 ( kerosene )', 'code_type': 'KEROSENE', 'raw_code': b'KEROSENE = ERC20 ( kerosene )', 'pos': ((25, 1), (25, 30))}]\n",
      "1000000000\n",
      "KEROSENE_VAULT\n",
      "[{'start': (21, 2), 'code': '0x4808e4CC6a2Ba764778A0351E1Be198494aF0b43', 'code_type': 'address', 'raw_code': b'address public constant KEROSENE_VAULT = 0x4808e4CC6a2Ba764778A0351E1Be198494aF0b43;', 'pos': ((21, 2), (21, 86))}]\n",
      "rewardPerTokenStored\n",
      "[{'start': (31, 1), 'code': 'rewardPerToken ( )', 'code_type': 'rewardPerTokenStored', 'raw_code': b'rewardPerTokenStored = rewardPerToken ( )', 'pos': ((31, 1), (31, 42))}]\n",
      "1000000000\n",
      "[{'info': (['totalKeroseneSupply', 'keroseneTokenSupply', 'maxKeroseneTokens'], '1000000000', 1000000000000000000, 'The total supply of the Kerosene token is one Billion. '), 'Is the fee found': 'No', 'matched_var_name': 'totalKeroseneInVault', 'matched_var_exp': 'totalKeroseneInVault = ', 'isEq': Eq(_rewardToken, 2.0e+17)}, {'info': (['totalKeroseneSupply', 'keroseneTokenSupply', 'maxKeroseneTokens'], '1000000000', 1000000000000000000, 'The total supply of the Kerosene token is one Billion. '), 'Is the fee found': 'No', 'matched_var_name': 'totalSupply', 'matched_var_exp': 'totalSupply = ', 'isEq': Eq(_rewardToken, 2.0e+17)}, {'info': (['totalKeroseneSupply', 'keroseneTokenSupply', 'maxKeroseneTokens'], '1000000000', 1000000000000000000, 'The total supply of the Kerosene token is one Billion. '), 'Is the fee found': 'No', 'matched_var_name': 'KEROSENE', 'matched_var_exp': 'KEROSENE = ERC20 ( kerosene )', 'isEq': Eq(ERC20(kerosene), 1000000000000000000000000000)}, {'info': (['totalKeroseneSupply', 'keroseneTokenSupply', 'maxKeroseneTokens'], '1000000000', 1000000000000000000, 'The total supply of the Kerosene token is one Billion. '), 'Is the fee found': 'No', 'matched_var_name': 'KEROSENE_VAULT', 'matched_var_exp': 'KEROSENE_VAULT = 0x4808e4CC6a2Ba764778A0351E1Be198494aF0b43', 'isEq': False}, {'info': (['totalKeroseneSupply', 'keroseneTokenSupply', 'maxKeroseneTokens'], '1000000000', 1000000000000000000, 'The total supply of the Kerosene token is one Billion. '), 'Is the fee found': 'No', 'matched_var_name': 'rewardPerTokenStored', 'matched_var_exp': 'rewardPerTokenStored = rewardPerToken ( )', 'isEq': Eq(rewardPerToken(), 1000000000000000000000000000)}]\n",
      "info=(['totalKeroseneSupply', 'keroseneTokenSupply', 'maxKeroseneTokens'], '1000000000', 1000000000000000000, 'The total supply of the Kerosene token is one Billion. '), Is the fee found='No', matched_var_name='totalKeroseneInVault', matched_var_exp='totalKeroseneInVault = ', isEq=Eq(_rewardToken, 2.0e+17)\n"
     ]
    },
    {
     "data": {
      "text/plain": [
       "\"## whitepaper\\n\\n### Item v0\\n\\n   &ensp;**info**\\n '  &emsp; \\n- Description: When a user's collateral value falls below the required 150%, (relative to their minted DYAD), they can be liquidated. Anyone can trigger a liquidation.  \\n   - Possible Var Names from ChatGPT: ['minimumCollateralPercentage', 'liquidationThreshold', 'collateralizationRatio'] \\n   - Expression:  1.5 \\n'\\n\\n   &ensp;**Is the fee found**\\n '   No'\\n\\n   &ensp;**matched_var_name**\\n '   LIQUIDATION_REWARD'\\n\\n   &ensp;**matched_var_exp**\\n '   LIQUIDATION_REWARD = 0.2e18'\\n\\n   &ensp;**isEq**\\n '   False'\\n\\n### Item v1\\n\\n   &ensp;**info**\\n '  &emsp; \\n- Description: The liquidator repays the outstanding minted DYAD and receives collateral, plus a 20% bonus, in return. \\n   - Possible Var Names from ChatGPT: ['liquidationBonusPercentage', 'collateralRedemptionBonus', 'repaymentBonusRatio'] \\n   - Expression:  0.2 \\n'\\n\\n   &ensp;**Is the fee found**\\n '   Yes'\\n\\n   &ensp;**matched_var_name**\\n '   LIQUIDATION_REWARD'\\n\\n   &ensp;**matched_var_exp**\\n '   LIQUIDATION_REWARD = 0.2e18'\\n\\n   &ensp;**isEq**\\n '   True'\\n\\n### Item v2\\n\\n   &ensp;**info**\\n '  &emsp; \\n- Description: The total supply of the Kerosene token is one Billion.  \\n   - Possible Var Names from ChatGPT: ['totalKeroseneSupply', 'keroseneTokenSupply', 'maxKeroseneTokens'] \\n   - Expression:  1000000000 \\n'\\n\\n   &ensp;**Is the fee found**\\n '   No'\\n\\n   &ensp;**matched_var_name**\\n '   totalKeroseneInVault'\\n\\n   &ensp;**matched_var_exp**\\n '   totalKeroseneInVault = '\\n\\n   &ensp;**isEq**\\n '   Eq(_rewardToken, 2.0e+17)'\\n\\n\\n## hidden_fee_function\\n\\n\\n## hidden_fee_var\\n\\n### GOERLI_FEE\\n\\n  &ensp;** Possible Values **:\\n '0.001e18'\\n\\n### GOERLI_FEE_RECIPIENT\\n\\n  &ensp;** Possible Values **:\\n '0xDeD796De6a14E255487191963dEe436c45995813'\\n\\n### MAINNET_FEE\\n\\n  &ensp;** Possible Values **:\\n '0.0015e18'\\n\\n### MAINNET_FEE_RECIPIENT\\n\\n  &ensp;** Possible Values **:\\n '0xDeD796De6a14E255487191963dEe436c45995813'\\n\\n### SEPOLIA_FEE\\n\\n  &ensp;** Possible Values **:\\n '0.001e18'\\n\\n### SEPOLIA_FEE_RECIPIENT\\n\\n  &ensp;** Possible Values **:\\n '0xDeD796De6a14E255487191963dEe436c45995813'\\n\\n\\n\""
      ]
     },
     "execution_count": 8,
     "metadata": {},
     "output_type": "execute_result"
    }
   ],
   "source": [
    "check_res, ContractStates = checkRevenueModel(var_names_chatgpt, file_list=tokenomic_file_list,top_K = 5)\n",
    "dict_to_markdown(check_res, \"./repo_check/ico/dyad/revenue_dyad.md\")"
   ]
  }
 ],
 "metadata": {
  "kernelspec": {
   "display_name": "torch",
   "language": "python",
   "name": "python3"
  },
  "language_info": {
   "codemirror_mode": {
    "name": "ipython",
    "version": 3
   },
   "file_extension": ".py",
   "mimetype": "text/x-python",
   "name": "python",
   "nbconvert_exporter": "python",
   "pygments_lexer": "ipython3",
   "version": "3.10.12"
  }
 },
 "nbformat": 4,
 "nbformat_minor": 2
}
