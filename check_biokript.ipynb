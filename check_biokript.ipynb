{
 "cells": [
  {
   "cell_type": "markdown",
   "metadata": {},
   "source": [
    "## Fee Definitions in the whitepaper"
   ]
  },
  {
   "cell_type": "code",
   "execution_count": 1,
   "metadata": {},
   "outputs": [],
   "source": [
    "v0 = \\\n",
    "    \"\"\"\n",
    "    TRADING FEES. Biokript exchange will charge a 0.20% fee for both Makers and Takers. Users holding our Biokript tokens will automatically get a discount.\n",
    "    \"\"\"\n",
    "\n",
    "v1 = \\\n",
    "    \"\"\"\n",
    "    WITHDRAWAL FEE. We charge a small fee for withdrawals and this fee is dynamic depending how busy is the network\n",
    "    \"\"\"\n",
    "\n",
    "v2 = \\\n",
    "    \"\"\"\n",
    "  CREDIT OR DEBIT CARD PURCHASES. We will also charge a small fee for credit or debit card purchases.\n",
    "    \"\"\"\n",
    "\n",
    "v3 = \\\n",
    "    \"\"\"\n",
    "   LISTING FEE. We are very selective in coins we choose to be on our platform, and we charge projects a fee to list their token on our exchange. Before the listing, there is a detailed analysis of the project to make sure the project complies with all the security regulations of our exchange.\n",
    "    \"\"\"\n",
    "\n",
    "v4 = \\\n",
    "    \"\"\"\n",
    "   VOTING FEES. To engage our community with our platform, we’ll also have a voting fee in order to list a token. That is a very popular and engaging way to include our community in the listing process on our platform.\n",
    "    \"\"\"\n",
    "v5 = \\\n",
    "    \"\"\"\n",
    "  10% of all trading fee revenues  will be set aside for token burn, and for every 100% BKPT appreciation, we’ll start with a 1% burn of the entire token supply. \n",
    "    \"\"\"\n",
    "\n",
    "v6 = \\\n",
    "    \"\"\"\n",
    "There is always a buyer and a seller, so the exchange will always collect trade fees from both of them.\n",
    "    \"\"\"\n",
    "moongame=[ v0, v1, v2, v3, v4, v5, v6]"
   ]
  },
  {
   "cell_type": "markdown",
   "metadata": {},
   "source": [
    "## Generate Prompt and ask ChatGPT"
   ]
  },
  {
   "cell_type": "code",
   "execution_count": 2,
   "metadata": {},
   "outputs": [],
   "source": [
    "import os\n",
    "os.makedirs(\"./repo_check/biokript/constant_whitepaper\", exist_ok=True)\n",
    "prompts = []\n",
    "for i, v in enumerate(moongame):\n",
    "    prompt=\\\n",
    "\"\"\"You are a good Smart Contract developer. Your task is to give a variable with a good name according to the description I provide. The variable is about the tokenomics.  The description about the variable is \n",
    "\n",
    "    '''\"\"\" + \\\n",
    "v + \\\n",
    "\"\"\"'''\n",
    "\n",
    "What is the good variable name? Please provide 3 good choices. The name should be short, concise and precise. The answer just contains three names and do not need explain.\n",
    "\"\"\"\n",
    "    prompts.append(prompt)\n",
    "    with open(f\"./repo_check/biokript/constant_whitepaper/v{i}.txt\", \"w\") as f:\n",
    "        f.write(prompt)"
   ]
  },
  {
   "cell_type": "markdown",
   "metadata": {},
   "source": [
    "## add values"
   ]
  },
  {
   "cell_type": "code",
   "execution_count": 3,
   "metadata": {},
   "outputs": [],
   "source": [
    "from utils.constant_checker import checkRevenueModel, dict_to_markdown\n",
    "a=\"./repo_check/biokript/src/biokript.sol\"\n",
    "code=open(a).read()\n",
    "conversion = 100\n",
    "BNB_decimal = 10 ** 18\n",
    "var_names_chatgpt = {\n",
    "    \"v0\":([\"tradingFee\",\"exchangeFee\",\"bktFee\"], \"0.002\", conversion * 10, v0),\n",
    "    \"v1\":([\"withdrawalFee\",\"dynamicWithdrawalFee\",\"networkWithdrawalFee\"], None, conversion, v1),\n",
    "    \"v2\":([\"cardPurchaseFee\",\"paymentCardFee\",\"transactionCardFee\"],  None, conversion, v2),\n",
    "    \"v3\":([\"listingFee\", \"tokenListingFee\",\"projectListingFee\"], None, conversion, v3),\n",
    "    \"v4\":([\"votingFee\",\"tokenVotingFee\",\"communityVotingFee\"], None, conversion, v4),\n",
    "    \"v5\":([\"burnFee\", \"revenueBurn\", \"appreciationBurn\"], \"0.1\", conversion, v5),\n",
    "    \"v6\":([\"tradeFee\",\"buyerSellerFee\", \"exchangeCommission\"], None, conversion, v6)\n",
    "}\n",
    "\n",
    "\n",
    "                "
   ]
  },
  {
   "cell_type": "markdown",
   "metadata": {},
   "source": [
    "## Check and Report"
   ]
  },
  {
   "cell_type": "code",
   "execution_count": 4,
   "metadata": {},
   "outputs": [
    {
     "name": "stdout",
     "output_type": "stream",
     "text": [
      "liquidityFee\n",
      "[{'start': (63, 1), 'code': '_fee', 'code_type': 'liquidityFee', 'raw_code': b'liquidityFee = _fee', 'pos': ((63, 1), (63, 20))}]\n",
      "feeReceiver\n",
      "[{'start': (0, 522), 'code': '0x4ed2D84a05DB7212039B4290507762Da79D4Ceb7', 'code_type': 'feeReceiver', 'raw_code': b'feeReceiver = 0x4ed2D84a05DB7212039B4290507762Da79D4Ceb7', 'pos': ((0, 522), (0, 578))}]\n",
      "_isExcludedFromFees\n",
      "[{'start': (21, 1), 'code': '', 'code_type': 'mapping', 'raw_code': b'mapping ( address => bool ) public _isExcludedFromFees ;', 'pos': ((21, 1), (21, 57))}]\n",
      "Skip No-expression Var \n",
      "previousBalance\n",
      "[{'start': (28, 1), 'code': '', 'code_type': 'mapping', 'raw_code': b'mapping ( address => uint256 ) private previousBalance ;', 'pos': ((28, 1), (28, 57))}]\n",
      "Skip No-expression Var \n",
      "liquidityReceiver\n",
      "[{'start': (0, 451), 'code': '0xe1a2967DeAb90287cbE1c57768a0d347ccd8f530', 'code_type': 'liquidityReceiver', 'raw_code': b'liquidityReceiver = 0xe1a2967DeAb90287cbE1c57768a0d347ccd8f530', 'pos': ((0, 451), (0, 513))}]\n",
      "[{'info': (['tradingFee', 'exchangeFee', 'bktFee'], '0.002', 1000, '\\n    TRADING FEES. Biokript exchange will charge a 0.20% fee for both Makers and Takers. Users holding our Biokript tokens will automatically get a discount.\\n    '), 'Is the fee found': 'No', 'matched_var_name': 'liquidityFee', 'matched_var_exp': 'liquidityFee = _fee', 'isEq': Eq(_fee, 2.0)}, {'info': (['tradingFee', 'exchangeFee', 'bktFee'], '0.002', 1000, '\\n    TRADING FEES. Biokript exchange will charge a 0.20% fee for both Makers and Takers. Users holding our Biokript tokens will automatically get a discount.\\n    '), 'Is the fee found': 'No', 'matched_var_name': 'feeReceiver', 'matched_var_exp': 'feeReceiver = 0x4ed2D84a05DB7212039B4290507762Da79D4Ceb7', 'isEq': False}, {'info': (['tradingFee', 'exchangeFee', 'bktFee'], '0.002', 1000, '\\n    TRADING FEES. Biokript exchange will charge a 0.20% fee for both Makers and Takers. Users holding our Biokript tokens will automatically get a discount.\\n    '), 'Is the fee found': 'No', 'matched_var_name': 'liquidityReceiver', 'matched_var_exp': 'liquidityReceiver = 0xe1a2967DeAb90287cbE1c57768a0d347ccd8f530', 'isEq': False}]\n",
      "info=(['tradingFee', 'exchangeFee', 'bktFee'], '0.002', 1000, '\\n    TRADING FEES. Biokript exchange will charge a 0.20% fee for both Makers and Takers. Users holding our Biokript tokens will automatically get a discount.\\n    '), Is the fee found='No', matched_var_name='liquidityFee', matched_var_exp='liquidityFee = _fee', isEq=Eq(_fee, 2.0)\n",
      "liquidityFee\n",
      "[{'start': (63, 1), 'code': '_fee', 'code_type': 'liquidityFee', 'raw_code': b'liquidityFee = _fee', 'pos': ((63, 1), (63, 20))}]\n",
      "companyWallet\n",
      "[{'start': (0, 193), 'code': '0x62537084Ad89F5137bad17135cb98D88b971EcbF', 'code_type': 'companyWallet', 'raw_code': b'companyWallet = 0x62537084Ad89F5137bad17135cb98D88b971EcbF', 'pos': ((0, 193), (0, 251))}]\n",
      "previousBalance\n",
      "[{'start': (28, 1), 'code': '', 'code_type': 'mapping', 'raw_code': b'mapping ( address => uint256 ) private previousBalance ;', 'pos': ((28, 1), (28, 57))}]\n",
      "claimDur\n",
      "[{'start': (25, 1), 'code': '', 'code_type': 'mapping', 'raw_code': b'mapping ( address => uint256 ) private claimDur ;', 'pos': ((25, 1), (25, 50))}]\n",
      "burnWallet\n",
      "[{'start': (0, 260), 'code': '0x24C6D745f762be4ad8f165d4a3E0E7c35E443E6E', 'code_type': 'burnWallet', 'raw_code': b'burnWallet = 0x24C6D745f762be4ad8f165d4a3E0E7c35E443E6E', 'pos': ((0, 260), (0, 315))}]\n",
      "[{'info': (['withdrawalFee', 'dynamicWithdrawalFee', 'networkWithdrawalFee'], None, 100, '\\n    WITHDRAWAL FEE. We charge a small fee for withdrawals and this fee is dynamic depending how busy is the network\\n    '), 'claim': 'not defined the value in the whitepaper', 'matched_var_name': 'liquidityFee', 'matched_var_exp': 'liquidityFee = _fee', 'isEq': False}, {'info': (['withdrawalFee', 'dynamicWithdrawalFee', 'networkWithdrawalFee'], None, 100, '\\n    WITHDRAWAL FEE. We charge a small fee for withdrawals and this fee is dynamic depending how busy is the network\\n    '), 'claim': 'not defined the value in the whitepaper', 'matched_var_name': 'companyWallet', 'matched_var_exp': 'companyWallet = 0x62537084Ad89F5137bad17135cb98D88b971EcbF', 'isEq': False}, {'info': (['withdrawalFee', 'dynamicWithdrawalFee', 'networkWithdrawalFee'], None, 100, '\\n    WITHDRAWAL FEE. We charge a small fee for withdrawals and this fee is dynamic depending how busy is the network\\n    '), 'claim': 'not defined the value in the whitepaper', 'matched_var_name': 'previousBalance', 'matched_var_exp': 'previousBalance = ', 'isEq': False}, {'info': (['withdrawalFee', 'dynamicWithdrawalFee', 'networkWithdrawalFee'], None, 100, '\\n    WITHDRAWAL FEE. We charge a small fee for withdrawals and this fee is dynamic depending how busy is the network\\n    '), 'claim': 'not defined the value in the whitepaper', 'matched_var_name': 'claimDur', 'matched_var_exp': 'claimDur = ', 'isEq': False}, {'info': (['withdrawalFee', 'dynamicWithdrawalFee', 'networkWithdrawalFee'], None, 100, '\\n    WITHDRAWAL FEE. We charge a small fee for withdrawals and this fee is dynamic depending how busy is the network\\n    '), 'claim': 'not defined the value in the whitepaper', 'matched_var_name': 'burnWallet', 'matched_var_exp': 'burnWallet = 0x24C6D745f762be4ad8f165d4a3E0E7c35E443E6E', 'isEq': False}]\n",
      "info=(['withdrawalFee', 'dynamicWithdrawalFee', 'networkWithdrawalFee'], None, 100, '\\n    WITHDRAWAL FEE. We charge a small fee for withdrawals and this fee is dynamic depending how busy is the network\\n    '), claim='not defined the value in the whitepaper', matched_var_name='liquidityFee', matched_var_exp='liquidityFee = _fee', isEq=False\n",
      "liquidityFee\n",
      "[{'start': (63, 1), 'code': '_fee', 'code_type': 'liquidityFee', 'raw_code': b'liquidityFee = _fee', 'pos': ((63, 1), (63, 20))}]\n",
      "burnWallet\n",
      "[{'start': (0, 260), 'code': '0x24C6D745f762be4ad8f165d4a3E0E7c35E443E6E', 'code_type': 'burnWallet', 'raw_code': b'burnWallet = 0x24C6D745f762be4ad8f165d4a3E0E7c35E443E6E', 'pos': ((0, 260), (0, 315))}]\n",
      "previousBalance\n",
      "[{'start': (28, 1), 'code': '', 'code_type': 'mapping', 'raw_code': b'mapping ( address => uint256 ) private previousBalance ;', 'pos': ((28, 1), (28, 57))}]\n",
      "safetyFunds\n",
      "[{'start': (0, 324), 'code': '0x0DC0ed454b001680B239c55b1bec76F8f93C609D', 'code_type': 'safetyFunds', 'raw_code': b'safetyFunds = 0x0DC0ed454b001680B239c55b1bec76F8f93C609D', 'pos': ((0, 324), (0, 380))}]\n",
      "companyWallet\n",
      "[{'start': (0, 193), 'code': '0x62537084Ad89F5137bad17135cb98D88b971EcbF', 'code_type': 'companyWallet', 'raw_code': b'companyWallet = 0x62537084Ad89F5137bad17135cb98D88b971EcbF', 'pos': ((0, 193), (0, 251))}]\n",
      "[{'info': (['cardPurchaseFee', 'paymentCardFee', 'transactionCardFee'], None, 100, '\\n  CREDIT OR DEBIT CARD PURCHASES. We will also charge a small fee for credit or debit card purchases.\\n    '), 'claim': 'not defined the value in the whitepaper', 'matched_var_name': 'liquidityFee', 'matched_var_exp': 'liquidityFee = _fee', 'isEq': False}, {'info': (['cardPurchaseFee', 'paymentCardFee', 'transactionCardFee'], None, 100, '\\n  CREDIT OR DEBIT CARD PURCHASES. We will also charge a small fee for credit or debit card purchases.\\n    '), 'claim': 'not defined the value in the whitepaper', 'matched_var_name': 'burnWallet', 'matched_var_exp': 'burnWallet = 0x24C6D745f762be4ad8f165d4a3E0E7c35E443E6E', 'isEq': False}, {'info': (['cardPurchaseFee', 'paymentCardFee', 'transactionCardFee'], None, 100, '\\n  CREDIT OR DEBIT CARD PURCHASES. We will also charge a small fee for credit or debit card purchases.\\n    '), 'claim': 'not defined the value in the whitepaper', 'matched_var_name': 'previousBalance', 'matched_var_exp': 'previousBalance = ', 'isEq': False}, {'info': (['cardPurchaseFee', 'paymentCardFee', 'transactionCardFee'], None, 100, '\\n  CREDIT OR DEBIT CARD PURCHASES. We will also charge a small fee for credit or debit card purchases.\\n    '), 'claim': 'not defined the value in the whitepaper', 'matched_var_name': 'safetyFunds', 'matched_var_exp': 'safetyFunds = 0x0DC0ed454b001680B239c55b1bec76F8f93C609D', 'isEq': False}, {'info': (['cardPurchaseFee', 'paymentCardFee', 'transactionCardFee'], None, 100, '\\n  CREDIT OR DEBIT CARD PURCHASES. We will also charge a small fee for credit or debit card purchases.\\n    '), 'claim': 'not defined the value in the whitepaper', 'matched_var_name': 'companyWallet', 'matched_var_exp': 'companyWallet = 0x62537084Ad89F5137bad17135cb98D88b971EcbF', 'isEq': False}]\n",
      "info=(['cardPurchaseFee', 'paymentCardFee', 'transactionCardFee'], None, 100, '\\n  CREDIT OR DEBIT CARD PURCHASES. We will also charge a small fee for credit or debit card purchases.\\n    '), claim='not defined the value in the whitepaper', matched_var_name='liquidityFee', matched_var_exp='liquidityFee = _fee', isEq=False\n",
      "liquidityFee\n",
      "[{'start': (63, 1), 'code': '_fee', 'code_type': 'liquidityFee', 'raw_code': b'liquidityFee = _fee', 'pos': ((63, 1), (63, 20))}]\n",
      "feeReceiver\n",
      "[{'start': (0, 522), 'code': '0x4ed2D84a05DB7212039B4290507762Da79D4Ceb7', 'code_type': 'feeReceiver', 'raw_code': b'feeReceiver = 0x4ed2D84a05DB7212039B4290507762Da79D4Ceb7', 'pos': ((0, 522), (0, 578))}]\n",
      "_isExcludedFromFees\n",
      "[{'start': (21, 1), 'code': '', 'code_type': 'mapping', 'raw_code': b'mapping ( address => bool ) public _isExcludedFromFees ;', 'pos': ((21, 1), (21, 57))}]\n",
      "previousBalance\n",
      "[{'start': (28, 1), 'code': '', 'code_type': 'mapping', 'raw_code': b'mapping ( address => uint256 ) private previousBalance ;', 'pos': ((28, 1), (28, 57))}]\n",
      "distributor\n",
      "[{'start': (0, 64), 'code': '0x5d135b21EcC60000B0ecDE932617105f04F71EFB', 'code_type': 'distributor', 'raw_code': b'distributor = 0x5d135b21EcC60000B0ecDE932617105f04F71EFB', 'pos': ((0, 64), (0, 120))}]\n",
      "[{'info': (['listingFee', 'tokenListingFee', 'projectListingFee'], None, 100, '\\n   LISTING FEE. We are very selective in coins we choose to be on our platform, and we charge projects a fee to list their token on our exchange. Before the listing, there is a detailed analysis of the project to make sure the project complies with all the security regulations of our exchange.\\n    '), 'claim': 'not defined the value in the whitepaper', 'matched_var_name': 'liquidityFee', 'matched_var_exp': 'liquidityFee = _fee', 'isEq': False}, {'info': (['listingFee', 'tokenListingFee', 'projectListingFee'], None, 100, '\\n   LISTING FEE. We are very selective in coins we choose to be on our platform, and we charge projects a fee to list their token on our exchange. Before the listing, there is a detailed analysis of the project to make sure the project complies with all the security regulations of our exchange.\\n    '), 'claim': 'not defined the value in the whitepaper', 'matched_var_name': 'feeReceiver', 'matched_var_exp': 'feeReceiver = 0x4ed2D84a05DB7212039B4290507762Da79D4Ceb7', 'isEq': False}, {'info': (['listingFee', 'tokenListingFee', 'projectListingFee'], None, 100, '\\n   LISTING FEE. We are very selective in coins we choose to be on our platform, and we charge projects a fee to list their token on our exchange. Before the listing, there is a detailed analysis of the project to make sure the project complies with all the security regulations of our exchange.\\n    '), 'claim': 'not defined the value in the whitepaper', 'matched_var_name': '_isExcludedFromFees', 'matched_var_exp': '_isExcludedFromFees = ', 'isEq': False}, {'info': (['listingFee', 'tokenListingFee', 'projectListingFee'], None, 100, '\\n   LISTING FEE. We are very selective in coins we choose to be on our platform, and we charge projects a fee to list their token on our exchange. Before the listing, there is a detailed analysis of the project to make sure the project complies with all the security regulations of our exchange.\\n    '), 'claim': 'not defined the value in the whitepaper', 'matched_var_name': 'previousBalance', 'matched_var_exp': 'previousBalance = ', 'isEq': False}, {'info': (['listingFee', 'tokenListingFee', 'projectListingFee'], None, 100, '\\n   LISTING FEE. We are very selective in coins we choose to be on our platform, and we charge projects a fee to list their token on our exchange. Before the listing, there is a detailed analysis of the project to make sure the project complies with all the security regulations of our exchange.\\n    '), 'claim': 'not defined the value in the whitepaper', 'matched_var_name': 'distributor', 'matched_var_exp': 'distributor = 0x5d135b21EcC60000B0ecDE932617105f04F71EFB', 'isEq': False}]\n",
      "info=(['listingFee', 'tokenListingFee', 'projectListingFee'], None, 100, '\\n   LISTING FEE. We are very selective in coins we choose to be on our platform, and we charge projects a fee to list their token on our exchange. Before the listing, there is a detailed analysis of the project to make sure the project complies with all the security regulations of our exchange.\\n    '), claim='not defined the value in the whitepaper', matched_var_name='liquidityFee', matched_var_exp='liquidityFee = _fee', isEq=False\n",
      "liquidityFee\n",
      "[{'start': (63, 1), 'code': '_fee', 'code_type': 'liquidityFee', 'raw_code': b'liquidityFee = _fee', 'pos': ((63, 1), (63, 20))}]\n",
      "distributeTokens\n",
      "[{'start': (130, 1), 'code': '( amount ) / tSupply', 'code_type': 'distributeTokens', 'raw_code': b'distributeTokens = ( amount ) / tSupply', 'pos': ((130, 1), (130, 40))}]\n",
      "feeReceiver\n",
      "[{'start': (0, 522), 'code': '0x4ed2D84a05DB7212039B4290507762Da79D4Ceb7', 'code_type': 'feeReceiver', 'raw_code': b'feeReceiver = 0x4ed2D84a05DB7212039B4290507762Da79D4Ceb7', 'pos': ((0, 522), (0, 578))}]\n",
      "safetyFunds\n",
      "[{'start': (0, 324), 'code': '0x0DC0ed454b001680B239c55b1bec76F8f93C609D', 'code_type': 'safetyFunds', 'raw_code': b'safetyFunds = 0x0DC0ed454b001680B239c55b1bec76F8f93C609D', 'pos': ((0, 324), (0, 380))}]\n",
      "liquidityReceiver\n",
      "[{'start': (0, 451), 'code': '0xe1a2967DeAb90287cbE1c57768a0d347ccd8f530', 'code_type': 'liquidityReceiver', 'raw_code': b'liquidityReceiver = 0xe1a2967DeAb90287cbE1c57768a0d347ccd8f530', 'pos': ((0, 451), (0, 513))}]\n",
      "[{'info': (['votingFee', 'tokenVotingFee', 'communityVotingFee'], None, 100, '\\n   VOTING FEES. To engage our community with our platform, we’ll also have a voting fee in order to list a token. That is a very popular and engaging way to include our community in the listing process on our platform.\\n    '), 'claim': 'not defined the value in the whitepaper', 'matched_var_name': 'liquidityFee', 'matched_var_exp': 'liquidityFee = _fee', 'isEq': False}, {'info': (['votingFee', 'tokenVotingFee', 'communityVotingFee'], None, 100, '\\n   VOTING FEES. To engage our community with our platform, we’ll also have a voting fee in order to list a token. That is a very popular and engaging way to include our community in the listing process on our platform.\\n    '), 'claim': 'not defined the value in the whitepaper', 'matched_var_name': 'distributeTokens', 'matched_var_exp': 'distributeTokens = ( amount ) / tSupply', 'isEq': False}, {'info': (['votingFee', 'tokenVotingFee', 'communityVotingFee'], None, 100, '\\n   VOTING FEES. To engage our community with our platform, we’ll also have a voting fee in order to list a token. That is a very popular and engaging way to include our community in the listing process on our platform.\\n    '), 'claim': 'not defined the value in the whitepaper', 'matched_var_name': 'feeReceiver', 'matched_var_exp': 'feeReceiver = 0x4ed2D84a05DB7212039B4290507762Da79D4Ceb7', 'isEq': False}, {'info': (['votingFee', 'tokenVotingFee', 'communityVotingFee'], None, 100, '\\n   VOTING FEES. To engage our community with our platform, we’ll also have a voting fee in order to list a token. That is a very popular and engaging way to include our community in the listing process on our platform.\\n    '), 'claim': 'not defined the value in the whitepaper', 'matched_var_name': 'safetyFunds', 'matched_var_exp': 'safetyFunds = 0x0DC0ed454b001680B239c55b1bec76F8f93C609D', 'isEq': False}, {'info': (['votingFee', 'tokenVotingFee', 'communityVotingFee'], None, 100, '\\n   VOTING FEES. To engage our community with our platform, we’ll also have a voting fee in order to list a token. That is a very popular and engaging way to include our community in the listing process on our platform.\\n    '), 'claim': 'not defined the value in the whitepaper', 'matched_var_name': 'liquidityReceiver', 'matched_var_exp': 'liquidityReceiver = 0xe1a2967DeAb90287cbE1c57768a0d347ccd8f530', 'isEq': False}]\n",
      "info=(['votingFee', 'tokenVotingFee', 'communityVotingFee'], None, 100, '\\n   VOTING FEES. To engage our community with our platform, we’ll also have a voting fee in order to list a token. That is a very popular and engaging way to include our community in the listing process on our platform.\\n    '), claim='not defined the value in the whitepaper', matched_var_name='liquidityFee', matched_var_exp='liquidityFee = _fee', isEq=False\n",
      "liquidityFee\n",
      "[{'start': (63, 1), 'code': '_fee', 'code_type': 'liquidityFee', 'raw_code': b'liquidityFee = _fee', 'pos': ((63, 1), (63, 20))}]\n",
      "feeReceiver\n",
      "[{'start': (0, 522), 'code': '0x4ed2D84a05DB7212039B4290507762Da79D4Ceb7', 'code_type': 'feeReceiver', 'raw_code': b'feeReceiver = 0x4ed2D84a05DB7212039B4290507762Da79D4Ceb7', 'pos': ((0, 522), (0, 578))}]\n",
      "_isExcludedFromFees\n",
      "[{'start': (21, 1), 'code': '', 'code_type': 'mapping', 'raw_code': b'mapping ( address => bool ) public _isExcludedFromFees ;', 'pos': ((21, 1), (21, 57))}]\n",
      "Skip No-expression Var \n",
      "sellTax\n",
      "[{'start': (0, 993), 'code': '90', 'code_type': 'sellTax', 'raw_code': b'sellTax = 90', 'pos': ((0, 993), (0, 1005))}]\n",
      "claimDur\n",
      "[{'start': (25, 1), 'code': '', 'code_type': 'mapping', 'raw_code': b'mapping ( address => uint256 ) private claimDur ;', 'pos': ((25, 1), (25, 50))}]\n",
      "Skip No-expression Var \n",
      "[{'info': (['burnFee', 'revenueBurn', 'appreciationBurn'], '0.1', 100, '\\n  10% of all trading fee revenues  will be set aside for token burn, and for every 100% BKPT appreciation, we’ll start with a 1% burn of the entire token supply. \\n    '), 'Is the fee found': 'No', 'matched_var_name': 'liquidityFee', 'matched_var_exp': 'liquidityFee = _fee', 'isEq': Eq(_fee, 10.0)}, {'info': (['burnFee', 'revenueBurn', 'appreciationBurn'], '0.1', 100, '\\n  10% of all trading fee revenues  will be set aside for token burn, and for every 100% BKPT appreciation, we’ll start with a 1% burn of the entire token supply. \\n    '), 'Is the fee found': 'No', 'matched_var_name': 'feeReceiver', 'matched_var_exp': 'feeReceiver = 0x4ed2D84a05DB7212039B4290507762Da79D4Ceb7', 'isEq': False}, {'info': (['burnFee', 'revenueBurn', 'appreciationBurn'], '0.1', 100, '\\n  10% of all trading fee revenues  will be set aside for token burn, and for every 100% BKPT appreciation, we’ll start with a 1% burn of the entire token supply. \\n    '), 'Is the fee found': 'No', 'matched_var_name': 'sellTax', 'matched_var_exp': 'sellTax = 90', 'isEq': False}]\n",
      "info=(['burnFee', 'revenueBurn', 'appreciationBurn'], '0.1', 100, '\\n  10% of all trading fee revenues  will be set aside for token burn, and for every 100% BKPT appreciation, we’ll start with a 1% burn of the entire token supply. \\n    '), Is the fee found='No', matched_var_name='liquidityFee', matched_var_exp='liquidityFee = _fee', isEq=Eq(_fee, 10.0)\n",
      "liquidityFee\n",
      "[{'start': (63, 1), 'code': '_fee', 'code_type': 'liquidityFee', 'raw_code': b'liquidityFee = _fee', 'pos': ((63, 1), (63, 20))}]\n",
      "liquidityReceiver\n",
      "[{'start': (0, 451), 'code': '0xe1a2967DeAb90287cbE1c57768a0d347ccd8f530', 'code_type': 'liquidityReceiver', 'raw_code': b'liquidityReceiver = 0xe1a2967DeAb90287cbE1c57768a0d347ccd8f530', 'pos': ((0, 451), (0, 513))}]\n",
      "reserves\n",
      "[{'start': (0, 389), 'code': '0xF41D58658fA316CEEfA20F781424661c1Db5CfBf', 'code_type': 'reserves', 'raw_code': b'reserves = 0xF41D58658fA316CEEfA20F781424661c1Db5CfBf', 'pos': ((0, 389), (0, 442))}]\n",
      "previousBalance\n",
      "[{'start': (28, 1), 'code': '', 'code_type': 'mapping', 'raw_code': b'mapping ( address => uint256 ) private previousBalance ;', 'pos': ((28, 1), (28, 57))}]\n",
      "feeReceiver\n",
      "[{'start': (0, 522), 'code': '0x4ed2D84a05DB7212039B4290507762Da79D4Ceb7', 'code_type': 'feeReceiver', 'raw_code': b'feeReceiver = 0x4ed2D84a05DB7212039B4290507762Da79D4Ceb7', 'pos': ((0, 522), (0, 578))}]\n",
      "[{'info': (['tradeFee', 'buyerSellerFee', 'exchangeCommission'], None, 100, '\\nThere is always a buyer and a seller, so the exchange will always collect trade fees from both of them.\\n    '), 'claim': 'not defined the value in the whitepaper', 'matched_var_name': 'liquidityFee', 'matched_var_exp': 'liquidityFee = _fee', 'isEq': False}, {'info': (['tradeFee', 'buyerSellerFee', 'exchangeCommission'], None, 100, '\\nThere is always a buyer and a seller, so the exchange will always collect trade fees from both of them.\\n    '), 'claim': 'not defined the value in the whitepaper', 'matched_var_name': 'liquidityReceiver', 'matched_var_exp': 'liquidityReceiver = 0xe1a2967DeAb90287cbE1c57768a0d347ccd8f530', 'isEq': False}, {'info': (['tradeFee', 'buyerSellerFee', 'exchangeCommission'], None, 100, '\\nThere is always a buyer and a seller, so the exchange will always collect trade fees from both of them.\\n    '), 'claim': 'not defined the value in the whitepaper', 'matched_var_name': 'reserves', 'matched_var_exp': 'reserves = 0xF41D58658fA316CEEfA20F781424661c1Db5CfBf', 'isEq': False}, {'info': (['tradeFee', 'buyerSellerFee', 'exchangeCommission'], None, 100, '\\nThere is always a buyer and a seller, so the exchange will always collect trade fees from both of them.\\n    '), 'claim': 'not defined the value in the whitepaper', 'matched_var_name': 'previousBalance', 'matched_var_exp': 'previousBalance = ', 'isEq': False}, {'info': (['tradeFee', 'buyerSellerFee', 'exchangeCommission'], None, 100, '\\nThere is always a buyer and a seller, so the exchange will always collect trade fees from both of them.\\n    '), 'claim': 'not defined the value in the whitepaper', 'matched_var_name': 'feeReceiver', 'matched_var_exp': 'feeReceiver = 0x4ed2D84a05DB7212039B4290507762Da79D4Ceb7', 'isEq': False}]\n",
      "info=(['tradeFee', 'buyerSellerFee', 'exchangeCommission'], None, 100, '\\nThere is always a buyer and a seller, so the exchange will always collect trade fees from both of them.\\n    '), claim='not defined the value in the whitepaper', matched_var_name='liquidityFee', matched_var_exp='liquidityFee = _fee', isEq=False\n"
     ]
    },
    {
     "data": {
      "text/plain": [
       "\"## whitepaper\\n\\n### Item v0\\n\\n   &ensp;**info**\\n   &emsp; \\n- Description: \\n    TRADING FEES. Biokript exchange will charge a 0.20% fee for both Makers and Takers. Users holding our Biokript tokens will automatically get a discount.\\n     \\n   - Possible Var Names from ChatGPT: ['tradingFee', 'exchangeFee', 'bktFee'] \\n   - Expression:  0.002 \\n\\n\\n   &ensp;**Is the fee found**\\n    No\\n\\n   &ensp;**matched_var_name**\\n    liquidityFee\\n\\n   &ensp;**matched_var_exp**\\n    liquidityFee = _fee\\n\\n   &ensp;**isEq**\\n    Eq(_fee, 2.0)\\n\\n### Item v1\\n\\n   &ensp;**info**\\n   &emsp; \\n- Description: \\n    WITHDRAWAL FEE. We charge a small fee for withdrawals and this fee is dynamic depending how busy is the network\\n     \\n   - Possible Var Names from ChatGPT: ['withdrawalFee', 'dynamicWithdrawalFee', 'networkWithdrawalFee'] \\n   - Expression:  None \\n\\n\\n   &ensp;**claim**\\n    not defined the value in the whitepaper\\n\\n   &ensp;**matched_var_name**\\n    liquidityFee\\n\\n   &ensp;**matched_var_exp**\\n    liquidityFee = _fee\\n\\n   &ensp;**isEq**\\n    False\\n\\n### Item v2\\n\\n   &ensp;**info**\\n   &emsp; \\n- Description: \\n  CREDIT OR DEBIT CARD PURCHASES. We will also charge a small fee for credit or debit card purchases.\\n     \\n   - Possible Var Names from ChatGPT: ['cardPurchaseFee', 'paymentCardFee', 'transactionCardFee'] \\n   - Expression:  None \\n\\n\\n   &ensp;**claim**\\n    not defined the value in the whitepaper\\n\\n   &ensp;**matched_var_name**\\n    liquidityFee\\n\\n   &ensp;**matched_var_exp**\\n    liquidityFee = _fee\\n\\n   &ensp;**isEq**\\n    False\\n\\n### Item v3\\n\\n   &ensp;**info**\\n   &emsp; \\n- Description: \\n   LISTING FEE. We are very selective in coins we choose to be on our platform, and we charge projects a fee to list their token on our exchange. Before the listing, there is a detailed analysis of the project to make sure the project complies with all the security regulations of our exchange.\\n     \\n   - Possible Var Names from ChatGPT: ['listingFee', 'tokenListingFee', 'projectListingFee'] \\n   - Expression:  None \\n\\n\\n   &ensp;**claim**\\n    not defined the value in the whitepaper\\n\\n   &ensp;**matched_var_name**\\n    liquidityFee\\n\\n   &ensp;**matched_var_exp**\\n    liquidityFee = _fee\\n\\n   &ensp;**isEq**\\n    False\\n\\n### Item v4\\n\\n   &ensp;**info**\\n   &emsp; \\n- Description: \\n   VOTING FEES. To engage our community with our platform, we’ll also have a voting fee in order to list a token. That is a very popular and engaging way to include our community in the listing process on our platform.\\n     \\n   - Possible Var Names from ChatGPT: ['votingFee', 'tokenVotingFee', 'communityVotingFee'] \\n   - Expression:  None \\n\\n\\n   &ensp;**claim**\\n    not defined the value in the whitepaper\\n\\n   &ensp;**matched_var_name**\\n    liquidityFee\\n\\n   &ensp;**matched_var_exp**\\n    liquidityFee = _fee\\n\\n   &ensp;**isEq**\\n    False\\n\\n### Item v5\\n\\n   &ensp;**info**\\n   &emsp; \\n- Description: \\n  10% of all trading fee revenues  will be set aside for token burn, and for every 100% BKPT appreciation, we’ll start with a 1% burn of the entire token supply. \\n     \\n   - Possible Var Names from ChatGPT: ['burnFee', 'revenueBurn', 'appreciationBurn'] \\n   - Expression:  0.1 \\n\\n\\n   &ensp;**Is the fee found**\\n    No\\n\\n   &ensp;**matched_var_name**\\n    liquidityFee\\n\\n   &ensp;**matched_var_exp**\\n    liquidityFee = _fee\\n\\n   &ensp;**isEq**\\n    Eq(_fee, 10.0)\\n\\n### Item v6\\n\\n   &ensp;**info**\\n   &emsp; \\n- Description: \\nThere is always a buyer and a seller, so the exchange will always collect trade fees from both of them.\\n     \\n   - Possible Var Names from ChatGPT: ['tradeFee', 'buyerSellerFee', 'exchangeCommission'] \\n   - Expression:  None \\n\\n\\n   &ensp;**claim**\\n    not defined the value in the whitepaper\\n\\n   &ensp;**matched_var_name**\\n    liquidityFee\\n\\n   &ensp;**matched_var_exp**\\n    liquidityFee = _fee\\n\\n   &ensp;**isEq**\\n    False\\n\\n\\n## hidden_fee_function\\n\\n\\n## hidden_fee_var\\n\\n### liquidityFee\\n\\n  &ensp;** Possible Values **:\\n _fee\\n\\n### _isExcludedFromFees_account_\\n\\n  &ensp;** Possible Values **:\\n excluded\\n\\n### liqFee\\n\\n  &ensp;** Possible Values **:\\n _amount*liquidityFee/100, \\n 0, \\n _amount*liquidityFee/100, \\n _amount*liquidityFee/100, \\n _amount*liquidityFee/100, \\n 0\\n\\n\\n\""
      ]
     },
     "execution_count": 4,
     "metadata": {},
     "output_type": "execute_result"
    }
   ],
   "source": [
    "check_res = checkRevenueModel(var_names_chatgpt, code,top_K = 5)\n",
    "dict_to_markdown(check_res, \"./repo_check/ico/biokript/revenue_biokript.md\")"
   ]
  }
 ],
 "metadata": {
  "kernelspec": {
   "display_name": "web3",
   "language": "python",
   "name": "python3"
  },
  "language_info": {
   "codemirror_mode": {
    "name": "ipython",
    "version": 3
   },
   "file_extension": ".py",
   "mimetype": "text/x-python",
   "name": "python",
   "nbconvert_exporter": "python",
   "pygments_lexer": "ipython3",
   "version": "3.8.16"
  },
  "orig_nbformat": 4
 },
 "nbformat": 4,
 "nbformat_minor": 2
}
