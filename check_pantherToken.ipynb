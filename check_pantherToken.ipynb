{
 "cells": [
  {
   "cell_type": "markdown",
   "metadata": {},
   "source": [
    "## Fee Definitions in the whitepaper"
   ]
  },
  {
   "cell_type": "code",
   "execution_count": 1,
   "metadata": {},
   "outputs": [],
   "source": [
    "v0 = \\\n",
    "    \"\"\"\n",
    "    Total Transfer Tax Rate: 2% of every transfer\n",
    "    \"\"\"\n",
    "\n",
    "v1 = \\\n",
    "    \"\"\"\n",
    "    Automatic Liquidity\n",
    "    the PANTHER-BNB liquidity pool through the contract automatically. \n",
    "    \"\"\"\n",
    "\n",
    "v2 = \\\n",
    "    \"\"\"\n",
    "    Automatic Burning\n",
    "    According to our tokenomics design, each transfer must pay a 2% transfer tax. The 1% transfer tax will be burned (sent to the black hole address) immediately.\n",
    "    \"\"\"\n",
    "\n",
    "v3 = \\\n",
    "    \"\"\"\n",
    "    Anti Whale\n",
    "    Transfer more than 0.15% (current ratio) of the total supply will be rejected. As the total supply grows, this ratio will be reduced.\n",
    "    Deposit or withdraw tokens to the farms will not be subject to this restriction.\n",
    "    \"\"\"\n",
    "\n",
    "v4 = \\\n",
    "    \"\"\"\n",
    "    Deposit Fee Redistribution\n",
    "    Deposit Fee\n",
    "    When users enter the farming on PantherSwap, a 4% deposit fee will be charged. \n",
    "    1% deposit fee will be sent to the dev team as the development fund.\n",
    "    3% deposit fee will be redistributed to PANTHER holders via Jungles farming.\n",
    "    \"\"\"\n",
    "\n",
    "v5 = \\\n",
    "    \"\"\"\n",
    "    Referral Program\n",
    "    An on-chain referral program has been implemented to incentivize users to invite friends to join the farming. Inviters can earn 1% of his/her friends' earnings forever.\n",
    "    Visit PantherSwap referral program page: https://pantherswap.com/referrals​\n",
    "    Unlock your wallet to get your unique referral link\n",
    "    Share your referral link with your friends\n",
    "    Every time your friends get rewards from farms, you will receive referral commissions automatically\n",
    "    The current referral commission rate is 1%\n",
    "    \"\"\"\n",
    "pathertoken=[ v0, v1, v2, v3, v4, v5 ]"
   ]
  },
  {
   "cell_type": "markdown",
   "metadata": {},
   "source": [
    "## Generate Prompt and ask ChatGPT"
   ]
  },
  {
   "cell_type": "code",
   "execution_count": 2,
   "metadata": {},
   "outputs": [],
   "source": [
    "import os\n",
    "os.makedirs(\"./repo_check/panther-farm/constant_whitepaper\", exist_ok=True)\n",
    "prompts = []\n",
    "for i, v in enumerate(pathertoken):\n",
    "    prompt=\\\n",
    "\"\"\"You are a good Smart Contract developer. Your task is to give a variable with a good name according to the description I provide. The variable is about the tokenomics.  The description about the variable is \n",
    "\n",
    "    '''\"\"\" + \\\n",
    "v + \\\n",
    "\"\"\"'''\n",
    "\n",
    "What is the good variable name? Please provide 3 good choices. The name should be short, concise and precise. The answer just contains three names and do not need explain.\n",
    "\"\"\"\n",
    "    prompts.append(prompt)\n",
    "    with open(f\"./repo_check/panther-farm/constant_whitepaper/v{i}.txt\", \"w\") as f:\n",
    "        f.write(prompt)"
   ]
  },
  {
   "cell_type": "markdown",
   "metadata": {},
   "source": [
    "## add values"
   ]
  },
  {
   "cell_type": "code",
   "execution_count": 3,
   "metadata": {},
   "outputs": [],
   "source": [
    "from utils.constant_checker import checkRevenueModel, dict_to_markdown\n",
    "a=\"./repo_check/panther-farm/contracts/MasterChef.sol\"\n",
    "code=open(a).read()\n",
    "conversion = 10000\n",
    "\n",
    "var_names_chatgpt = {\n",
    "    \"v0\":([\"transferTaxRate\", \"totalTransferTax\", \"transferFee\"], \"0.02\", conversion, v0),\n",
    "    \"v1\":([\"autoLiquidityFee\", \"liquidityCharge\", \"liquidityPoolFee\"], \"0.01\", conversion, v1),\n",
    "    \"v2\":([\"transferTaxBurn\", \"automaticBurningFee\", \"tokenomicsTransferTax\"], \"0.01\", conversion, v2),\n",
    "    \"v3\":([\"antiWhaleFeeRatio\", \"transferRestrictionRatio\", \"restrictedTransferFee\"],  \"0.0015\", conversion, v3),\n",
    "    \"v4\":([\"depositFee\",\"devFundFee\", \"redistributionFee\"], \"0.04\", conversion, v4),\n",
    "    \"v5\":([\"referralCommissionRate\", \"referralLink\", \"inviteeEarningsPercentage\"], \"0.01\", conversion, v5)\n",
    "}\n",
    "\n",
    "\n",
    "                "
   ]
  },
  {
   "cell_type": "markdown",
   "metadata": {},
   "source": [
    "## Check and Report"
   ]
  },
  {
   "cell_type": "code",
   "execution_count": 4,
   "metadata": {},
   "outputs": [
    {
     "name": "stdout",
     "output_type": "stream",
     "text": [
      "transferTaxRate\n",
      "[{'start': (6, 4), 'code': '500', 'code_type': 'uint16', 'raw_code': b'uint16 public transferTaxRate = 500;', 'pos': ((6, 4), (6, 40))}]\n",
      "maxTransferAmountRate\n",
      "[{'start': (10, 4), 'code': '50', 'code_type': 'uint16', 'raw_code': b'uint16 public maxTransferAmountRate = 50;', 'pos': ((10, 4), (10, 45))}]\n",
      "MAXIMUM_TRANSFER_TAX_RATE\n",
      "[{'start': (8, 4), 'code': '1000', 'code_type': 'uint16', 'raw_code': b'uint16 public constant MAXIMUM_TRANSFER_TAX_RATE = 1000;', 'pos': ((8, 4), (8, 60))}]\n",
      "burnRate\n",
      "[{'start': (7, 4), 'code': '20', 'code_type': 'uint16', 'raw_code': b'uint16 public burnRate = 20;', 'pos': ((7, 4), (7, 32))}]\n",
      "feeAddress\n",
      "[{'start': (17, 1), 'code': '', 'code_type': 'address', 'raw_code': b'address public feeAddress ;', 'pos': ((17, 1), (17, 28))}]\n",
      "Skip No-expression Var \n",
      "[{'info': (['transferTaxRate', 'totalTransferTax', 'transferFee'], '0.02', 10000, '\\n    Total Transfer Tax Rate: 2% of every transfer\\n    '), 'Is the fee found': 'No', 'matched_var_name': 'transferTaxRate', 'matched_var_exp': 'transferTaxRate = 500', 'isEq': False}, {'info': (['transferTaxRate', 'totalTransferTax', 'transferFee'], '0.02', 10000, '\\n    Total Transfer Tax Rate: 2% of every transfer\\n    '), 'Is the fee found': 'No', 'matched_var_name': 'maxTransferAmountRate', 'matched_var_exp': 'maxTransferAmountRate = 50', 'isEq': False}, {'info': (['transferTaxRate', 'totalTransferTax', 'transferFee'], '0.02', 10000, '\\n    Total Transfer Tax Rate: 2% of every transfer\\n    '), 'Is the fee found': 'No', 'matched_var_name': 'MAXIMUM_TRANSFER_TAX_RATE', 'matched_var_exp': 'MAXIMUM_TRANSFER_TAX_RATE = 1000', 'isEq': False}, {'info': (['transferTaxRate', 'totalTransferTax', 'transferFee'], '0.02', 10000, '\\n    Total Transfer Tax Rate: 2% of every transfer\\n    '), 'Is the fee found': 'No', 'matched_var_name': 'burnRate', 'matched_var_exp': 'burnRate = 20', 'isEq': False}]\n",
      "info=(['transferTaxRate', 'totalTransferTax', 'transferFee'], '0.02', 10000, '\\n    Total Transfer Tax Rate: 2% of every transfer\\n    '), Is the fee found='No', matched_var_name='transferTaxRate', matched_var_exp='transferTaxRate = 500', isEq=False\n",
      "maxTransferAmountRate\n",
      "[{'start': (10, 4), 'code': '50', 'code_type': 'uint16', 'raw_code': b'uint16 public maxTransferAmountRate = 50;', 'pos': ((10, 4), (10, 45))}]\n",
      "burnRate\n",
      "[{'start': (7, 4), 'code': '20', 'code_type': 'uint16', 'raw_code': b'uint16 public burnRate = 20;', 'pos': ((7, 4), (7, 32))}]\n",
      "referralCommissionRate\n",
      "[{'start': (37, 4), 'code': '100', 'code_type': 'uint16', 'raw_code': b'uint16 public referralCommissionRate = 100;', 'pos': ((37, 4), (37, 47))}]\n",
      "minAmountToLiquify\n",
      "[{'start': (13, 4), 'code': '500 ether', 'code_type': 'uint256', 'raw_code': b'uint256 public minAmountToLiquify = 500 ether;', 'pos': ((13, 4), (13, 50))}]\n",
      "_inSwapAndLiquify\n",
      "[{'start': (16, 1), 'code': '', 'code_type': 'bool', 'raw_code': b'bool private _inSwapAndLiquify ;', 'pos': ((16, 1), (16, 33))}]\n",
      "Skip No-expression Var \n",
      "info=(['autoLiquidityFee', 'liquidityCharge', 'liquidityPoolFee'], '0.01', 10000, '\\n    Automatic Liquidity\\n    the PANTHER-BNB liquidity pool through the contract automatically. \\n    '), Is the fee found='Yes', matched_var_name='referralCommissionRate', matched_var_exp='referralCommissionRate = 100', isEq=True\n",
      "transferTaxRate\n",
      "[{'start': (6, 4), 'code': '500', 'code_type': 'uint16', 'raw_code': b'uint16 public transferTaxRate = 500;', 'pos': ((6, 4), (6, 40))}]\n",
      "burnRate\n",
      "[{'start': (7, 4), 'code': '20', 'code_type': 'uint16', 'raw_code': b'uint16 public burnRate = 20;', 'pos': ((7, 4), (7, 32))}]\n",
      "maxTransferAmountRate\n",
      "[{'start': (10, 4), 'code': '50', 'code_type': 'uint16', 'raw_code': b'uint16 public maxTransferAmountRate = 50;', 'pos': ((10, 4), (10, 45))}]\n",
      "MAXIMUM_TRANSFER_TAX_RATE\n",
      "[{'start': (8, 4), 'code': '1000', 'code_type': 'uint16', 'raw_code': b'uint16 public constant MAXIMUM_TRANSFER_TAX_RATE = 1000;', 'pos': ((8, 4), (8, 60))}]\n",
      "_excludedFromAntiWhale [ BURN_ADDRESS ]\n",
      "[{'start': (0, 325), 'code': 'true', 'code_type': '_excludedFromAntiWhale', 'raw_code': b'_excludedFromAntiWhale[BURN_ADDRESS] = true', 'pos': ((0, 325), (0, 368))}]\n",
      "[{'info': (['transferTaxBurn', 'automaticBurningFee', 'tokenomicsTransferTax'], '0.01', 10000, '\\n    Automatic Burning\\n    According to our tokenomics design, each transfer must pay a 2% transfer tax. The 1% transfer tax will be burned (sent to the black hole address) immediately.\\n    '), 'Is the fee found': 'No', 'matched_var_name': 'transferTaxRate', 'matched_var_exp': 'transferTaxRate = 500', 'isEq': False}, {'info': (['transferTaxBurn', 'automaticBurningFee', 'tokenomicsTransferTax'], '0.01', 10000, '\\n    Automatic Burning\\n    According to our tokenomics design, each transfer must pay a 2% transfer tax. The 1% transfer tax will be burned (sent to the black hole address) immediately.\\n    '), 'Is the fee found': 'No', 'matched_var_name': 'burnRate', 'matched_var_exp': 'burnRate = 20', 'isEq': False}, {'info': (['transferTaxBurn', 'automaticBurningFee', 'tokenomicsTransferTax'], '0.01', 10000, '\\n    Automatic Burning\\n    According to our tokenomics design, each transfer must pay a 2% transfer tax. The 1% transfer tax will be burned (sent to the black hole address) immediately.\\n    '), 'Is the fee found': 'No', 'matched_var_name': 'maxTransferAmountRate', 'matched_var_exp': 'maxTransferAmountRate = 50', 'isEq': False}, {'info': (['transferTaxBurn', 'automaticBurningFee', 'tokenomicsTransferTax'], '0.01', 10000, '\\n    Automatic Burning\\n    According to our tokenomics design, each transfer must pay a 2% transfer tax. The 1% transfer tax will be burned (sent to the black hole address) immediately.\\n    '), 'Is the fee found': 'No', 'matched_var_name': 'MAXIMUM_TRANSFER_TAX_RATE', 'matched_var_exp': 'MAXIMUM_TRANSFER_TAX_RATE = 1000', 'isEq': False}, {'info': (['transferTaxBurn', 'automaticBurningFee', 'tokenomicsTransferTax'], '0.01', 10000, '\\n    Automatic Burning\\n    According to our tokenomics design, each transfer must pay a 2% transfer tax. The 1% transfer tax will be burned (sent to the black hole address) immediately.\\n    '), 'Is the fee found': 'No', 'matched_var_name': '_excludedFromAntiWhale [ BURN_ADDRESS ]', 'matched_var_exp': '_excludedFromAntiWhale [ BURN_ADDRESS ] = true', 'isEq': False}]\n",
      "info=(['transferTaxBurn', 'automaticBurningFee', 'tokenomicsTransferTax'], '0.01', 10000, '\\n    Automatic Burning\\n    According to our tokenomics design, each transfer must pay a 2% transfer tax. The 1% transfer tax will be burned (sent to the black hole address) immediately.\\n    '), Is the fee found='No', matched_var_name='transferTaxRate', matched_var_exp='transferTaxRate = 500', isEq=False\n",
      "maxTransferAmountRate\n",
      "[{'start': (10, 4), 'code': '50', 'code_type': 'uint16', 'raw_code': b'uint16 public maxTransferAmountRate = 50;', 'pos': ((10, 4), (10, 45))}]\n",
      "burnRate\n",
      "[{'start': (7, 4), 'code': '20', 'code_type': 'uint16', 'raw_code': b'uint16 public burnRate = 20;', 'pos': ((7, 4), (7, 32))}]\n",
      "referralCommissionRate\n",
      "[{'start': (37, 4), 'code': '100', 'code_type': 'uint16', 'raw_code': b'uint16 public referralCommissionRate = 100;', 'pos': ((37, 4), (37, 47))}]\n",
      "_excludedFromAntiWhale [ BURN_ADDRESS ]\n",
      "[{'start': (0, 325), 'code': 'true', 'code_type': '_excludedFromAntiWhale', 'raw_code': b'_excludedFromAntiWhale[BURN_ADDRESS] = true', 'pos': ((0, 325), (0, 368))}]\n",
      "transferTaxRate\n",
      "[{'start': (6, 4), 'code': '500', 'code_type': 'uint16', 'raw_code': b'uint16 public transferTaxRate = 500;', 'pos': ((6, 4), (6, 40))}]\n",
      "[{'info': (['antiWhaleFeeRatio', 'transferRestrictionRatio', 'restrictedTransferFee'], '0.0015', 10000, '\\n    Anti Whale\\n    Transfer more than 0.15% (current ratio) of the total supply will be rejected. As the total supply grows, this ratio will be reduced.\\n    Deposit or withdraw tokens to the farms will not be subject to this restriction.\\n    '), 'Is the fee found': 'No', 'matched_var_name': 'maxTransferAmountRate', 'matched_var_exp': 'maxTransferAmountRate = 50', 'isEq': False}, {'info': (['antiWhaleFeeRatio', 'transferRestrictionRatio', 'restrictedTransferFee'], '0.0015', 10000, '\\n    Anti Whale\\n    Transfer more than 0.15% (current ratio) of the total supply will be rejected. As the total supply grows, this ratio will be reduced.\\n    Deposit or withdraw tokens to the farms will not be subject to this restriction.\\n    '), 'Is the fee found': 'No', 'matched_var_name': 'burnRate', 'matched_var_exp': 'burnRate = 20', 'isEq': False}, {'info': (['antiWhaleFeeRatio', 'transferRestrictionRatio', 'restrictedTransferFee'], '0.0015', 10000, '\\n    Anti Whale\\n    Transfer more than 0.15% (current ratio) of the total supply will be rejected. As the total supply grows, this ratio will be reduced.\\n    Deposit or withdraw tokens to the farms will not be subject to this restriction.\\n    '), 'Is the fee found': 'No', 'matched_var_name': 'referralCommissionRate', 'matched_var_exp': 'referralCommissionRate = 100', 'isEq': False}, {'info': (['antiWhaleFeeRatio', 'transferRestrictionRatio', 'restrictedTransferFee'], '0.0015', 10000, '\\n    Anti Whale\\n    Transfer more than 0.15% (current ratio) of the total supply will be rejected. As the total supply grows, this ratio will be reduced.\\n    Deposit or withdraw tokens to the farms will not be subject to this restriction.\\n    '), 'Is the fee found': 'No', 'matched_var_name': '_excludedFromAntiWhale [ BURN_ADDRESS ]', 'matched_var_exp': '_excludedFromAntiWhale [ BURN_ADDRESS ] = true', 'isEq': False}, {'info': (['antiWhaleFeeRatio', 'transferRestrictionRatio', 'restrictedTransferFee'], '0.0015', 10000, '\\n    Anti Whale\\n    Transfer more than 0.15% (current ratio) of the total supply will be rejected. As the total supply grows, this ratio will be reduced.\\n    Deposit or withdraw tokens to the farms will not be subject to this restriction.\\n    '), 'Is the fee found': 'No', 'matched_var_name': 'transferTaxRate', 'matched_var_exp': 'transferTaxRate = 500', 'isEq': False}]\n",
      "info=(['antiWhaleFeeRatio', 'transferRestrictionRatio', 'restrictedTransferFee'], '0.0015', 10000, '\\n    Anti Whale\\n    Transfer more than 0.15% (current ratio) of the total supply will be rejected. As the total supply grows, this ratio will be reduced.\\n    Deposit or withdraw tokens to the farms will not be subject to this restriction.\\n    '), Is the fee found='No', matched_var_name='maxTransferAmountRate', matched_var_exp='maxTransferAmountRate = 50', isEq=False\n",
      "referralCommissionRate\n",
      "[{'start': (37, 4), 'code': '100', 'code_type': 'uint16', 'raw_code': b'uint16 public referralCommissionRate = 100;', 'pos': ((37, 4), (37, 47))}]\n",
      "maxTransferAmountRate\n",
      "[{'start': (10, 4), 'code': '50', 'code_type': 'uint16', 'raw_code': b'uint16 public maxTransferAmountRate = 50;', 'pos': ((10, 4), (10, 45))}]\n",
      "MAXIMUM_REFERRAL_COMMISSION_RATE\n",
      "[{'start': (38, 4), 'code': '1000', 'code_type': 'uint16', 'raw_code': b'uint16 public constant MAXIMUM_REFERRAL_COMMISSION_RATE = 1000;', 'pos': ((38, 4), (38, 67))}]\n",
      "transferTaxRate\n",
      "[{'start': (6, 4), 'code': '500', 'code_type': 'uint16', 'raw_code': b'uint16 public transferTaxRate = 500;', 'pos': ((6, 4), (6, 40))}]\n",
      "MAXIMUM_TRANSFER_TAX_RATE\n",
      "[{'start': (8, 4), 'code': '1000', 'code_type': 'uint16', 'raw_code': b'uint16 public constant MAXIMUM_TRANSFER_TAX_RATE = 1000;', 'pos': ((8, 4), (8, 60))}]\n",
      "[{'info': (['depositFee', 'devFundFee', 'redistributionFee'], '0.04', 10000, '\\n    Deposit Fee Redistribution\\n    Deposit Fee\\n    When users enter the farming on PantherSwap, a 4% deposit fee will be charged. \\n    1% deposit fee will be sent to the dev team as the development fund.\\n    3% deposit fee will be redistributed to PANTHER holders via Jungles farming.\\n    '), 'Is the fee found': 'No', 'matched_var_name': 'referralCommissionRate', 'matched_var_exp': 'referralCommissionRate = 100', 'isEq': False}, {'info': (['depositFee', 'devFundFee', 'redistributionFee'], '0.04', 10000, '\\n    Deposit Fee Redistribution\\n    Deposit Fee\\n    When users enter the farming on PantherSwap, a 4% deposit fee will be charged. \\n    1% deposit fee will be sent to the dev team as the development fund.\\n    3% deposit fee will be redistributed to PANTHER holders via Jungles farming.\\n    '), 'Is the fee found': 'No', 'matched_var_name': 'maxTransferAmountRate', 'matched_var_exp': 'maxTransferAmountRate = 50', 'isEq': False}, {'info': (['depositFee', 'devFundFee', 'redistributionFee'], '0.04', 10000, '\\n    Deposit Fee Redistribution\\n    Deposit Fee\\n    When users enter the farming on PantherSwap, a 4% deposit fee will be charged. \\n    1% deposit fee will be sent to the dev team as the development fund.\\n    3% deposit fee will be redistributed to PANTHER holders via Jungles farming.\\n    '), 'Is the fee found': 'No', 'matched_var_name': 'MAXIMUM_REFERRAL_COMMISSION_RATE', 'matched_var_exp': 'MAXIMUM_REFERRAL_COMMISSION_RATE = 1000', 'isEq': False}, {'info': (['depositFee', 'devFundFee', 'redistributionFee'], '0.04', 10000, '\\n    Deposit Fee Redistribution\\n    Deposit Fee\\n    When users enter the farming on PantherSwap, a 4% deposit fee will be charged. \\n    1% deposit fee will be sent to the dev team as the development fund.\\n    3% deposit fee will be redistributed to PANTHER holders via Jungles farming.\\n    '), 'Is the fee found': 'No', 'matched_var_name': 'transferTaxRate', 'matched_var_exp': 'transferTaxRate = 500', 'isEq': False}, {'info': (['depositFee', 'devFundFee', 'redistributionFee'], '0.04', 10000, '\\n    Deposit Fee Redistribution\\n    Deposit Fee\\n    When users enter the farming on PantherSwap, a 4% deposit fee will be charged. \\n    1% deposit fee will be sent to the dev team as the development fund.\\n    3% deposit fee will be redistributed to PANTHER holders via Jungles farming.\\n    '), 'Is the fee found': 'No', 'matched_var_name': 'MAXIMUM_TRANSFER_TAX_RATE', 'matched_var_exp': 'MAXIMUM_TRANSFER_TAX_RATE = 1000', 'isEq': False}]\n",
      "info=(['depositFee', 'devFundFee', 'redistributionFee'], '0.04', 10000, '\\n    Deposit Fee Redistribution\\n    Deposit Fee\\n    When users enter the farming on PantherSwap, a 4% deposit fee will be charged. \\n    1% deposit fee will be sent to the dev team as the development fund.\\n    3% deposit fee will be redistributed to PANTHER holders via Jungles farming.\\n    '), Is the fee found='No', matched_var_name='referralCommissionRate', matched_var_exp='referralCommissionRate = 100', isEq=False\n",
      "referralCommissionRate\n",
      "[{'start': (37, 4), 'code': '100', 'code_type': 'uint16', 'raw_code': b'uint16 public referralCommissionRate = 100;', 'pos': ((37, 4), (37, 47))}]\n",
      "MAXIMUM_REFERRAL_COMMISSION_RATE\n",
      "[{'start': (38, 4), 'code': '1000', 'code_type': 'uint16', 'raw_code': b'uint16 public constant MAXIMUM_REFERRAL_COMMISSION_RATE = 1000;', 'pos': ((38, 4), (38, 67))}]\n",
      "maxTransferAmountRate\n",
      "[{'start': (10, 4), 'code': '50', 'code_type': 'uint16', 'raw_code': b'uint16 public maxTransferAmountRate = 50;', 'pos': ((10, 4), (10, 45))}]\n",
      "DELEGATION_TYPEHASH\n",
      "[{'start': (162, 1), 'code': 'keccak256 ( \"Delegation(address delegatee,uint256 nonce,uint256 expiry)\" \" \" )', 'code_type': 'bytes32', 'raw_code': b'bytes32 public constant DELEGATION_TYPEHASH = keccak256 ( \"Delegation(address delegatee,uint256 nonce,uint256 expiry)\" \" \" ) ;', 'pos': ((162, 1), (162, 127))}]\n",
      "Skip No-expression Var keccak256 ( \"Delegation(address delegatee,uint256 nonce,uint256 expiry)\" \" \" )\n",
      "burnRate\n",
      "[{'start': (7, 4), 'code': '20', 'code_type': 'uint16', 'raw_code': b'uint16 public burnRate = 20;', 'pos': ((7, 4), (7, 32))}]\n",
      "info=(['referralCommissionRate', 'referralLink', 'inviteeEarningsPercentage'], '0.01', 10000, \"\\n    Referral Program\\n    An on-chain referral program has been implemented to incentivize users to invite friends to join the farming. Inviters can earn 1% of his/her friends' earnings forever.\\n    Visit PantherSwap referral program page: https://pantherswap.com/referrals\\u200b\\n    Unlock your wallet to get your unique referral link\\n    Share your referral link with your friends\\n    Every time your friends get rewards from farms, you will receive referral commissions automatically\\n    The current referral commission rate is 1%\\n    \"), Is the fee found='Yes', matched_var_name='referralCommissionRate', matched_var_exp='referralCommissionRate = 100', isEq=True\n"
     ]
    },
    {
     "data": {
      "text/plain": [
       "\"## whitepaper\\n\\n### Item v0\\n\\n   &ensp;**info**\\n   &emsp; \\n- Description: \\n    Total Transfer Tax Rate: 2% of every transfer\\n     \\n   - Possible Var Names from ChatGPT: ['transferTaxRate', 'totalTransferTax', 'transferFee'] \\n   - Expression:  0.02 \\n\\n\\n   &ensp;**Is the fee found**\\n    No\\n\\n   &ensp;**matched_var_name**\\n    transferTaxRate\\n\\n   &ensp;**matched_var_exp**\\n    transferTaxRate = 500\\n\\n   &ensp;**isEq**\\n    False\\n\\n### Item v1\\n\\n   &ensp;**info**\\n   &emsp; \\n- Description: \\n    Automatic Liquidity\\n    the PANTHER-BNB liquidity pool through the contract automatically. \\n     \\n   - Possible Var Names from ChatGPT: ['autoLiquidityFee', 'liquidityCharge', 'liquidityPoolFee'] \\n   - Expression:  0.01 \\n\\n\\n   &ensp;**Is the fee found**\\n    Yes\\n\\n   &ensp;**matched_var_name**\\n    referralCommissionRate\\n\\n   &ensp;**matched_var_exp**\\n    referralCommissionRate = 100\\n\\n   &ensp;**isEq**\\n    True\\n\\n### Item v2\\n\\n   &ensp;**info**\\n   &emsp; \\n- Description: \\n    Automatic Burning\\n    According to our tokenomics design, each transfer must pay a 2% transfer tax. The 1% transfer tax will be burned (sent to the black hole address) immediately.\\n     \\n   - Possible Var Names from ChatGPT: ['transferTaxBurn', 'automaticBurningFee', 'tokenomicsTransferTax'] \\n   - Expression:  0.01 \\n\\n\\n   &ensp;**Is the fee found**\\n    No\\n\\n   &ensp;**matched_var_name**\\n    transferTaxRate\\n\\n   &ensp;**matched_var_exp**\\n    transferTaxRate = 500\\n\\n   &ensp;**isEq**\\n    False\\n\\n### Item v3\\n\\n   &ensp;**info**\\n   &emsp; \\n- Description: \\n    Anti Whale\\n    Transfer more than 0.15% (current ratio) of the total supply will be rejected. As the total supply grows, this ratio will be reduced.\\n    Deposit or withdraw tokens to the farms will not be subject to this restriction.\\n     \\n   - Possible Var Names from ChatGPT: ['antiWhaleFeeRatio', 'transferRestrictionRatio', 'restrictedTransferFee'] \\n   - Expression:  0.0015 \\n\\n\\n   &ensp;**Is the fee found**\\n    No\\n\\n   &ensp;**matched_var_name**\\n    maxTransferAmountRate\\n\\n   &ensp;**matched_var_exp**\\n    maxTransferAmountRate = 50\\n\\n   &ensp;**isEq**\\n    False\\n\\n### Item v4\\n\\n   &ensp;**info**\\n   &emsp; \\n- Description: \\n    Deposit Fee Redistribution\\n    Deposit Fee\\n    When users enter the farming on PantherSwap, a 4% deposit fee will be charged. \\n    1% deposit fee will be sent to the dev team as the development fund.\\n    3% deposit fee will be redistributed to PANTHER holders via Jungles farming.\\n     \\n   - Possible Var Names from ChatGPT: ['depositFee', 'devFundFee', 'redistributionFee'] \\n   - Expression:  0.04 \\n\\n\\n   &ensp;**Is the fee found**\\n    No\\n\\n   &ensp;**matched_var_name**\\n    referralCommissionRate\\n\\n   &ensp;**matched_var_exp**\\n    referralCommissionRate = 100\\n\\n   &ensp;**isEq**\\n    False\\n\\n### Item v5\\n\\n   &ensp;**info**\\n   &emsp; \\n- Description: \\n    Referral Program\\n    An on-chain referral program has been implemented to incentivize users to invite friends to join the farming. Inviters can earn 1% of his/her friends' earnings forever.\\n    Visit PantherSwap referral program page: https://pantherswap.com/referrals\\u200b\\n    Unlock your wallet to get your unique referral link\\n    Share your referral link with your friends\\n    Every time your friends get rewards from farms, you will receive referral commissions automatically\\n    The current referral commission rate is 1%\\n     \\n   - Possible Var Names from ChatGPT: ['referralCommissionRate', 'referralLink', 'inviteeEarningsPercentage'] \\n   - Expression:  0.01 \\n\\n\\n   &ensp;**Is the fee found**\\n    Yes\\n\\n   &ensp;**matched_var_name**\\n    referralCommissionRate\\n\\n   &ensp;**matched_var_exp**\\n    referralCommissionRate = 100\\n\\n   &ensp;**isEq**\\n    True\\n\\n\\n## hidden_fee_function\\n\\n\\n## hidden_fee_var\\n\\n### burnRate\\n\\n  &ensp;** Possible Values **:\\n _burnRate\\n\\n\\n\""
      ]
     },
     "execution_count": 4,
     "metadata": {},
     "output_type": "execute_result"
    }
   ],
   "source": [
    "check_res = checkRevenueModel(var_names_chatgpt, file_list=[\"./repo_check/panther-farm/contracts/MasterChef.sol\", \"./repo_check/panther-farm/contracts/PantherToken.sol\"],top_K=5)\n",
    "dict_to_markdown(check_res, \"./repo_check/panther-farm/revenue_check.md\")"
   ]
  }
 ],
 "metadata": {
  "kernelspec": {
   "display_name": "web3",
   "language": "python",
   "name": "python3"
  },
  "language_info": {
   "codemirror_mode": {
    "name": "ipython",
    "version": 3
   },
   "file_extension": ".py",
   "mimetype": "text/x-python",
   "name": "python",
   "nbconvert_exporter": "python",
   "pygments_lexer": "ipython3",
   "version": "3.8.16"
  },
  "orig_nbformat": 4
 },
 "nbformat": 4,
 "nbformat_minor": 2
}
