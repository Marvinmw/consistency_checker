{
 "cells": [
  {
   "cell_type": "markdown",
   "metadata": {},
   "source": [
    "## Fee Definitions in the whitepaper"
   ]
  },
  {
   "cell_type": "code",
   "execution_count": 1,
   "metadata": {},
   "outputs": [],
   "source": [
    "v0 = \\\n",
    "    \"\"\"\n",
    "    Buy tax 7%\n",
    "    \"\"\"\n",
    "\n",
    "v1 = \\\n",
    "    \"\"\"\n",
    "    Buy marketing 6%\n",
    "    \"\"\"\n",
    "\n",
    "v2 = \\\n",
    "    \"\"\"\n",
    "   Buy rewards 0% buy back and burn\n",
    "    \"\"\"\n",
    "\n",
    "v3 = \\\n",
    "    \"\"\"\n",
    "    Sell tax 7%  \n",
    "    \"\"\"\n",
    "\n",
    "v4 = \\\n",
    "    \"\"\"\n",
    "   Sell marketing 4% \n",
    "    \"\"\"\n",
    "v5 = \\\n",
    "    \"\"\"\n",
    "    Sell buy back and burn 6%\n",
    "    \"\"\"\n",
    "\n",
    "v6 = \\\n",
    "    \"\"\"\n",
    "    max wallet size (each wallet can only hold 1.5% of supply). \n",
    "    \"\"\"\n",
    "\n",
    "moongame=[ v0, v1, v2, v3, v4, v5, v6]"
   ]
  },
  {
   "cell_type": "markdown",
   "metadata": {},
   "source": [
    "## Generate Prompt and ask ChatGPT"
   ]
  },
  {
   "cell_type": "code",
   "execution_count": 2,
   "metadata": {},
   "outputs": [],
   "source": [
    "import os\n",
    "os.makedirs(\"./repo_check/bitchemicaldefi/constant_whitepaper\", exist_ok=True)\n",
    "prompts = []\n",
    "for i, v in enumerate(moongame):\n",
    "    prompt=\\\n",
    "\"\"\"You are a good Smart Contract developer. Your task is to give a variable with a good name according to the description I provide. The variable is about the tokenomics.  The description about the variable is \n",
    "\n",
    "    '''\"\"\" + \\\n",
    "v + \\\n",
    "\"\"\"'''\n",
    "\n",
    "What is the good variable name? Please provide 3 good choices. The name should be short, concise and precise. The answer just contains three names and do not need explain.\n",
    "\"\"\"\n",
    "    prompts.append(prompt)\n",
    "    with open(f\"./repo_check/bitchemicaldefi/constant_whitepaper/v{i}.txt\", \"w\") as f:\n",
    "        f.write(prompt)"
   ]
  },
  {
   "cell_type": "markdown",
   "metadata": {},
   "source": [
    "## add values"
   ]
  },
  {
   "cell_type": "code",
   "execution_count": 3,
   "metadata": {},
   "outputs": [],
   "source": [
    "from utils.constant_checker import checkRevenueModel, dict_to_markdown\n",
    "a=\"./repo_check/bitchemicaldefi/Bitchemical-Token-BCHEC-/bitchemical .sol\"\n",
    "code=open(a).read()\n",
    "conversion = 100\n",
    "BNB_decimal = 10 ** 18\n",
    "var_names_chatgpt = {\n",
    "    \"v0\":([\"buyTax\",\"purchaseTax\",\"acquisitionTax\"], \"0.07\", conversion, v0),\n",
    "    \"v1\":([\"marketingBuyFee\", \"buyFeeMarketing\", \"chargePercentBuyMarketing\"], \"0.06\", conversion, v1),\n",
    "    \"v2\":([\"rewardBuybackBurnFee\", \"buyRewardFee\", \"rewardChargePercent\"],  \"0.00\", conversion, v2),\n",
    "    \"v3\":([\"sellTax\",\"salesTax\", \"disposalTax\"], \"0.07\", conversion, v3),\n",
    "    \"v4\":([\"marketingSellFee\", \"sellFeeMarketing\", \"chargePercentSellMarketing\"], \"0.04\", conversion, v4),\n",
    "    \"v5\":([\"sellBuybackBurnFee\", \"buybackBurnSellFee\", \"chargePercentSellBuybackBurn\"], \"0.06\", conversion, v5),\n",
    "    \"v6\":([\"maxWalletSize\", \"walletLimit\", \"supplyThreshold\"], \"0.015\", conversion*10, v6),\n",
    "}\n",
    "\n",
    "\n",
    "                "
   ]
  },
  {
   "cell_type": "markdown",
   "metadata": {},
   "source": [
    "## Check and Report"
   ]
  },
  {
   "cell_type": "code",
   "execution_count": 4,
   "metadata": {},
   "outputs": [
    {
     "name": "stdout",
     "output_type": "stream",
     "text": [
      "totalBuyFees\n",
      "[{'start': (35, 1), 'code': '', 'code_type': 'uint256', 'raw_code': b'uint256 public totalBuyFees ;', 'pos': ((35, 1), (35, 30))}]\n",
      "Skip No-expression Var \n",
      "maxBuyTransactionAmount\n",
      "[{'start': (14, 1), 'code': '', 'code_type': 'uint256', 'raw_code': b'uint256 public maxBuyTransactionAmount ;', 'pos': ((14, 1), (14, 41))}]\n",
      "Skip No-expression Var \n",
      "maxSellTransactionAmount\n",
      "[{'start': (15, 1), 'code': '', 'code_type': 'uint256', 'raw_code': b'uint256 public maxSellTransactionAmount ;', 'pos': ((15, 1), (15, 42))}]\n",
      "Skip No-expression Var \n",
      "totalSellFees\n",
      "[{'start': (34, 1), 'code': '', 'code_type': 'uint256', 'raw_code': b'uint256 public totalSellFees ;', 'pos': ((34, 1), (34, 31))}]\n",
      "Skip No-expression Var \n",
      "previousSellRewardsFee\n",
      "[{'start': (151, 1), 'code': 'sellRewardsFee', 'code_type': 'previousSellRewardsFee', 'raw_code': b'previousSellRewardsFee = sellRewardsFee', 'pos': ((151, 1), (151, 40))}]\n",
      "[{'info': (['buyTax', 'purchaseTax', 'acquisitionTax'], '0.07', 100, '\\n    Buy tax 7%\\n    '), 'Is the fee found': 'No', 'matched_var_name': 'previousSellRewardsFee', 'matched_var_exp': 'previousSellRewardsFee = sellRewardsFee', 'isEq': Eq(sellRewardsFee, 7.0)}]\n",
      "info=(['buyTax', 'purchaseTax', 'acquisitionTax'], '0.07', 100, '\\n    Buy tax 7%\\n    '), Is the fee found='No', matched_var_name='previousSellRewardsFee', matched_var_exp='previousSellRewardsFee = sellRewardsFee', isEq=Eq(sellRewardsFee, 7.0)\n",
      "buyMarketingFee\n",
      "[{'start': (106, 1), 'code': '7', 'code_type': 'buyMarketingFee', 'raw_code': b'buyMarketingFee = 7', 'pos': ((106, 1), (106, 20))}]\n",
      "sellMarketingFee\n",
      "[{'start': (109, 1), 'code': '7', 'code_type': 'sellMarketingFee', 'raw_code': b'sellMarketingFee = 7', 'pos': ((109, 1), (109, 21))}]\n",
      "totalBuyFees\n",
      "[{'start': (35, 1), 'code': '', 'code_type': 'uint256', 'raw_code': b'uint256 public totalBuyFees ;', 'pos': ((35, 1), (35, 30))}]\n",
      "Skip No-expression Var \n",
      "previousSellMarketingFee\n",
      "[{'start': (170, 1), 'code': 'sellMarketingFee', 'code_type': 'previousSellMarketingFee', 'raw_code': b'previousSellMarketingFee = sellMarketingFee', 'pos': ((170, 1), (170, 44))}]\n",
      "buyBuyBackFee\n",
      "[{'start': (26, 1), 'code': '', 'code_type': 'uint256', 'raw_code': b'uint256 public buyBuyBackFee ;', 'pos': ((26, 1), (26, 31))}]\n",
      "Skip No-expression Var \n",
      "[{'info': (['marketingBuyFee', 'buyFeeMarketing', 'chargePercentBuyMarketing'], '0.06', 100, '\\n    Buy marketing 6%\\n    '), 'Is the fee found': 'No', 'matched_var_name': 'buyMarketingFee', 'matched_var_exp': 'buyMarketingFee = 7', 'isEq': False}, {'info': (['marketingBuyFee', 'buyFeeMarketing', 'chargePercentBuyMarketing'], '0.06', 100, '\\n    Buy marketing 6%\\n    '), 'Is the fee found': 'No', 'matched_var_name': 'sellMarketingFee', 'matched_var_exp': 'sellMarketingFee = 7', 'isEq': False}, {'info': (['marketingBuyFee', 'buyFeeMarketing', 'chargePercentBuyMarketing'], '0.06', 100, '\\n    Buy marketing 6%\\n    '), 'Is the fee found': 'No', 'matched_var_name': 'previousSellMarketingFee', 'matched_var_exp': 'previousSellMarketingFee = sellMarketingFee', 'isEq': Eq(sellMarketingFee, 6.0)}]\n",
      "info=(['marketingBuyFee', 'buyFeeMarketing', 'chargePercentBuyMarketing'], '0.06', 100, '\\n    Buy marketing 6%\\n    '), Is the fee found='No', matched_var_name='buyMarketingFee', matched_var_exp='buyMarketingFee = 7', isEq=False\n",
      "buyRewardsFee\n",
      "[{'start': (105, 1), 'code': '6', 'code_type': 'buyRewardsFee', 'raw_code': b'buyRewardsFee = 6', 'pos': ((105, 1), (105, 18))}]\n",
      "sellRewardsFee\n",
      "[{'start': (108, 1), 'code': '6', 'code_type': 'sellRewardsFee', 'raw_code': b'sellRewardsFee = 6', 'pos': ((108, 1), (108, 19))}]\n",
      "sellBuyBackFee\n",
      "[{'start': (110, 1), 'code': '4', 'code_type': 'sellBuyBackFee', 'raw_code': b'sellBuyBackFee = 4', 'pos': ((110, 1), (110, 19))}]\n",
      "buyBuyBackFee\n",
      "[{'start': (26, 1), 'code': '', 'code_type': 'uint256', 'raw_code': b'uint256 public buyBuyBackFee ;', 'pos': ((26, 1), (26, 31))}]\n",
      "Skip No-expression Var \n",
      "previousBuyBuyBackFee\n",
      "[{'start': (130, 1), 'code': 'buyBuyBackFee', 'code_type': 'previousBuyBuyBackFee', 'raw_code': b'previousBuyBuyBackFee = buyBuyBackFee', 'pos': ((130, 1), (130, 38))}]\n",
      "[{'info': (['rewardBuybackBurnFee', 'buyRewardFee', 'rewardChargePercent'], '0.00', 100, '\\n   Buy rewards 0% buy back and burn\\n    '), 'Is the fee found': 'No', 'matched_var_name': 'buyRewardsFee', 'matched_var_exp': 'buyRewardsFee = 6', 'isEq': False}, {'info': (['rewardBuybackBurnFee', 'buyRewardFee', 'rewardChargePercent'], '0.00', 100, '\\n   Buy rewards 0% buy back and burn\\n    '), 'Is the fee found': 'No', 'matched_var_name': 'sellRewardsFee', 'matched_var_exp': 'sellRewardsFee = 6', 'isEq': False}, {'info': (['rewardBuybackBurnFee', 'buyRewardFee', 'rewardChargePercent'], '0.00', 100, '\\n   Buy rewards 0% buy back and burn\\n    '), 'Is the fee found': 'No', 'matched_var_name': 'sellBuyBackFee', 'matched_var_exp': 'sellBuyBackFee = 4', 'isEq': False}, {'info': (['rewardBuybackBurnFee', 'buyRewardFee', 'rewardChargePercent'], '0.00', 100, '\\n   Buy rewards 0% buy back and burn\\n    '), 'Is the fee found': 'No', 'matched_var_name': 'previousBuyBuyBackFee', 'matched_var_exp': 'previousBuyBuyBackFee = buyBuyBackFee', 'isEq': Eq(buyBuyBackFee, 0)}]\n",
      "info=(['rewardBuybackBurnFee', 'buyRewardFee', 'rewardChargePercent'], '0.00', 100, '\\n   Buy rewards 0% buy back and burn\\n    '), Is the fee found='No', matched_var_name='buyRewardsFee', matched_var_exp='buyRewardsFee = 6', isEq=False\n",
      "totalSellFees\n",
      "[{'start': (34, 1), 'code': '', 'code_type': 'uint256', 'raw_code': b'uint256 public totalSellFees ;', 'pos': ((34, 1), (34, 31))}]\n",
      "Skip No-expression Var \n",
      "botFees\n",
      "[{'start': (21, 1), 'code': '', 'code_type': 'uint256', 'raw_code': b'uint256 private botFees ;', 'pos': ((21, 1), (21, 26))}]\n",
      "Skip No-expression Var \n",
      "sellMarketingFee\n",
      "[{'start': (109, 1), 'code': '7', 'code_type': 'sellMarketingFee', 'raw_code': b'sellMarketingFee = 7', 'pos': ((109, 1), (109, 21))}]\n",
      "presaleAddress\n",
      "[{'start': (62, 1), 'code': '_presaleAddress', 'code_type': 'presaleAddress', 'raw_code': b'presaleAddress = _presaleAddress', 'pos': ((62, 1), (62, 33))}]\n",
      "buybackpercent\n",
      "[{'start': (20, 4), 'code': '80', 'code_type': 'uint256', 'raw_code': b'uint256 private buybackpercent = 80;', 'pos': ((20, 4), (20, 40))}]\n",
      "info=(['sellTax', 'salesTax', 'disposalTax'], '0.07', 100, '\\n    Sell tax 7%  \\n    '), Is the fee found='Yes', matched_var_name='sellMarketingFee', matched_var_exp='sellMarketingFee = 7', isEq=True\n",
      "sellMarketingFee\n",
      "[{'start': (109, 1), 'code': '7', 'code_type': 'sellMarketingFee', 'raw_code': b'sellMarketingFee = 7', 'pos': ((109, 1), (109, 21))}]\n",
      "buyMarketingFee\n",
      "[{'start': (106, 1), 'code': '7', 'code_type': 'buyMarketingFee', 'raw_code': b'buyMarketingFee = 7', 'pos': ((106, 1), (106, 20))}]\n",
      "totalSellFees\n",
      "[{'start': (34, 1), 'code': '', 'code_type': 'uint256', 'raw_code': b'uint256 public totalSellFees ;', 'pos': ((34, 1), (34, 31))}]\n",
      "Skip No-expression Var \n",
      "previousSellMarketingFee\n",
      "[{'start': (170, 1), 'code': 'sellMarketingFee', 'code_type': 'previousSellMarketingFee', 'raw_code': b'previousSellMarketingFee = sellMarketingFee', 'pos': ((170, 1), (170, 44))}]\n",
      "totalBuyFees\n",
      "[{'start': (35, 1), 'code': '', 'code_type': 'uint256', 'raw_code': b'uint256 public totalBuyFees ;', 'pos': ((35, 1), (35, 30))}]\n",
      "Skip No-expression Var \n",
      "[{'info': (['marketingSellFee', 'sellFeeMarketing', 'chargePercentSellMarketing'], '0.04', 100, '\\n   Sell marketing 4% \\n    '), 'Is the fee found': 'No', 'matched_var_name': 'sellMarketingFee', 'matched_var_exp': 'sellMarketingFee = 7', 'isEq': False}, {'info': (['marketingSellFee', 'sellFeeMarketing', 'chargePercentSellMarketing'], '0.04', 100, '\\n   Sell marketing 4% \\n    '), 'Is the fee found': 'No', 'matched_var_name': 'buyMarketingFee', 'matched_var_exp': 'buyMarketingFee = 7', 'isEq': False}, {'info': (['marketingSellFee', 'sellFeeMarketing', 'chargePercentSellMarketing'], '0.04', 100, '\\n   Sell marketing 4% \\n    '), 'Is the fee found': 'No', 'matched_var_name': 'previousSellMarketingFee', 'matched_var_exp': 'previousSellMarketingFee = sellMarketingFee', 'isEq': Eq(sellMarketingFee, 4.0)}]\n",
      "info=(['marketingSellFee', 'sellFeeMarketing', 'chargePercentSellMarketing'], '0.04', 100, '\\n   Sell marketing 4% \\n    '), Is the fee found='No', matched_var_name='sellMarketingFee', matched_var_exp='sellMarketingFee = 7', isEq=False\n",
      "sellBuyBackFee\n",
      "[{'start': (110, 1), 'code': '4', 'code_type': 'sellBuyBackFee', 'raw_code': b'sellBuyBackFee = 4', 'pos': ((110, 1), (110, 19))}]\n",
      "buyBuyBackFee\n",
      "[{'start': (26, 1), 'code': '', 'code_type': 'uint256', 'raw_code': b'uint256 public buyBuyBackFee ;', 'pos': ((26, 1), (26, 31))}]\n",
      "Skip No-expression Var \n",
      "previousSellBuyBackFee\n",
      "[{'start': (131, 1), 'code': 'sellBuyBackFee', 'code_type': 'previousSellBuyBackFee', 'raw_code': b'previousSellBuyBackFee = sellBuyBackFee', 'pos': ((131, 1), (131, 40))}]\n",
      "previousBuyBuyBackFee\n",
      "[{'start': (130, 1), 'code': 'buyBuyBackFee', 'code_type': 'previousBuyBuyBackFee', 'raw_code': b'previousBuyBuyBackFee = buyBuyBackFee', 'pos': ((130, 1), (130, 38))}]\n",
      "totalBuyFees\n",
      "[{'start': (35, 1), 'code': '', 'code_type': 'uint256', 'raw_code': b'uint256 public totalBuyFees ;', 'pos': ((35, 1), (35, 30))}]\n",
      "Skip No-expression Var \n",
      "[{'info': (['sellBuybackBurnFee', 'buybackBurnSellFee', 'chargePercentSellBuybackBurn'], '0.06', 100, '\\n    Sell buy back and burn 6%\\n    '), 'Is the fee found': 'No', 'matched_var_name': 'sellBuyBackFee', 'matched_var_exp': 'sellBuyBackFee = 4', 'isEq': False}, {'info': (['sellBuybackBurnFee', 'buybackBurnSellFee', 'chargePercentSellBuybackBurn'], '0.06', 100, '\\n    Sell buy back and burn 6%\\n    '), 'Is the fee found': 'No', 'matched_var_name': 'previousSellBuyBackFee', 'matched_var_exp': 'previousSellBuyBackFee = sellBuyBackFee', 'isEq': Eq(sellBuyBackFee, 6.0)}, {'info': (['sellBuybackBurnFee', 'buybackBurnSellFee', 'chargePercentSellBuybackBurn'], '0.06', 100, '\\n    Sell buy back and burn 6%\\n    '), 'Is the fee found': 'No', 'matched_var_name': 'previousBuyBuyBackFee', 'matched_var_exp': 'previousBuyBuyBackFee = buyBuyBackFee', 'isEq': Eq(buyBuyBackFee, 6.0)}]\n",
      "info=(['sellBuybackBurnFee', 'buybackBurnSellFee', 'chargePercentSellBuybackBurn'], '0.06', 100, '\\n    Sell buy back and burn 6%\\n    '), Is the fee found='No', matched_var_name='sellBuyBackFee', matched_var_exp='sellBuyBackFee = 4', isEq=False\n",
      "maxWalletSize\n",
      "[{'start': (17, 1), 'code': '', 'code_type': 'uint256', 'raw_code': b'uint256 public maxWalletSize ;', 'pos': ((17, 1), (17, 31))}]\n",
      "Skip No-expression Var \n",
      "rewardsWallet\n",
      "[{'start': (0, 133), 'code': '0x83aF9cd324b20D767179F47F00e59E83d1eaaC99', 'code_type': 'rewardsWallet', 'raw_code': b'rewardsWallet = 0x83aF9cd324b20D767179F47F00e59E83d1eaaC99', 'pos': ((0, 133), (0, 191))}]\n",
      "marketingWallet\n",
      "[{'start': (0, 65), 'code': '0x1F8D41dF72F183b745356FeE61F930DEeB1F53e8', 'code_type': 'marketingWallet', 'raw_code': b'marketingWallet = 0x1F8D41dF72F183b745356FeE61F930DEeB1F53e8', 'pos': ((0, 65), (0, 125))}]\n",
      "swapTokensAtAmount\n",
      "[{'start': (16, 1), 'code': '', 'code_type': 'uint256', 'raw_code': b'uint256 public swapTokensAtAmount ;', 'pos': ((16, 1), (16, 36))}]\n",
      "Skip No-expression Var \n",
      "maxBuyTransactionAmount\n",
      "[{'start': (14, 1), 'code': '', 'code_type': 'uint256', 'raw_code': b'uint256 public maxBuyTransactionAmount ;', 'pos': ((14, 1), (14, 41))}]\n",
      "Skip No-expression Var \n",
      "[{'info': (['maxWalletSize', 'walletLimit', 'supplyThreshold'], '0.015', 1000, '\\n    max wallet size (each wallet can only hold 1.5% of supply). \\n    '), 'Is the fee found': 'No', 'matched_var_name': 'rewardsWallet', 'matched_var_exp': 'rewardsWallet = 0x83aF9cd324b20D767179F47F00e59E83d1eaaC99', 'isEq': False}, {'info': (['maxWalletSize', 'walletLimit', 'supplyThreshold'], '0.015', 1000, '\\n    max wallet size (each wallet can only hold 1.5% of supply). \\n    '), 'Is the fee found': 'No', 'matched_var_name': 'marketingWallet', 'matched_var_exp': 'marketingWallet = 0x1F8D41dF72F183b745356FeE61F930DEeB1F53e8', 'isEq': False}]\n",
      "info=(['maxWalletSize', 'walletLimit', 'supplyThreshold'], '0.015', 1000, '\\n    max wallet size (each wallet can only hold 1.5% of supply). \\n    '), Is the fee found='No', matched_var_name='rewardsWallet', matched_var_exp='rewardsWallet = 0x83aF9cd324b20D767179F47F00e59E83d1eaaC99', isEq=False\n"
     ]
    },
    {
     "data": {
      "text/plain": [
       "\"## whitepaper\\n\\n### Item v0\\n\\n   &ensp;**info**\\n   &emsp; \\n- Description: \\n    Buy tax 7%\\n     \\n   - Possible Var Names from ChatGPT: ['buyTax', 'purchaseTax', 'acquisitionTax'] \\n   - Expression:  0.07 \\n\\n\\n   &ensp;**Is the fee found**\\n    No\\n\\n   &ensp;**matched_var_name**\\n    previousSellRewardsFee\\n\\n   &ensp;**matched_var_exp**\\n    previousSellRewardsFee = sellRewardsFee\\n\\n   &ensp;**isEq**\\n    Eq(sellRewardsFee, 7.0)\\n\\n### Item v1\\n\\n   &ensp;**info**\\n   &emsp; \\n- Description: \\n    Buy marketing 6%\\n     \\n   - Possible Var Names from ChatGPT: ['marketingBuyFee', 'buyFeeMarketing', 'chargePercentBuyMarketing'] \\n   - Expression:  0.06 \\n\\n\\n   &ensp;**Is the fee found**\\n    No\\n\\n   &ensp;**matched_var_name**\\n    buyMarketingFee\\n\\n   &ensp;**matched_var_exp**\\n    buyMarketingFee = 7\\n\\n   &ensp;**isEq**\\n    False\\n\\n### Item v2\\n\\n   &ensp;**info**\\n   &emsp; \\n- Description: \\n   Buy rewards 0% buy back and burn\\n     \\n   - Possible Var Names from ChatGPT: ['rewardBuybackBurnFee', 'buyRewardFee', 'rewardChargePercent'] \\n   - Expression:  0.00 \\n\\n\\n   &ensp;**Is the fee found**\\n    No\\n\\n   &ensp;**matched_var_name**\\n    buyRewardsFee\\n\\n   &ensp;**matched_var_exp**\\n    buyRewardsFee = 6\\n\\n   &ensp;**isEq**\\n    False\\n\\n### Item v3\\n\\n   &ensp;**info**\\n   &emsp; \\n- Description: \\n    Sell tax 7%  \\n     \\n   - Possible Var Names from ChatGPT: ['sellTax', 'salesTax', 'disposalTax'] \\n   - Expression:  0.07 \\n\\n\\n   &ensp;**Is the fee found**\\n    Yes\\n\\n   &ensp;**matched_var_name**\\n    sellMarketingFee\\n\\n   &ensp;**matched_var_exp**\\n    sellMarketingFee = 7\\n\\n   &ensp;**isEq**\\n    True\\n\\n### Item v4\\n\\n   &ensp;**info**\\n   &emsp; \\n- Description: \\n   Sell marketing 4% \\n     \\n   - Possible Var Names from ChatGPT: ['marketingSellFee', 'sellFeeMarketing', 'chargePercentSellMarketing'] \\n   - Expression:  0.04 \\n\\n\\n   &ensp;**Is the fee found**\\n    No\\n\\n   &ensp;**matched_var_name**\\n    sellMarketingFee\\n\\n   &ensp;**matched_var_exp**\\n    sellMarketingFee = 7\\n\\n   &ensp;**isEq**\\n    False\\n\\n### Item v5\\n\\n   &ensp;**info**\\n   &emsp; \\n- Description: \\n    Sell buy back and burn 6%\\n     \\n   - Possible Var Names from ChatGPT: ['sellBuybackBurnFee', 'buybackBurnSellFee', 'chargePercentSellBuybackBurn'] \\n   - Expression:  0.06 \\n\\n\\n   &ensp;**Is the fee found**\\n    No\\n\\n   &ensp;**matched_var_name**\\n    sellBuyBackFee\\n\\n   &ensp;**matched_var_exp**\\n    sellBuyBackFee = 4\\n\\n   &ensp;**isEq**\\n    False\\n\\n### Item v6\\n\\n   &ensp;**info**\\n   &emsp; \\n- Description: \\n    max wallet size (each wallet can only hold 1.5% of supply). \\n     \\n   - Possible Var Names from ChatGPT: ['maxWalletSize', 'walletLimit', 'supplyThreshold'] \\n   - Expression:  0.015 \\n\\n\\n   &ensp;**Is the fee found**\\n    No\\n\\n   &ensp;**matched_var_name**\\n    rewardsWallet\\n\\n   &ensp;**matched_var_exp**\\n    rewardsWallet = 0x83aF9cd324b20D767179F47F00e59E83d1eaaC99\\n\\n   &ensp;**isEq**\\n    False\\n\\n\\n## hidden_fee_function\\n\\n### getIsExcludedFromFees\\n\\n  &ensp;** Possible Values **:\\n isExcludedFromFees_account_\\n\\n\\n## hidden_fee_var\\n\\n### isExcludedFromFees__presaleAddress_\\n\\n  &ensp;** Possible Values **:\\n True\\n\\n### isExcludedFromFees__partnerOrExchangeAddress_\\n\\n  &ensp;** Possible Values **:\\n True\\n\\n### isExcludedFromFees__newWallet_\\n\\n  &ensp;** Possible Values **:\\n True\\n\\n### transferFeeIncreaseFactor\\n\\n  &ensp;** Possible Values **:\\n _multiplier\\n\\n### buyRewardsFee\\n\\n  &ensp;** Possible Values **:\\n 0, \\n 6, \\n 0, \\n previousBuyRewardsFee, \\n _buyRewardsFee\\n\\n### buyMarketingFee\\n\\n  &ensp;** Possible Values **:\\n 0, \\n 7, \\n 0, \\n previousBuyMarketingFee, \\n _buyMarketingFee\\n\\n### buyBuyBackFee\\n\\n  &ensp;** Possible Values **:\\n 0, \\n 0, \\n 0, \\n previousBuyBuyBackFee, \\n _buyBuyBackFee\\n\\n### sellRewardsFee\\n\\n  &ensp;** Possible Values **:\\n 0, \\n 6, \\n 0, \\n previousSellRewardsFee, \\n _sellRewardsFee\\n\\n### sellMarketingFee\\n\\n  &ensp;** Possible Values **:\\n 0, \\n 7, \\n 0, \\n previousSellMarketingFee, \\n _sellMarketingFee\\n\\n### sellBuyBackFee\\n\\n  &ensp;** Possible Values **:\\n 0, \\n 4, \\n 0, \\n previousSellBuyBackFee, \\n _sellBuyBackFee\\n\\n### totalBuyFees\\n\\n  &ensp;** Possible Values **:\\n 13, \\n 13, \\n 13, \\n buyBuyBackFee + 7, \\n buyBuyBackFee + 7, \\n buyBuyBackFee + 6, \\n buyBuyBackFee + 6, \\n buyBuyBackFee + 13\\n\\n### totalSellFees\\n\\n  &ensp;** Possible Values **:\\n 17, \\n 13, \\n 13, \\n 11, \\n 11, \\n 10, \\n 10, \\n 17\\n\\n### botFees\\n\\n  &ensp;** Possible Values **:\\n _botFees, \\n percent\\n\\n### previousBuyBuyBackFee\\n\\n  &ensp;** Possible Values **:\\n 0\\n\\n### previousSellBuyBackFee\\n\\n  &ensp;** Possible Values **:\\n 0\\n\\n### previousBuyRewardsFee\\n\\n  &ensp;** Possible Values **:\\n 0\\n\\n### previousSellRewardsFee\\n\\n  &ensp;** Possible Values **:\\n 0\\n\\n### previousBuyMarketingFee\\n\\n  &ensp;** Possible Values **:\\n 0\\n\\n### previousSellMarketingFee\\n\\n  &ensp;** Possible Values **:\\n 0\\n\\n### isExcludedFromFees_account_\\n\\n  &ensp;** Possible Values **:\\n excluded\\n\\n### fees\\n\\n  &ensp;** Possible Values **:\\n amount*totalBuyFees/100, \\n fees - rewardPortion, \\n amount*totalSellFees/100, \\n fees - rewardPortion, \\n amount*totalTransferFees/100, \\n fees - rewardPortion, \\n amount*botFees/100\\n\\n### takeFee\\n\\n  &ensp;** Possible Values **:\\n False\\n\\n### totalTransferFees\\n\\n  &ensp;** Possible Values **:\\n totalSellFees\\n\\n\\n\""
      ]
     },
     "execution_count": 4,
     "metadata": {},
     "output_type": "execute_result"
    }
   ],
   "source": [
    "check_res = checkRevenueModel(var_names_chatgpt, code,top_K = 5)\n",
    "dict_to_markdown(check_res, \"./repo_check/bitchemicaldefi/revenue_bitchemicaldefi.md\")"
   ]
  }
 ],
 "metadata": {
  "kernelspec": {
   "display_name": "web3",
   "language": "python",
   "name": "python3"
  },
  "language_info": {
   "codemirror_mode": {
    "name": "ipython",
    "version": 3
   },
   "file_extension": ".py",
   "mimetype": "text/x-python",
   "name": "python",
   "nbconvert_exporter": "python",
   "pygments_lexer": "ipython3",
   "version": "3.8.16"
  },
  "orig_nbformat": 4
 },
 "nbformat": 4,
 "nbformat_minor": 2
}
