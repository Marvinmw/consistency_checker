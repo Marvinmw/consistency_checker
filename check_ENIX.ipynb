{
 "cells": [
  {
   "cell_type": "markdown",
   "metadata": {},
   "source": [
    "## Fee Definitions in the whitepaper"
   ]
  },
  {
   "cell_type": "code",
   "execution_count": 1,
   "metadata": {},
   "outputs": [],
   "source": [
    "v0 = \\\n",
    "    \"\"\"\n",
    "    ENIX is an BEP20 token on the Binance Smart Chain, with a maximum supply of 500,000,000 tokens.\n",
    "    \"\"\"\n",
    "\n",
    "v1 = \\\n",
    "    \"\"\"\n",
    "    Every trade contributes 3% to the liquidity pool, resulting in a growing price floor and a sustainable token.\n",
    "    \"\"\"\n",
    "\n",
    "v2 = \\\n",
    "    \"\"\"\n",
    "   2% of every buy and sell transaction is divided among all present holders in proportion to their holdings. \n",
    "    \"\"\"\n",
    "\n",
    "v3 = \\\n",
    "    \"\"\"\n",
    "    4% of all transactions are automatically transferred to the Development/ Research wallet. \n",
    "    \"\"\"\n",
    "\n",
    "v4 = \\\n",
    "    \"\"\"\n",
    "   To establish deflationary conditions for the token, 2.5% (12,500,000 tokens) were sent to a burn address (0x000) immediately after the contract was deployed. \n",
    "    \"\"\"\n",
    "v5 = \\\n",
    "    \"\"\"\n",
    "  More ENIX tokens will be burned at various points in the future until 15% of the total supply has been burned.\n",
    "    \"\"\"\n",
    "\n",
    "\n",
    "moongame=[ v0, v1, v2, v3, v4, v5]"
   ]
  },
  {
   "cell_type": "markdown",
   "metadata": {},
   "source": [
    "## Generate Prompt and ask ChatGPT"
   ]
  },
  {
   "cell_type": "code",
   "execution_count": 2,
   "metadata": {},
   "outputs": [],
   "source": [
    "import os\n",
    "os.makedirs(\"./repo_check/ASENIX/constant_whitepaper\", exist_ok=True)\n",
    "prompts = []\n",
    "for i, v in enumerate(moongame):\n",
    "    prompt=\\\n",
    "\"\"\"You are a good Smart Contract developer. Your task is to give a variable with a good name according to the description I provide. The variable is about the tokenomics. The description about the variable is \n",
    "\n",
    "    '''\"\"\" + \\\n",
    "v + \\\n",
    "\"\"\"'''\n",
    "\n",
    "What is the good variable name? Please provide 3 good choices. The name should be short, concise and precise. The answer just contains three names and do not need explain.\n",
    "\"\"\"\n",
    "    prompts.append(prompt)\n",
    "    with open(f\"./repo_check/ASENIX/constant_whitepaper/v{i}.txt\", \"w\") as f:\n",
    "        f.write(prompt)"
   ]
  },
  {
   "cell_type": "markdown",
   "metadata": {},
   "source": [
    "## add values"
   ]
  },
  {
   "cell_type": "code",
   "execution_count": 3,
   "metadata": {},
   "outputs": [],
   "source": [
    "from utils.constant_checker import checkRevenueModel, dict_to_markdown\n",
    "a=\"./repo_check/ASENIX/ASENIX-token-Smart-contract/ENIX.sol\"\n",
    "code=open(a).read()\n",
    "conversion = 100\n",
    "BNB_decimal = 10 ** 18\n",
    "var_names_chatgpt = {\n",
    "    \"v0\":([\"ENIX_MAX_SUPPLY\",\"TOKEN_MAX_SUPPLY\", \"BEP20_MAX_SUPPLY\"], \"500000000\", BNB_decimal, v0),\n",
    "    \"v0_\":([\"ENIX_MAX_SUPPLY\",\"TOKEN_MAX_SUPPLY\", \"BEP20_MAX_SUPPLY\"], \"500000000*10 ** 18\", 1, v0),\n",
    "    \"v1\":([\"liquidityFee\",\"tradeContributionFee\",\"sustainableTokenFee\"], \"0.03\", conversion, v1),\n",
    "    \"v2\":([\"distributionFee\",\"proportionalFee\",\"transactionReward\"],  \"0.02\", conversion, v2),\n",
    "    \"v3\":([\"developmentFee\",\"researchWalletFee\",\"transactionAllocation\"], \"0.04\", conversion, v3),\n",
    "    \"v4\":([\"burnFee\",\"deflationaryAllocation\",\"initialTokenBurn\"], \"0.025\", conversion, v4),\n",
    "    \"v5\":([\"futureBurn\",\"supplyReduction\",\"ongoingTokenBurn\"], \"0.15\", conversion, v5),\n",
    "}\n",
    "\n",
    "\n",
    "                "
   ]
  },
  {
   "cell_type": "markdown",
   "metadata": {},
   "source": [
    "## Check and Report"
   ]
  },
  {
   "cell_type": "code",
   "execution_count": 4,
   "metadata": {},
   "outputs": [
    {
     "name": "stdout",
     "output_type": "stream",
     "text": [
      "uniswapV2Pair\n",
      "[{'start': (53, 1), 'code': 'IUniswapV2Factory ( factory ( ) ) . createPair ( address ( this ) , WETH ( ) )', 'code_type': 'uniswapV2Pair', 'raw_code': b'uniswapV2Pair = IUniswapV2Factory ( _uniswapV2Router . factory ( ) ) . createPair ( address ( this ) , _uniswapV2Router . WETH ( ) )', 'pos': ((53, 1), (53, 133))}]\n",
      "Skip No-expression Var IUniswapV2Factory ( factory ( ) ) . createPair ( address ( this ) , WETH ( ) )\n",
      "_rTotal\n",
      "[{'start': (16, 1), 'code': '( MAX - ( MAX % _tTotal ) )', 'code_type': 'uint256', 'raw_code': b'uint256 private _rTotal = ( MAX - ( MAX % _tTotal ) ) ;', 'pos': ((16, 1), (16, 56))}]\n",
      "_decimals\n",
      "[{'start': (12, 4), 'code': '18', 'code_type': 'uint8', 'raw_code': b'uint8  private _decimals = 18;', 'pos': ((12, 4), (12, 34))}]\n",
      "ENIXLabsFee\n",
      "[{'start': (0, 789), 'code': '4', 'code_type': 'ENIXLabsFee', 'raw_code': b'ENIXLabsFee = 4', 'pos': ((0, 789), (0, 804))}]\n",
      "visibleSupply\n",
      "[{'start': (15, 1), 'code': '500000000 * ( 10 ** _decimals )', 'code_type': 'uint256', 'raw_code': b'uint256 private visibleSupply = 500000000 * ( 10 ** _decimals ) ;', 'pos': ((15, 1), (15, 66))}]\n",
      "[{'info': (['ENIX_MAX_SUPPLY', 'TOKEN_MAX_SUPPLY', 'BEP20_MAX_SUPPLY'], '500000000', 1000000000000000000, '\\n    ENIX is an BEP20 token on the Binance Smart Chain, with a maximum supply of 500,000,000 tokens.\\n    '), 'Is the fee found': 'No', 'matched_var_name': '_rTotal', 'matched_var_exp': '_rTotal = ( MAX - ( MAX % _tTotal ) )', 'isEq': Eq(MAX - Mod(MAX, _tTotal), 500000000000000000000000000)}, {'info': (['ENIX_MAX_SUPPLY', 'TOKEN_MAX_SUPPLY', 'BEP20_MAX_SUPPLY'], '500000000', 1000000000000000000, '\\n    ENIX is an BEP20 token on the Binance Smart Chain, with a maximum supply of 500,000,000 tokens.\\n    '), 'Is the fee found': 'No', 'matched_var_name': '_decimals', 'matched_var_exp': '_decimals = 18', 'isEq': False}, {'info': (['ENIX_MAX_SUPPLY', 'TOKEN_MAX_SUPPLY', 'BEP20_MAX_SUPPLY'], '500000000', 1000000000000000000, '\\n    ENIX is an BEP20 token on the Binance Smart Chain, with a maximum supply of 500,000,000 tokens.\\n    '), 'Is the fee found': 'No', 'matched_var_name': 'ENIXLabsFee', 'matched_var_exp': 'ENIXLabsFee = 4', 'isEq': False}, {'info': (['ENIX_MAX_SUPPLY', 'TOKEN_MAX_SUPPLY', 'BEP20_MAX_SUPPLY'], '500000000', 1000000000000000000, '\\n    ENIX is an BEP20 token on the Binance Smart Chain, with a maximum supply of 500,000,000 tokens.\\n    '), 'Is the fee found': 'No', 'matched_var_name': 'visibleSupply', 'matched_var_exp': 'visibleSupply = 500000000 * ( 10 ** _decimals )', 'isEq': Eq(500000000*10**_decimals, 500000000000000000000000000)}]\n",
      "info=(['ENIX_MAX_SUPPLY', 'TOKEN_MAX_SUPPLY', 'BEP20_MAX_SUPPLY'], '500000000', 1000000000000000000, '\\n    ENIX is an BEP20 token on the Binance Smart Chain, with a maximum supply of 500,000,000 tokens.\\n    '), Is the fee found='No', matched_var_name='_rTotal', matched_var_exp='_rTotal = ( MAX - ( MAX % _tTotal ) )', isEq=Eq(MAX - Mod(MAX, _tTotal), 500000000000000000000000000)\n",
      "uniswapV2Pair\n",
      "[{'start': (53, 1), 'code': 'IUniswapV2Factory ( factory ( ) ) . createPair ( address ( this ) , WETH ( ) )', 'code_type': 'uniswapV2Pair', 'raw_code': b'uniswapV2Pair = IUniswapV2Factory ( _uniswapV2Router . factory ( ) ) . createPair ( address ( this ) , _uniswapV2Router . WETH ( ) )', 'pos': ((53, 1), (53, 133))}]\n",
      "Skip No-expression Var IUniswapV2Factory ( factory ( ) ) . createPair ( address ( this ) , WETH ( ) )\n",
      "_rTotal\n",
      "[{'start': (16, 1), 'code': '( MAX - ( MAX % _tTotal ) )', 'code_type': 'uint256', 'raw_code': b'uint256 private _rTotal = ( MAX - ( MAX % _tTotal ) ) ;', 'pos': ((16, 1), (16, 56))}]\n",
      "_decimals\n",
      "[{'start': (12, 4), 'code': '18', 'code_type': 'uint8', 'raw_code': b'uint8  private _decimals = 18;', 'pos': ((12, 4), (12, 34))}]\n",
      "ENIXLabsFee\n",
      "[{'start': (0, 789), 'code': '4', 'code_type': 'ENIXLabsFee', 'raw_code': b'ENIXLabsFee = 4', 'pos': ((0, 789), (0, 804))}]\n",
      "visibleSupply\n",
      "[{'start': (15, 1), 'code': '500000000 * ( 10 ** _decimals )', 'code_type': 'uint256', 'raw_code': b'uint256 private visibleSupply = 500000000 * ( 10 ** _decimals ) ;', 'pos': ((15, 1), (15, 66))}]\n",
      "[{'info': (['ENIX_MAX_SUPPLY', 'TOKEN_MAX_SUPPLY', 'BEP20_MAX_SUPPLY'], '500000000*10 ** 18', 1, '\\n    ENIX is an BEP20 token on the Binance Smart Chain, with a maximum supply of 500,000,000 tokens.\\n    '), 'Is the fee found': 'No', 'matched_var_name': '_rTotal', 'matched_var_exp': '_rTotal = ( MAX - ( MAX % _tTotal ) )', 'isEq': Eq(MAX - Mod(MAX, _tTotal), 500000000000000000000000000)}, {'info': (['ENIX_MAX_SUPPLY', 'TOKEN_MAX_SUPPLY', 'BEP20_MAX_SUPPLY'], '500000000*10 ** 18', 1, '\\n    ENIX is an BEP20 token on the Binance Smart Chain, with a maximum supply of 500,000,000 tokens.\\n    '), 'Is the fee found': 'No', 'matched_var_name': '_decimals', 'matched_var_exp': '_decimals = 18', 'isEq': False}, {'info': (['ENIX_MAX_SUPPLY', 'TOKEN_MAX_SUPPLY', 'BEP20_MAX_SUPPLY'], '500000000*10 ** 18', 1, '\\n    ENIX is an BEP20 token on the Binance Smart Chain, with a maximum supply of 500,000,000 tokens.\\n    '), 'Is the fee found': 'No', 'matched_var_name': 'ENIXLabsFee', 'matched_var_exp': 'ENIXLabsFee = 4', 'isEq': False}, {'info': (['ENIX_MAX_SUPPLY', 'TOKEN_MAX_SUPPLY', 'BEP20_MAX_SUPPLY'], '500000000*10 ** 18', 1, '\\n    ENIX is an BEP20 token on the Binance Smart Chain, with a maximum supply of 500,000,000 tokens.\\n    '), 'Is the fee found': 'No', 'matched_var_name': 'visibleSupply', 'matched_var_exp': 'visibleSupply = 500000000 * ( 10 ** _decimals )', 'isEq': Eq(500000000*10**_decimals, 500000000000000000000000000)}]\n",
      "info=(['ENIX_MAX_SUPPLY', 'TOKEN_MAX_SUPPLY', 'BEP20_MAX_SUPPLY'], '500000000*10 ** 18', 1, '\\n    ENIX is an BEP20 token on the Binance Smart Chain, with a maximum supply of 500,000,000 tokens.\\n    '), Is the fee found='No', matched_var_name='_rTotal', matched_var_exp='_rTotal = ( MAX - ( MAX % _tTotal ) )', isEq=Eq(MAX - Mod(MAX, _tTotal), 500000000000000000000000000)\n",
      "_liquidityFee\n",
      "[{'start': (27, 1), 'code': '', 'code_type': 'uint256', 'raw_code': b'uint256 public _liquidityFee ;', 'pos': ((27, 1), (27, 31))}]\n",
      "Skip No-expression Var \n",
      "liquidityFeeonBuy\n",
      "[{'start': (0, 813), 'code': '3', 'code_type': 'liquidityFeeonBuy', 'raw_code': b'liquidityFeeonBuy = 3', 'pos': ((0, 813), (0, 834))}]\n",
      "liquidityFeeonSell\n",
      "[{'start': (0, 843), 'code': '3', 'code_type': 'liquidityFeeonSell', 'raw_code': b'liquidityFeeonSell = 3', 'pos': ((0, 843), (0, 865))}]\n",
      "_taxFee\n",
      "[{'start': (26, 1), 'code': '', 'code_type': 'uint256', 'raw_code': b'uint256 public _taxFee ;', 'pos': ((26, 1), (26, 25))}]\n",
      "Skip No-expression Var \n",
      "MarketingFee\n",
      "[{'start': (0, 897), 'code': '2', 'code_type': 'MarketingFee', 'raw_code': b'MarketingFee = 2', 'pos': ((0, 897), (0, 913))}]\n",
      "info=(['liquidityFee', 'tradeContributionFee', 'sustainableTokenFee'], '0.03', 100, '\\n    Every trade contributes 3% to the liquidity pool, resulting in a growing price floor and a sustainable token.\\n    '), Is the fee found='Yes', matched_var_name='liquidityFeeonBuy', matched_var_exp='liquidityFeeonBuy = 3', isEq=True\n",
      "_liquidityFee\n",
      "[{'start': (27, 1), 'code': '', 'code_type': 'uint256', 'raw_code': b'uint256 public _liquidityFee ;', 'pos': ((27, 1), (27, 31))}]\n",
      "Skip No-expression Var \n",
      "_taxFee\n",
      "[{'start': (26, 1), 'code': '', 'code_type': 'uint256', 'raw_code': b'uint256 public _taxFee ;', 'pos': ((26, 1), (26, 25))}]\n",
      "Skip No-expression Var \n",
      "MarketingFee\n",
      "[{'start': (0, 897), 'code': '2', 'code_type': 'MarketingFee', 'raw_code': b'MarketingFee = 2', 'pos': ((0, 897), (0, 913))}]\n",
      "_burnFee\n",
      "[{'start': (28, 1), 'code': '', 'code_type': 'uint256', 'raw_code': b'uint256 public _burnFee ;', 'pos': ((28, 1), (28, 26))}]\n",
      "Skip No-expression Var \n",
      "liquidityFeeonBuy\n",
      "[{'start': (0, 813), 'code': '3', 'code_type': 'liquidityFeeonBuy', 'raw_code': b'liquidityFeeonBuy = 3', 'pos': ((0, 813), (0, 834))}]\n",
      "info=(['distributionFee', 'proportionalFee', 'transactionReward'], '0.02', 100, '\\n   2% of every buy and sell transaction is divided among all present holders in proportion to their holdings. \\n    '), Is the fee found='Yes', matched_var_name='MarketingFee', matched_var_exp='MarketingFee = 2', isEq=True\n",
      "_taxFee\n",
      "[{'start': (26, 1), 'code': '', 'code_type': 'uint256', 'raw_code': b'uint256 public _taxFee ;', 'pos': ((26, 1), (26, 25))}]\n",
      "Skip No-expression Var \n",
      "_burnFee\n",
      "[{'start': (28, 1), 'code': '', 'code_type': 'uint256', 'raw_code': b'uint256 public _burnFee ;', 'pos': ((28, 1), (28, 26))}]\n",
      "Skip No-expression Var \n",
      "holdersFee\n",
      "[{'start': (0, 874), 'code': '2', 'code_type': 'holdersFee', 'raw_code': b'holdersFee = 2', 'pos': ((0, 874), (0, 888))}]\n",
      "_liquidityFee\n",
      "[{'start': (27, 1), 'code': '', 'code_type': 'uint256', 'raw_code': b'uint256 public _liquidityFee ;', 'pos': ((27, 1), (27, 31))}]\n",
      "Skip No-expression Var \n",
      "MarketingFee\n",
      "[{'start': (0, 897), 'code': '2', 'code_type': 'MarketingFee', 'raw_code': b'MarketingFee = 2', 'pos': ((0, 897), (0, 913))}]\n",
      "[{'info': (['developmentFee', 'researchWalletFee', 'transactionAllocation'], '0.04', 100, '\\n    4% of all transactions are automatically transferred to the Development/ Research wallet. \\n    '), 'Is the fee found': 'No', 'matched_var_name': 'holdersFee', 'matched_var_exp': 'holdersFee = 2', 'isEq': False}, {'info': (['developmentFee', 'researchWalletFee', 'transactionAllocation'], '0.04', 100, '\\n    4% of all transactions are automatically transferred to the Development/ Research wallet. \\n    '), 'Is the fee found': 'No', 'matched_var_name': 'MarketingFee', 'matched_var_exp': 'MarketingFee = 2', 'isEq': False}]\n",
      "info=(['developmentFee', 'researchWalletFee', 'transactionAllocation'], '0.04', 100, '\\n    4% of all transactions are automatically transferred to the Development/ Research wallet. \\n    '), Is the fee found='No', matched_var_name='holdersFee', matched_var_exp='holdersFee = 2', isEq=False\n",
      "_burnFee\n",
      "[{'start': (28, 1), 'code': '', 'code_type': 'uint256', 'raw_code': b'uint256 public _burnFee ;', 'pos': ((28, 1), (28, 26))}]\n",
      "Skip No-expression Var \n",
      "_taxFee\n",
      "[{'start': (26, 1), 'code': '', 'code_type': 'uint256', 'raw_code': b'uint256 public _taxFee ;', 'pos': ((26, 1), (26, 25))}]\n",
      "Skip No-expression Var \n",
      "holdersFee\n",
      "[{'start': (0, 874), 'code': '2', 'code_type': 'holdersFee', 'raw_code': b'holdersFee = 2', 'pos': ((0, 874), (0, 888))}]\n",
      "burnFeeOnBuy\n",
      "[{'start': (0, 922), 'code': '0', 'code_type': 'burnFeeOnBuy', 'raw_code': b'burnFeeOnBuy = 0', 'pos': ((0, 922), (0, 938))}]\n",
      "burnFeeOnSell\n",
      "[{'start': (0, 947), 'code': '0', 'code_type': 'burnFeeOnSell', 'raw_code': b'burnFeeOnSell = 0', 'pos': ((0, 947), (0, 964))}]\n",
      "[{'info': (['burnFee', 'deflationaryAllocation', 'initialTokenBurn'], '0.025', 100, '\\n   To establish deflationary conditions for the token, 2.5% (12,500,000 tokens) were sent to a burn address (0x000) immediately after the contract was deployed. \\n    '), 'Is the fee found': 'No', 'matched_var_name': 'holdersFee', 'matched_var_exp': 'holdersFee = 2', 'isEq': False}, {'info': (['burnFee', 'deflationaryAllocation', 'initialTokenBurn'], '0.025', 100, '\\n   To establish deflationary conditions for the token, 2.5% (12,500,000 tokens) were sent to a burn address (0x000) immediately after the contract was deployed. \\n    '), 'Is the fee found': 'No', 'matched_var_name': 'burnFeeOnBuy', 'matched_var_exp': 'burnFeeOnBuy = 0', 'isEq': False}, {'info': (['burnFee', 'deflationaryAllocation', 'initialTokenBurn'], '0.025', 100, '\\n   To establish deflationary conditions for the token, 2.5% (12,500,000 tokens) were sent to a burn address (0x000) immediately after the contract was deployed. \\n    '), 'Is the fee found': 'No', 'matched_var_name': 'burnFeeOnSell', 'matched_var_exp': 'burnFeeOnSell = 0', 'isEq': False}]\n",
      "info=(['burnFee', 'deflationaryAllocation', 'initialTokenBurn'], '0.025', 100, '\\n   To establish deflationary conditions for the token, 2.5% (12,500,000 tokens) were sent to a burn address (0x000) immediately after the contract was deployed. \\n    '), Is the fee found='No', matched_var_name='holdersFee', matched_var_exp='holdersFee = 2', isEq=False\n",
      "swapTokensAtAmount\n",
      "[{'start': (67, 1), 'code': '_tTotal / 5000', 'code_type': 'swapTokensAtAmount', 'raw_code': b'swapTokensAtAmount = _tTotal / 5000', 'pos': ((67, 1), (67, 36))}]\n",
      "DEAD\n",
      "[{'start': (32, 4), 'code': '0x000000000000000000000000000000000000dEaD', 'code_type': 'address', 'raw_code': b'address private DEAD = 0x000000000000000000000000000000000000dEaD;', 'pos': ((32, 4), (32, 70))}]\n",
      "_rTotal\n",
      "[{'start': (16, 1), 'code': '( MAX - ( MAX % _tTotal ) )', 'code_type': 'uint256', 'raw_code': b'uint256 private _rTotal = ( MAX - ( MAX % _tTotal ) ) ;', 'pos': ((16, 1), (16, 56))}]\n",
      "_name\n",
      "[{'start': (10, 4), 'code': '\"ASENIX\"', 'code_type': 'string', 'raw_code': b'string private _name     = \"ASENIX\";', 'pos': ((10, 4), (10, 40))}]\n",
      "_excluded\n",
      "[{'start': (9, 1), 'code': '', 'code_type': 'address', 'raw_code': b'address [ ] private _excluded ;', 'pos': ((9, 1), (9, 32))}]\n",
      "Skip No-expression Var \n",
      "[{'info': (['futureBurn', 'supplyReduction', 'ongoingTokenBurn'], '0.15', 100, '\\n  More ENIX tokens will be burned at various points in the future until 15% of the total supply has been burned.\\n    '), 'Is the fee found': 'No', 'matched_var_name': 'swapTokensAtAmount', 'matched_var_exp': 'swapTokensAtAmount = _tTotal / 5000', 'isEq': Eq(_tTotal/5000, 15.0)}, {'info': (['futureBurn', 'supplyReduction', 'ongoingTokenBurn'], '0.15', 100, '\\n  More ENIX tokens will be burned at various points in the future until 15% of the total supply has been burned.\\n    '), 'Is the fee found': 'No', 'matched_var_name': 'DEAD', 'matched_var_exp': 'DEAD = 0x000000000000000000000000000000000000dEaD', 'isEq': False}, {'info': (['futureBurn', 'supplyReduction', 'ongoingTokenBurn'], '0.15', 100, '\\n  More ENIX tokens will be burned at various points in the future until 15% of the total supply has been burned.\\n    '), 'Is the fee found': 'No', 'matched_var_name': '_rTotal', 'matched_var_exp': '_rTotal = ( MAX - ( MAX % _tTotal ) )', 'isEq': Eq(MAX - Mod(MAX, _tTotal), 15.0)}, {'info': (['futureBurn', 'supplyReduction', 'ongoingTokenBurn'], '0.15', 100, '\\n  More ENIX tokens will be burned at various points in the future until 15% of the total supply has been burned.\\n    '), 'Is the fee found': 'No', 'matched_var_name': '_name', 'matched_var_exp': '_name = \"ASENIX\"', 'isEq': Eq(ASENIX, 15.0)}]\n",
      "info=(['futureBurn', 'supplyReduction', 'ongoingTokenBurn'], '0.15', 100, '\\n  More ENIX tokens will be burned at various points in the future until 15% of the total supply has been burned.\\n    '), Is the fee found='No', matched_var_name='swapTokensAtAmount', matched_var_exp='swapTokensAtAmount = _tTotal / 5000', isEq=Eq(_tTotal/5000, 15.0)\n"
     ]
    },
    {
     "data": {
      "text/plain": [
       "\"## whitepaper\\n\\n### Item v0\\n\\n   &ensp;**info**\\n   &emsp; \\n- Description: \\n    ENIX is an BEP20 token on the Binance Smart Chain, with a maximum supply of 500,000,000 tokens.\\n     \\n   - Possible Var Names from ChatGPT: ['ENIX_MAX_SUPPLY', 'TOKEN_MAX_SUPPLY', 'BEP20_MAX_SUPPLY'] \\n   - Expression:  500000000 \\n\\n\\n   &ensp;**Is the fee found**\\n    No\\n\\n   &ensp;**matched_var_name**\\n    _rTotal\\n\\n   &ensp;**matched_var_exp**\\n    _rTotal = ( MAX - ( MAX % _tTotal ) )\\n\\n   &ensp;**isEq**\\n    Eq(MAX - Mod(MAX, _tTotal), 500000000000000000000000000)\\n\\n### Item v0_\\n\\n   &ensp;**info**\\n   &emsp; \\n- Description: \\n    ENIX is an BEP20 token on the Binance Smart Chain, with a maximum supply of 500,000,000 tokens.\\n     \\n   - Possible Var Names from ChatGPT: ['ENIX_MAX_SUPPLY', 'TOKEN_MAX_SUPPLY', 'BEP20_MAX_SUPPLY'] \\n   - Expression:  500000000*10 ** 18 \\n\\n\\n   &ensp;**Is the fee found**\\n    No\\n\\n   &ensp;**matched_var_name**\\n    _rTotal\\n\\n   &ensp;**matched_var_exp**\\n    _rTotal = ( MAX - ( MAX % _tTotal ) )\\n\\n   &ensp;**isEq**\\n    Eq(MAX - Mod(MAX, _tTotal), 500000000000000000000000000)\\n\\n### Item v1\\n\\n   &ensp;**info**\\n   &emsp; \\n- Description: \\n    Every trade contributes 3% to the liquidity pool, resulting in a growing price floor and a sustainable token.\\n     \\n   - Possible Var Names from ChatGPT: ['liquidityFee', 'tradeContributionFee', 'sustainableTokenFee'] \\n   - Expression:  0.03 \\n\\n\\n   &ensp;**Is the fee found**\\n    Yes\\n\\n   &ensp;**matched_var_name**\\n    liquidityFeeonBuy\\n\\n   &ensp;**matched_var_exp**\\n    liquidityFeeonBuy = 3\\n\\n   &ensp;**isEq**\\n    True\\n\\n### Item v2\\n\\n   &ensp;**info**\\n   &emsp; \\n- Description: \\n   2% of every buy and sell transaction is divided among all present holders in proportion to their holdings. \\n     \\n   - Possible Var Names from ChatGPT: ['distributionFee', 'proportionalFee', 'transactionReward'] \\n   - Expression:  0.02 \\n\\n\\n   &ensp;**Is the fee found**\\n    Yes\\n\\n   &ensp;**matched_var_name**\\n    MarketingFee\\n\\n   &ensp;**matched_var_exp**\\n    MarketingFee = 2\\n\\n   &ensp;**isEq**\\n    True\\n\\n### Item v3\\n\\n   &ensp;**info**\\n   &emsp; \\n- Description: \\n    4% of all transactions are automatically transferred to the Development/ Research wallet. \\n     \\n   - Possible Var Names from ChatGPT: ['developmentFee', 'researchWalletFee', 'transactionAllocation'] \\n   - Expression:  0.04 \\n\\n\\n   &ensp;**Is the fee found**\\n    No\\n\\n   &ensp;**matched_var_name**\\n    holdersFee\\n\\n   &ensp;**matched_var_exp**\\n    holdersFee = 2\\n\\n   &ensp;**isEq**\\n    False\\n\\n### Item v4\\n\\n   &ensp;**info**\\n   &emsp; \\n- Description: \\n   To establish deflationary conditions for the token, 2.5% (12,500,000 tokens) were sent to a burn address (0x000) immediately after the contract was deployed. \\n     \\n   - Possible Var Names from ChatGPT: ['burnFee', 'deflationaryAllocation', 'initialTokenBurn'] \\n   - Expression:  0.025 \\n\\n\\n   &ensp;**Is the fee found**\\n    No\\n\\n   &ensp;**matched_var_name**\\n    holdersFee\\n\\n   &ensp;**matched_var_exp**\\n    holdersFee = 2\\n\\n   &ensp;**isEq**\\n    False\\n\\n### Item v5\\n\\n   &ensp;**info**\\n   &emsp; \\n- Description: \\n  More ENIX tokens will be burned at various points in the future until 15% of the total supply has been burned.\\n     \\n   - Possible Var Names from ChatGPT: ['futureBurn', 'supplyReduction', 'ongoingTokenBurn'] \\n   - Expression:  0.15 \\n\\n\\n   &ensp;**Is the fee found**\\n    No\\n\\n   &ensp;**matched_var_name**\\n    swapTokensAtAmount\\n\\n   &ensp;**matched_var_exp**\\n    swapTokensAtAmount = _tTotal / 5000\\n\\n   &ensp;**isEq**\\n    Eq(_tTotal/5000, 15.0)\\n\\n\\n## hidden_fee_function\\n\\n### _getRate\\n\\n  &ensp;** Possible Values **:\\n _rTotal/_tTotal\\n\\n### calculateTaxFee\\n\\n  &ensp;** Possible Values **:\\n _amount*_taxFee/100\\n\\n### calculateLiquidityFee\\n\\n  &ensp;** Possible Values **:\\n _amount*_liquidityFee/100\\n\\n### calculateBurnFee\\n\\n  &ensp;** Possible Values **:\\n _amount*_burnFee/100\\n\\n### isExcludedFromFee\\n\\n  &ensp;** Possible Values **:\\n _isExcludedFromFees_account_\\n\\n\\n## hidden_fee_var\\n\\n### _tFeeTotal\\n\\n  &ensp;** Possible Values **:\\n _tFeeTotal + tAmount, \\n _tFeeTotal + tFee\\n\\n### currentRate\\n\\n  &ensp;** Possible Values **:\\n _rTotal/_tTotal, \\n _rTotal/_tTotal, \\n _rTotal/_tTotal\\n\\n### tFee\\n\\n  &ensp;** Possible Values **:\\n _amount*_taxFee/100, \\n _amount*_taxFee/100, \\n _amount*_taxFee/100, \\n _amount*_taxFee/100, \\n _amount*_taxFee/100, \\n _amount*_taxFee/100\\n\\n### rFee\\n\\n  &ensp;** Possible Values **:\\n currentRate*tFee, \\n currentRate*tFee, \\n currentRate*tFee, \\n currentRate*tFee, \\n currentRate*tFee, \\n currentRate*tFee\\n\\n### _taxFee\\n\\n  &ensp;** Possible Values **:\\n 0, \\n 11, \\n 4\\n\\n### _burnFee\\n\\n  &ensp;** Possible Values **:\\n 0, \\n 0, \\n 0\\n\\n### _liquidityFee\\n\\n  &ensp;** Possible Values **:\\n 0, \\n 3, \\n 3\\n\\n### _isExcludedFromFees_account_\\n\\n  &ensp;** Possible Values **:\\n excluded\\n\\n\\n\""
      ]
     },
     "execution_count": 4,
     "metadata": {},
     "output_type": "execute_result"
    }
   ],
   "source": [
    "check_res = checkRevenueModel(var_names_chatgpt, code,top_K = 5)\n",
    "dict_to_markdown(check_res, \"./repo_check/ico/ASENIX/ASENIX-token-Smart-contract/revenue_ASENIX.md\")"
   ]
  }
 ],
 "metadata": {
  "kernelspec": {
   "display_name": "web3",
   "language": "python",
   "name": "python3"
  },
  "language_info": {
   "codemirror_mode": {
    "name": "ipython",
    "version": 3
   },
   "file_extension": ".py",
   "mimetype": "text/x-python",
   "name": "python",
   "nbconvert_exporter": "python",
   "pygments_lexer": "ipython3",
   "version": "3.8.16"
  },
  "orig_nbformat": 4
 },
 "nbformat": 4,
 "nbformat_minor": 2
}
